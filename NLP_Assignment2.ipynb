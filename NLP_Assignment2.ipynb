{
  "nbformat": 4,
  "nbformat_minor": 0,
  "metadata": {
    "colab": {
      "name": "NLP Assignment2.ipynb",
      "version": "0.3.2",
      "provenance": [],
      "collapsed_sections": [],
      "toc_visible": true,
      "include_colab_link": true
    },
    "kernelspec": {
      "name": "python3",
      "display_name": "Python 3"
    }
  },
  "cells": [
    {
      "cell_type": "markdown",
      "metadata": {
        "id": "view-in-github",
        "colab_type": "text"
      },
      "source": [
        "<a href=\"https://colab.research.google.com/github/TheoLiapik/Sidiras_Liapikos2/blob/master/NLP_Assignment2.ipynb\" target=\"_parent\"><img src=\"https://colab.research.google.com/assets/colab-badge.svg\" alt=\"Open In Colab\"/></a>"
      ]
    },
    {
      "metadata": {
        "id": "V8h7BXNa_AHr",
        "colab_type": "text"
      },
      "cell_type": "markdown",
      "source": [
        "![alt text](https://www.auth.gr/sites/default/files/banner-horizontal-282x100.png)\n",
        "# Text Mining and Natural Language Processing - Assignment 2\n",
        "\n",
        "\n",
        "** Text Classification using Word Embeddings**\n",
        "<br>\n",
        "**Potentially useful library documentation, references, and resources**:\n",
        "\n",
        "* IPython notebooks: <https://ipython.org/ipython-doc/3/notebook/notebook.html#introduction>\n",
        "* Numpy numerical array library: <https://docs.scipy.org/doc/>\n",
        "* Gensim's word2vec: <https://radimrehurek.com/gensim/models/word2vec.html>\n",
        "* Keras Deep-Learning library: <https://keras.io/layers/embeddings/>\n",
        "* Bokeh interactive plots: <http://bokeh.pydata.org/en/latest/> (we provide plotting code here, but click the thumbnails for more examples to copy-paste)\n",
        "* scikit-learn ML library (aka `sklearn`): <http://scikit-learn.org/stable/documentation.html>\n",
        "* nltk NLP toolkit: <http://www.nltk.org/>\n",
        "* tutorial for processing xml in python using `lxml`: <http://lxml.de/tutorial.html> (we did this for you below, but in case you need it in the future)\n",
        "\n",
        "\n",
        "TESTTTT"
      ]
    },
    {
      "metadata": {
        "id": "DpiibVTO3lMG",
        "colab_type": "code",
        "outputId": "a5ddab93-01b5-407c-e91d-7f5a277ca3fc",
        "colab": {
          "base_uri": "https://localhost:8080/",
          "height": 52
        }
      },
      "cell_type": "code",
      "source": [
        "import bokeh\n",
        "import gensim\n",
        "import numpy as np\n",
        "# import os\n",
        "# from random import shuffle\n",
        "import re\n",
        "import urllib.request\n",
        "import zipfile\n",
        "\n",
        "import nltk\n",
        "nltk.download('stopwords')\n",
        "from nltk.corpus import stopwords"
      ],
      "execution_count": 1,
      "outputs": [
        {
          "output_type": "stream",
          "text": [
            "[nltk_data] Downloading package stopwords to /root/nltk_data...\n",
            "[nltk_data]   Unzipping corpora/stopwords.zip.\n"
          ],
          "name": "stdout"
        }
      ]
    },
    {
      "metadata": {
        "id": "GsG--w-sOPzJ",
        "colab_type": "text"
      },
      "cell_type": "markdown",
      "source": [
        "#Part 1"
      ]
    },
    {
      "metadata": {
        "id": "8ywrCrDahvTk",
        "colab_type": "text"
      },
      "cell_type": "markdown",
      "source": [
        "## 1.1. Train a Word2Vec model on the WikiText dataset"
      ]
    },
    {
      "metadata": {
        "id": "fJztXrJRMy00",
        "colab_type": "text"
      },
      "cell_type": "markdown",
      "source": [
        "### 1.1.1 Download Dataset"
      ]
    },
    {
      "metadata": {
        "id": "FmnIJSbRdgWx",
        "colab_type": "code",
        "outputId": "85995ffc-f3dd-4fe0-f031-da0acbdc512e",
        "colab": {
          "base_uri": "https://localhost:8080/",
          "height": 34
        }
      },
      "cell_type": "code",
      "source": [
        "# Import necessary Libraries\n",
        "import urllib.request\n",
        "import zipfile\n",
        "# import lxml.etree\n",
        "\n",
        "# Download the dataset ~190MB\n",
        "urllib.request.urlretrieve(\"https://s3.amazonaws.com/research.metamind.io/wikitext/wikitext-103-v1.zip\", filename=\"wikitext-103-v1.zip\")"
      ],
      "execution_count": 2,
      "outputs": [
        {
          "output_type": "execute_result",
          "data": {
            "text/plain": [
              "('wikitext-103-v1.zip', <http.client.HTTPMessage at 0x7f2827cff5c0>)"
            ]
          },
          "metadata": {
            "tags": []
          },
          "execution_count": 2
        }
      ]
    },
    {
      "metadata": {
        "id": "u6anXhJHeMkZ",
        "colab_type": "code",
        "outputId": "2511ddf3-6315-40a5-d9ea-22a86539aa55",
        "colab": {
          "base_uri": "https://localhost:8080/",
          "height": 54
        }
      },
      "cell_type": "code",
      "source": [
        "# Extract only the data of interest\n",
        "# From the .zip file open and read only the training tokens\n",
        "with zipfile.ZipFile('wikitext-103-v1.zip', 'r') as z:\n",
        "  doc = z.open('wikitext-103/wiki.train.tokens', 'r').read()\n",
        "\n",
        "# The first 500 bytes of data\n",
        "print(doc[:500])"
      ],
      "execution_count": 3,
      "outputs": [
        {
          "output_type": "stream",
          "text": [
            "b' \\n = Valkyria Chronicles III = \\n \\n Senj\\xc5\\x8d no Valkyria 3 : <unk> Chronicles ( Japanese : \\xe6\\x88\\xa6\\xe5\\xa0\\xb4\\xe3\\x81\\xae\\xe3\\x83\\xb4\\xe3\\x82\\xa1\\xe3\\x83\\xab\\xe3\\x82\\xad\\xe3\\x83\\xa5\\xe3\\x83\\xaa\\xe3\\x82\\xa23 , lit . Valkyria of the Battlefield 3 ) , commonly referred to as Valkyria Chronicles III outside Japan , is a tactical role @-@ playing video game developed by Sega and Media.Vision for the PlayStation Portable . Released in January 2011 in Japan , it is the third game in the Valkyria series . Employing the same fusion of tactical and real @-@ time gameplay as its predecessors'\n"
          ],
          "name": "stdout"
        }
      ]
    },
    {
      "metadata": {
        "id": "TiCt3-UgM5IK",
        "colab_type": "text"
      },
      "cell_type": "markdown",
      "source": [
        "### 1.1.2 Data Pre-processing"
      ]
    },
    {
      "metadata": {
        "id": "Ylhj68BonFRe",
        "colab_type": "code",
        "outputId": "1d271d68-34b8-4879-e50c-c385868cb19d",
        "colab": {
          "base_uri": "https://localhost:8080/",
          "height": 54
        }
      },
      "cell_type": "code",
      "source": [
        "# Convert bytes to string and then split to paragraphs\n",
        "doc_str = doc.decode(\"utf-8\")\n",
        "doc_para  = doc_str.split('\\n')\n",
        "\n",
        "# the first 5 paragraphs\n",
        "print(doc_para[:5])"
      ],
      "execution_count": 4,
      "outputs": [
        {
          "output_type": "stream",
          "text": [
            "[' ', ' = Valkyria Chronicles III = ', ' ', ' Senjō no Valkyria 3 : <unk> Chronicles ( Japanese : 戦場のヴァルキュリア3 , lit . Valkyria of the Battlefield 3 ) , commonly referred to as Valkyria Chronicles III outside Japan , is a tactical role @-@ playing video game developed by Sega and Media.Vision for the PlayStation Portable . Released in January 2011 in Japan , it is the third game in the Valkyria series . Employing the same fusion of tactical and real @-@ time gameplay as its predecessors , the story runs parallel to the first game and follows the \" Nameless \" , a penal military unit serving the nation of Gallia during the Second Europan War who perform secret black operations and are pitted against the Imperial unit \" <unk> Raven \" . ', \" The game began development in 2010 , carrying over a large portion of the work done on Valkyria Chronicles II . While it retained the standard features of the series , it also underwent multiple adjustments , such as making the game more forgiving for series newcomers . Character designer <unk> Honjou and composer Hitoshi Sakimoto both returned from previous entries , along with Valkyria Chronicles II director Takeshi Ozawa . A large team of writers handled the script . The game 's opening theme was sung by May 'n . \"]\n"
          ],
          "name": "stdout"
        }
      ]
    },
    {
      "metadata": {
        "id": "NZehUqMOn6vv",
        "colab_type": "code",
        "colab": {}
      },
      "cell_type": "code",
      "source": [
        "# Extract only the data of interest\n",
        "# From the .zip file open and read only the training tokens\n",
        "with zipfile.ZipFile('preproc_no_stop_words_data.csv.zip', 'r') as z:\n",
        "  doc = z.open('preproc_no_stop_words_data.csv', 'r').read()\n",
        "\n",
        "# The first 500 bytes of data\n",
        "print(doc[:500])"
      ],
      "execution_count": 0,
      "outputs": []
    },
    {
      "metadata": {
        "id": "C11cpwv1Q1TE",
        "colab_type": "text"
      },
      "cell_type": "markdown",
      "source": [
        "#### 1.1.2.1 Basic pre-processing procedure\n",
        "For each paragraph of the data:\n",
        "- Remove multiple space characters\n",
        "- Remove empty paragraphs\n",
        "- Lower the characters\n",
        "- Remove non-Alpharethmetic characters\n",
        "- Remove created multiple space characters\n",
        "- Tokenize (split on space characters)\n",
        "- Remove stop-words\n",
        "- Remove words with less than 2 characters\n",
        "- Save the remaining tokens to a list\n"
      ]
    },
    {
      "metadata": {
        "id": "JyTt3FjVQzzN",
        "colab_type": "code",
        "colab": {}
      },
      "cell_type": "code",
      "source": [
        "doc_para_noEmpties = []\n",
        "for para in doc_para:\n",
        "    para = re.sub(r'\\s+', ' ',para)\n",
        "    if para != ' ':\n",
        "        para = para.lower()\n",
        "        para = re.sub(r'[^a-z0-9]+', ' ',para)\n",
        "        para = re.sub(r'\\s+', ' ',para)\n",
        "        para = para.split(' ')\n",
        "        para = [word for word in para if word not in stopwords.words('english')]\n",
        "        para = [word for word in para if len(word)>1]\n",
        "        para = para[1:-1]\n",
        "        doc_para_noEmpties.append(para)\n"
      ],
      "execution_count": 0,
      "outputs": []
    },
    {
      "metadata": {
        "id": "Jg0jyPXgeFdl",
        "colab_type": "text"
      },
      "cell_type": "markdown",
      "source": [
        "### 1.1.3 Store and Load Data Locally"
      ]
    },
    {
      "metadata": {
        "id": "PehANHz0eXof",
        "colab_type": "text"
      },
      "cell_type": "markdown",
      "source": [
        "The duration of data preprocessing procedure is extremly long (> 4 h).  After completion I saved (takes a couple of minutes) the clean data to a .csv file, to use it locally from Drive.\n",
        "\n",
        "You can download the .csv file from this link:\n",
        "[preproc_clean_data.csv](https://drive.google.com/open?id=12pTNWZ-wquyuGzSzsgp87e1FLb-xcBIs)\n"
      ]
    },
    {
      "metadata": {
        "id": "DijjxUPfUWKZ",
        "colab_type": "text"
      },
      "cell_type": "markdown",
      "source": [
        "#### 1.1.3.1 Connect to personal Google Drive"
      ]
    },
    {
      "metadata": {
        "id": "SK0tl14Rirge",
        "colab_type": "code",
        "outputId": "263a5a1c-71ce-40fe-b955-5c51b70d5698",
        "colab": {
          "base_uri": "https://localhost:8080/",
          "height": 124
        }
      },
      "cell_type": "code",
      "source": [
        "# Connect to personal Google Drive\n",
        "from google.colab import drive\n",
        "drive.mount('/content/drive/',force_remount=True)"
      ],
      "execution_count": 6,
      "outputs": [
        {
          "output_type": "stream",
          "text": [
            "Go to this URL in a browser: https://accounts.google.com/o/oauth2/auth?client_id=947318989803-6bn6qk8qdgf4n4g3pfee6491hc0brc4i.apps.googleusercontent.com&redirect_uri=urn%3Aietf%3Awg%3Aoauth%3A2.0%3Aoob&scope=email%20https%3A%2F%2Fwww.googleapis.com%2Fauth%2Fdocs.test%20https%3A%2F%2Fwww.googleapis.com%2Fauth%2Fdrive%20https%3A%2F%2Fwww.googleapis.com%2Fauth%2Fdrive.photos.readonly%20https%3A%2F%2Fwww.googleapis.com%2Fauth%2Fpeopleapi.readonly&response_type=code\n",
            "\n",
            "Enter your authorization code:\n",
            "··········\n",
            "Mounted at /content/drive/\n"
          ],
          "name": "stdout"
        }
      ]
    },
    {
      "metadata": {
        "id": "OkxvT5okrlLh",
        "colab_type": "text"
      },
      "cell_type": "markdown",
      "source": [
        "#### 1.1.3.2 Store Clean Data to Drive"
      ]
    },
    {
      "metadata": {
        "id": "2KC_4pSmWisN",
        "colab_type": "code",
        "colab": {}
      },
      "cell_type": "code",
      "source": [
        "# Save data to local .csv file\n",
        "import csv\n",
        "\n",
        "with open(\"/content/drive/My Drive/NLP Assignment 2/preproc_clean_data.csv\", \"w\") as f:\n",
        "    writer = csv.writer(f)\n",
        "    writer.writerows(doc_para_noEmpties)"
      ],
      "execution_count": 0,
      "outputs": []
    },
    {
      "metadata": {
        "id": "02OiE2ZNb_Ck",
        "colab_type": "text"
      },
      "cell_type": "markdown",
      "source": [
        "#### 1.1.3.3 Load Clean Data from Drive"
      ]
    },
    {
      "metadata": {
        "id": "6bCX1xgwn6gX",
        "colab_type": "code",
        "colab": {}
      },
      "cell_type": "code",
      "source": [
        "# Recover data from local .csv file\n",
        "import csv\n",
        "\n",
        "doc_para_noEmpties = []\n",
        "with open(\"/content/drive/My Drive/NLP Assignment 2/preproc_clean_data.csv\", \"r\") as f:\n",
        "    reader = csv.reader(f)\n",
        "    for row in reader:\n",
        "        doc_para_noEmpties.append(row)"
      ],
      "execution_count": 0,
      "outputs": []
    },
    {
      "metadata": {
        "id": "nkrt4uZtBLeL",
        "colab_type": "code",
        "outputId": "1cd7ed50-63b0-4db7-8693-684f30e5a1cf",
        "colab": {
          "base_uri": "https://localhost:8080/",
          "height": 54
        }
      },
      "cell_type": "code",
      "source": [
        "# The first 6 paragraphs from restored data\n",
        "print(doc_para_noEmpties[:6])"
      ],
      "execution_count": 10,
      "outputs": [
        {
          "output_type": "stream",
          "text": [
            "[['valkyria', 'chronicles', 'iii'], ['senj', 'valkyria', '3', 'unk', 'chronicles', 'japanese', '3', 'lit', 'valkyria', 'battlefield', '3', 'commonly', 'referred', 'valkyria', 'chronicles', 'iii', 'outside', 'japan', 'tactical', 'role', 'playing', 'video', 'game', 'developed', 'sega', 'media', 'vision', 'playstation', 'portable', 'released', 'january', '2011', 'japan', 'third', 'game', 'valkyria', 'series', 'employing', 'fusion', 'tactical', 'real', 'time', 'gameplay', 'predecessors', 'story', 'runs', 'parallel', 'first', 'game', 'follows', 'nameless', 'penal', 'military', 'unit', 'serving', 'nation', 'gallia', 'second', 'europan', 'war', 'perform', 'secret', 'black', 'operations', 'pitted', 'imperial', 'unit', 'unk', 'raven'], ['game', 'began', 'development', '2010', 'carrying', 'large', 'portion', 'work', 'done', 'valkyria', 'chronicles', 'ii', 'retained', 'standard', 'features', 'series', 'also', 'underwent', 'multiple', 'adjustments', 'making', 'game', 'forgiving', 'series', 'newcomers', 'character', 'designer', 'unk', 'honjou', 'composer', 'hitoshi', 'sakimoto', 'returned', 'previous', 'entries', 'along', 'valkyria', 'chronicles', 'ii', 'director', 'takeshi', 'ozawa', 'large', 'team', 'writers', 'handled', 'script', 'game', 'opening', 'theme', 'sung', 'may', 'n'], ['met', 'positive', 'sales', 'japan', 'praised', 'japanese', 'western', 'critics', 'release', 'received', 'downloadable', 'content', 'along', 'expanded', 'edition', 'november', 'year', 'also', 'adapted', 'manga', 'original', 'video', 'animation', 'series', 'due', 'low', 'sales', 'valkyria', 'chronicles', 'ii', 'valkyria', 'chronicles', 'iii', 'localized', 'fan', 'translation', 'compatible', 'game', 'expanded', 'edition', 'released', '2014', 'media', 'vision', 'would', 'return', 'franchise', 'development', 'valkyria', 'azure', 'revolution', 'playstation', '4'], ['gameplay'], ['previous', 'unk', 'chronicles', 'games', 'valkyria', 'chronicles', 'iii', 'tactical', 'role', 'playing', 'game', 'players', 'take', 'control', 'military', 'unit', 'take', 'part', 'missions', 'enemy', 'forces', 'stories', 'told', 'comic', 'book', 'like', 'panels', 'animated', 'character', 'portraits', 'characters', 'speaking', 'partially', 'voiced', 'speech', 'bubbles', 'partially', 'unvoiced', 'text', 'player', 'progresses', 'series', 'linear', 'missions', 'gradually', 'unlocked', 'maps', 'freely', 'scanned', 'replayed', 'unlocked', 'route', 'story', 'location', 'map', 'varies', 'depending', 'individual', 'player', 'approach', 'one', 'option', 'selected', 'sealed', 'player', 'outside', 'missions', 'player', 'characters', 'rest', 'camp', 'units', 'customized', 'character', 'growth', 'occurs', 'alongside', 'main', 'story', 'missions', 'character', 'specific', 'sub', 'missions', 'relating', 'different', 'squad', 'members', 'game', 'completion', 'additional', 'episodes', 'unlocked', 'higher', 'difficulty', 'found', 'rest', 'game', 'also', 'love', 'simulation', 'elements', 'related', 'game', 'two', 'main', 'heroines', 'although', 'take', 'minor', 'role']]\n"
          ],
          "name": "stdout"
        }
      ]
    },
    {
      "metadata": {
        "id": "W1cBbTCfjwUH",
        "colab_type": "text"
      },
      "cell_type": "markdown",
      "source": [
        "### 1.1.4 Training the Word2Vec model on Dataset"
      ]
    },
    {
      "metadata": {
        "id": "Wqbhrp28kt0D",
        "colab_type": "text"
      },
      "cell_type": "markdown",
      "source": [
        "#### 1.1.4.1 Setting model's parameters:\n",
        "- **window** (int, optional) – Maximum distance between the current and predicted word within a sentence\n",
        "- **size** (int, optional) – Dimensionality of the word vectors\n",
        "- **sg** ({0, 1}, optional) – Training algorithm: 1 for skip-gram; otherwise CBOW\n",
        "- **min_count** (int, optional) – Ignores all words with total frequency lower than this\n",
        "- **workers** (int, optional) – Use these many worker threads to train the model"
      ]
    },
    {
      "metadata": {
        "id": "olFLWr9qh0fl",
        "colab_type": "code",
        "outputId": "2d839e73-55e7-47ef-92f6-6494f63e8c49",
        "colab": {
          "base_uri": "https://localhost:8080/",
          "height": 69
        }
      },
      "cell_type": "code",
      "source": [
        "from gensim.models import Word2Vec\n",
        "\n",
        "model = Word2Vec(window=4,size=100,sg=1,min_count=10,workers = -1)\n",
        "model.build_vocab(doc_para_noEmpties)  # Building the model vocabulary\n",
        "model.train(doc_para_noEmpties,total_examples=model.corpus_count,epochs=model.iter)\n"
      ],
      "execution_count": 13,
      "outputs": [
        {
          "output_type": "stream",
          "text": [
            "/usr/local/lib/python3.6/dist-packages/ipykernel_launcher.py:5: DeprecationWarning: Call to deprecated `iter` (Attribute will be removed in 4.0.0, use self.epochs instead).\n",
            "  \"\"\"\n"
          ],
          "name": "stderr"
        },
        {
          "output_type": "execute_result",
          "data": {
            "text/plain": [
              "(0, 0)"
            ]
          },
          "metadata": {
            "tags": []
          },
          "execution_count": 13
        }
      ]
    },
    {
      "metadata": {
        "id": "lBszLshgh0Y6",
        "colab_type": "code",
        "outputId": "cc1410eb-4f66-453c-fc98-fea34d22e0cd",
        "colab": {
          "base_uri": "https://localhost:8080/",
          "height": 52
        }
      },
      "cell_type": "code",
      "source": [
        "# Model's Vocabulary\n",
        "vocab = model.wv.vocab\n",
        "print('Vocabulary size:')\n",
        "print(len(vocab))"
      ],
      "execution_count": 14,
      "outputs": [
        {
          "output_type": "stream",
          "text": [
            "Vocabulary size:\n",
            "110775\n"
          ],
          "name": "stdout"
        }
      ]
    },
    {
      "metadata": {
        "id": "ciRyk-iqh0Oh",
        "colab_type": "code",
        "outputId": "65ad1bb5-126e-4002-9dd0-696911d1cfd4",
        "colab": {
          "base_uri": "https://localhost:8080/",
          "height": 34
        }
      },
      "cell_type": "code",
      "source": [
        "# 10 most frequent words\n",
        "mfw = model.wv.index2word[:10]\n",
        "print(mfw)"
      ],
      "execution_count": 15,
      "outputs": [
        {
          "output_type": "stream",
          "text": [
            "['unk', 'first', 'one', 'also', 'two', 'new', 'would', 'time', 'game', 'later']\n"
          ],
          "name": "stdout"
        }
      ]
    },
    {
      "metadata": {
        "id": "7SzqYCvnpb5k",
        "colab_type": "text"
      },
      "cell_type": "markdown",
      "source": [
        "### 1.1.5 Find the 5 most similar word pairs from the 10 most frequent words"
      ]
    },
    {
      "metadata": {
        "id": "bBToNIs3h0Hb",
        "colab_type": "code",
        "outputId": "67fa5fa6-89b1-4b6b-865e-0b1fac8992d8",
        "colab": {
          "base_uri": "https://localhost:8080/",
          "height": 159
        }
      },
      "cell_type": "code",
      "source": [
        "import operator\n",
        "\n",
        "# Use dictionary structure to store word pairs and their similarity\n",
        "similar_pairs = {}\n",
        "\n",
        "# Compare each of the 10 most frequent words against the others and find similarity\n",
        "for p1 in mfw:\n",
        "  # restrict_vocab parameter restricts comparison to the 10 most frequent words\n",
        "    pairs = model.wv.most_similar(p1, restrict_vocab=10)\n",
        "    for p2,sim in pairs:\n",
        "        similar_pairs[(p1, p2)] = sim\n",
        "\n",
        "# Sort dictionary's data by values\n",
        "sorted_similar_pairs = sorted(similar_pairs.items(), key=operator.itemgetter(1), reverse=True)\n",
        "\n",
        "# Since every pair appears twice, I keep every other element of the ordered list\n",
        "sorted_similar_pairs = sorted_similar_pairs[0:10:2]\n",
        "\n",
        "# Print pairs\n",
        "for pair in sorted_similar_pairs:\n",
        "  print(pair)\n"
      ],
      "execution_count": 0,
      "outputs": [
        {
          "output_type": "stream",
          "text": [
            "(('two', 'game'), 0.16303664445877075)\n",
            "(('one', 'also'), 0.14168795943260193)\n",
            "(('first', 'one'), 0.11034416407346725)\n",
            "(('also', 'time'), 0.10560930520296097)\n",
            "(('unk', 'first'), 0.09578090906143188)\n"
          ],
          "name": "stdout"
        },
        {
          "output_type": "stream",
          "text": [
            "/usr/local/lib/python3.6/dist-packages/gensim/matutils.py:737: FutureWarning: Conversion of the second argument of issubdtype from `int` to `np.signedinteger` is deprecated. In future, it will be treated as `np.int64 == np.dtype(int).type`.\n",
            "  if np.issubdtype(vec.dtype, np.int):\n"
          ],
          "name": "stderr"
        }
      ]
    },
    {
      "metadata": {
        "id": "kjFD19Safrd5",
        "colab_type": "code",
        "colab": {}
      },
      "cell_type": "code",
      "source": [
        ""
      ],
      "execution_count": 0,
      "outputs": []
    },
    {
      "metadata": {
        "id": "n7JaKzUf0wzp",
        "colab_type": "code",
        "colab": {}
      },
      "cell_type": "code",
      "source": [
        ""
      ],
      "execution_count": 0,
      "outputs": []
    },
    {
      "metadata": {
        "id": "CuyBXtMrvjfC",
        "colab_type": "text"
      },
      "cell_type": "markdown",
      "source": [
        "## 1.2. Implement a function that retrieves two word vectors and computes their cosine distance"
      ]
    },
    {
      "metadata": {
        "id": "st2AsYNthz_b",
        "colab_type": "code",
        "colab": {}
      },
      "cell_type": "code",
      "source": [
        "# A function taking as input a trained word2vec model and two strings and then\n",
        "# manually computes and returns their cosine distance\n",
        "def cosVecDist(w2vModel, str1, str2):\n",
        "    # Use model to find vector representation of strings\n",
        "    vstr1 = w2vModel.wv[str1]\n",
        "    vstr2 = w2vModel.wv[str2]\n",
        "    # Cosine distance of two vectors equals to the dot product of vectors\n",
        "    # divided by the product of vectrors' legths\n",
        "    # The dot product of two 1-D vectors can be computed using numpy.dot() function\n",
        "    dotProd = np.dot(vstr1,vstr2)\n",
        "    # The length of a 1-D vector can be computed using numpy.linalg.norm() function\n",
        "    # The default value of ord parameter (ord=None), returns the 2-norm of vectors\n",
        "    length1 = np.linalg.norm(vstr1, ord=None)\n",
        "    length2 = np.linalg.norm(vstr2, ord=None)\n",
        "    # Cosine distance of the vectors\n",
        "    cosDist = dotProd/(length1*length2)\n",
        "    return(cosDist)"
      ],
      "execution_count": 0,
      "outputs": []
    },
    {
      "metadata": {
        "id": "_r14X-pAxXOS",
        "colab_type": "text"
      },
      "cell_type": "markdown",
      "source": [
        "### 1.2.1 Comparing the two approaches"
      ]
    },
    {
      "metadata": {
        "id": "RvPnhgE-xUqM",
        "colab_type": "code",
        "outputId": "67fa88b6-6e8d-4116-a796-c1513346b696",
        "colab": {
          "base_uri": "https://localhost:8080/",
          "height": 106
        }
      },
      "cell_type": "code",
      "source": [
        "# Words to examine\n",
        "word1 = 'first'\n",
        "word2 = 'unk'\n",
        "\n",
        "print(\"Cosine distance using Word2Vec model:\", model.wv.similarity(word1, word2))\n",
        "print(\"Cosine distance using function:\", cosVecDist(model, word1, word2))"
      ],
      "execution_count": 0,
      "outputs": [
        {
          "output_type": "stream",
          "text": [
            "Cosine distance using Word2Vec model: -0.13914557\n",
            "Cosine distance using function: -0.13914555\n"
          ],
          "name": "stdout"
        },
        {
          "output_type": "stream",
          "text": [
            "/usr/local/lib/python3.6/dist-packages/gensim/matutils.py:737: FutureWarning: Conversion of the second argument of issubdtype from `int` to `np.signedinteger` is deprecated. In future, it will be treated as `np.int64 == np.dtype(int).type`.\n",
            "  if np.issubdtype(vec.dtype, np.int):\n"
          ],
          "name": "stderr"
        }
      ]
    },
    {
      "metadata": {
        "id": "E0rI5-O3gwjl",
        "colab_type": "code",
        "colab": {}
      },
      "cell_type": "code",
      "source": [
        ""
      ],
      "execution_count": 0,
      "outputs": []
    },
    {
      "metadata": {
        "id": "4htm8GBBgwQG",
        "colab_type": "code",
        "colab": {}
      },
      "cell_type": "code",
      "source": [
        ""
      ],
      "execution_count": 0,
      "outputs": []
    },
    {
      "metadata": {
        "id": "z_ANqLSxMarZ",
        "colab_type": "text"
      },
      "cell_type": "markdown",
      "source": [
        "##1.3.     Visit the NLPL word embedding repository and download the models with the following identifiers: \n",
        "\n",
        "- 40. It was trained on the English CoNLL17 corpus, using Continuous Skip-gram algorithm with vector size 100, and window size 10.\n",
        "- 75. It was trained on the English Oil and Gas corpus, using Continuous Bag-of-Words algorithm with vector size 400, and window size 5.\n",
        "- 82. It was trained on the English Common Crawl Corpus, using GloVe algorithm with vector size 300, and window size 10."
      ]
    },
    {
      "metadata": {
        "id": "IkgUSbdINvOs",
        "colab_type": "code",
        "colab": {}
      },
      "cell_type": "code",
      "source": [
        "import urllib.request"
      ],
      "execution_count": 0,
      "outputs": []
    },
    {
      "metadata": {
        "id": "3NRo4v5qf5z2",
        "colab_type": "text"
      },
      "cell_type": "markdown",
      "source": [
        "### 1.3.1 CoNLL17 corpus"
      ]
    },
    {
      "metadata": {
        "id": "ChjgZImvM-cY",
        "colab_type": "code",
        "colab": {}
      },
      "cell_type": "code",
      "source": [
        "# Downloading CoNLL17 corpus ~1.5GB\n",
        "urllib.request.urlretrieve(\"http://vectors.nlpl.eu/repository/11/40.zip\", filename=\"40.zip\")\n"
      ],
      "execution_count": 0,
      "outputs": []
    },
    {
      "metadata": {
        "id": "KJYLIL4vgB34",
        "colab_type": "text"
      },
      "cell_type": "markdown",
      "source": [
        "### 1.3.2 Oil and Gas corpus"
      ]
    },
    {
      "metadata": {
        "id": "xJlfAgU1M-DX",
        "colab_type": "code",
        "outputId": "6d62e7d6-a18f-47b1-8b28-101ab13ef33b",
        "colab": {
          "base_uri": "https://localhost:8080/",
          "height": 34
        }
      },
      "cell_type": "code",
      "source": [
        "# Downloading Oil and Gas corpus ~0.4GB\n",
        "urllib.request.urlretrieve(\"http://vectors.nlpl.eu/repository/11/75.zip\", filename=\"75.zip\")\n"
      ],
      "execution_count": 0,
      "outputs": [
        {
          "output_type": "execute_result",
          "data": {
            "text/plain": [
              "('75.zip', <http.client.HTTPMessage at 0x7f8ee8369710>)"
            ]
          },
          "metadata": {
            "tags": []
          },
          "execution_count": 48
        }
      ]
    },
    {
      "metadata": {
        "id": "cW1qJ2IEgEFz",
        "colab_type": "text"
      },
      "cell_type": "markdown",
      "source": [
        "### 1.3.3 Common Crawl corpus"
      ]
    },
    {
      "metadata": {
        "id": "WpNsKTukxUYt",
        "colab_type": "code",
        "outputId": "a1a42cea-e8de-45ec-b677-ffa0b0f9e5a5",
        "colab": {
          "base_uri": "https://localhost:8080/",
          "height": 34
        }
      },
      "cell_type": "code",
      "source": [
        "# Downloading Oil and Gas corpus ~2.3GB\n",
        "urllib.request.urlretrieve(\"http://vectors.nlpl.eu/repository/11/82.zip\", filename=\"82.zip\")\n"
      ],
      "execution_count": 0,
      "outputs": [
        {
          "output_type": "execute_result",
          "data": {
            "text/plain": [
              "('82.zip', <http.client.HTTPMessage at 0x7f8ee83697f0>)"
            ]
          },
          "metadata": {
            "tags": []
          },
          "execution_count": 49
        }
      ]
    },
    {
      "metadata": {
        "id": "GUcqrBQ0gsBm",
        "colab_type": "code",
        "colab": {}
      },
      "cell_type": "code",
      "source": [
        ""
      ],
      "execution_count": 0,
      "outputs": []
    },
    {
      "metadata": {
        "id": "k7HTMT6tgtKe",
        "colab_type": "code",
        "colab": {}
      },
      "cell_type": "code",
      "source": [
        ""
      ],
      "execution_count": 0,
      "outputs": []
    },
    {
      "metadata": {
        "id": "Xlton0kxNAC4",
        "colab_type": "text"
      },
      "cell_type": "markdown",
      "source": [
        "##1.4. Create the lists of top 20 most frequent words in WikiText, CoNLL17, Oil and Gas, and Common Crawl corpora"
      ]
    },
    {
      "metadata": {
        "id": "kMRXghbfPDVs",
        "colab_type": "code",
        "colab": {}
      },
      "cell_type": "code",
      "source": [
        "import zipfile"
      ],
      "execution_count": 0,
      "outputs": []
    },
    {
      "metadata": {
        "id": "z_Uw9qYMhz4U",
        "colab_type": "code",
        "colab": {}
      },
      "cell_type": "code",
      "source": [
        "# Dictionary structure to store 20 most frequent words of each corpus\n",
        "twentyFreqWords = {}"
      ],
      "execution_count": 0,
      "outputs": []
    },
    {
      "metadata": {
        "id": "Eq5EROnfbr4w",
        "colab_type": "text"
      },
      "cell_type": "markdown",
      "source": [
        "### 1.4.1 Wiki Text"
      ]
    },
    {
      "metadata": {
        "id": "FZX6o7S_hMc1",
        "colab_type": "text"
      },
      "cell_type": "markdown",
      "source": [
        "Just use the wv.index2word function on the model trained at stage 1.4"
      ]
    },
    {
      "metadata": {
        "id": "wYvIWs6dcxP4",
        "colab_type": "code",
        "outputId": "9841c531-0a0d-40ff-8710-0da47b16f2ef",
        "colab": {
          "base_uri": "https://localhost:8080/",
          "height": 34
        }
      },
      "cell_type": "code",
      "source": [
        "# 20 most frequent words\n",
        "wiki_mfw = model.wv.index2word[:20]\n",
        "twentyFreqWords['WikiText'] = wiki_mfw\n",
        "print(twentyFreqWords['WikiText'])"
      ],
      "execution_count": 0,
      "outputs": [
        {
          "output_type": "stream",
          "text": [
            "['unk', 'first', 'one', 'also', 'two', 'new', 'time', 'would', '1', 'game', 'later', 'three', '2', 'film', 'may', 'year', 'made', '3', 'second', 'season']\n"
          ],
          "name": "stdout"
        }
      ]
    },
    {
      "metadata": {
        "id": "u_7MXE1EiKUL",
        "colab_type": "text"
      },
      "cell_type": "markdown",
      "source": [
        "For the downloaded pre-trained embeddings I follow a differnt approach. Since each model is saved as a text file in the word2vec format, its lines are as a rule sorted by frequency. Each word and its vector corresponds to a paragraph of the .txt file. Furthermore, the first paragraph of the txt. file holds informations about the length of the vocabulary and the dimensionality of the vectors. So I just have to read the first few ten thousents of bytes, accordind to vector's dimensionality and make sure to include at least the first 22 paragraphs.\n",
        "\n",
        "For each model I repeat the following steps:\n",
        "- Extract and read part of the model.txt file stored in the downloaded .zip file\n",
        "- Convert the text bytes to string and split to paragraphs \n",
        "- Tokenize each paragraph to words\n",
        "- Ignore the first paragraph and keep the first word of the following 20 paragraphs to list\n"
      ]
    },
    {
      "metadata": {
        "id": "n5wDtjHeUMZI",
        "colab_type": "text"
      },
      "cell_type": "markdown",
      "source": [
        "### 1.4.2 CoNLL17 corpus"
      ]
    },
    {
      "metadata": {
        "id": "Xt5M1d9Yhzp2",
        "colab_type": "code",
        "colab": {}
      },
      "cell_type": "code",
      "source": [
        "# Use the model.txt file inside the .zip file\n",
        "# Read only the first 20000 bytes\n",
        "with zipfile.ZipFile('40.zip', 'r') as z:\n",
        "  doc40 = z.open('model.txt', 'r').read(20000)\n"
      ],
      "execution_count": 0,
      "outputs": []
    },
    {
      "metadata": {
        "id": "U4Xgtb-7TVoW",
        "colab_type": "code",
        "colab": {}
      },
      "cell_type": "code",
      "source": [
        "# Convert bytes to string and then split to paragraphs\n",
        "doc_str = doc40.decode(\"utf-8\")\n",
        "doc_para  = doc_str.split('\\n')"
      ],
      "execution_count": 0,
      "outputs": []
    },
    {
      "metadata": {
        "id": "uigW1pb8hzh9",
        "colab_type": "code",
        "colab": {}
      },
      "cell_type": "code",
      "source": [
        "# Check if sample includes at least the first 22 paragraphs\n",
        "len(doc_para)"
      ],
      "execution_count": 0,
      "outputs": []
    },
    {
      "metadata": {
        "id": "EBLkJMD5FZK7",
        "colab_type": "code",
        "colab": {}
      },
      "cell_type": "code",
      "source": [
        "para_list = []\n",
        "for i in range(20):\n",
        "  # Ignore the first paragraph\n",
        "  para = doc_para[i+1].split(' ')[0]\n",
        "  para_list.append(para)\n",
        "\n",
        "# Save list to dictionary\n",
        "twentyFreqWords['40:CoNLL15'] = para_list"
      ],
      "execution_count": 0,
      "outputs": []
    },
    {
      "metadata": {
        "id": "KelxareuaPSo",
        "colab_type": "code",
        "outputId": "4b8d6520-2f0d-4fed-9afe-f4e612c018a5",
        "colab": {
          "base_uri": "https://localhost:8080/",
          "height": 34
        }
      },
      "cell_type": "code",
      "source": [
        "print(twentyFreqWords['40:CoNLL15'])"
      ],
      "execution_count": 0,
      "outputs": [
        {
          "output_type": "stream",
          "text": [
            "['</s>', ',', 'the', '.', 'of', 'and', 'to', 'a', 'in', '-', ')', '(', ':', 'for', 'is', '\"', 'on', 'i', 'that', 'with']\n"
          ],
          "name": "stdout"
        }
      ]
    },
    {
      "metadata": {
        "id": "gU09fUxWUaVY",
        "colab_type": "text"
      },
      "cell_type": "markdown",
      "source": [
        "### 1.4.3 Oil and Gas corpus"
      ]
    },
    {
      "metadata": {
        "id": "21W_tU1HU6Vd",
        "colab_type": "text"
      },
      "cell_type": "markdown",
      "source": [
        "Same procedure as above"
      ]
    },
    {
      "metadata": {
        "id": "vs52GZpHEWTH",
        "colab_type": "code",
        "colab": {}
      },
      "cell_type": "code",
      "source": [
        "with zipfile.ZipFile('75.zip', 'r') as z:\n",
        "  doc75 = z.open('model.txt', 'r').read(80000)"
      ],
      "execution_count": 0,
      "outputs": []
    },
    {
      "metadata": {
        "id": "MuQ0KHnQBuun",
        "colab_type": "code",
        "colab": {}
      },
      "cell_type": "code",
      "source": [
        "doc_str = doc75.decode(\"utf-8\")\n",
        "doc_para  = doc_str.split('\\n')"
      ],
      "execution_count": 0,
      "outputs": []
    },
    {
      "metadata": {
        "id": "675xe1ciRL-5",
        "colab_type": "code",
        "outputId": "c130bfa1-e7f1-40f2-8f42-08daef9c9592",
        "colab": {
          "base_uri": "https://localhost:8080/",
          "height": 34
        }
      },
      "cell_type": "code",
      "source": [
        "len(doc_para)"
      ],
      "execution_count": 0,
      "outputs": [
        {
          "output_type": "execute_result",
          "data": {
            "text/plain": [
              "23"
            ]
          },
          "metadata": {
            "tags": []
          },
          "execution_count": 64
        }
      ]
    },
    {
      "metadata": {
        "id": "BR3ftSkeRLvo",
        "colab_type": "code",
        "colab": {}
      },
      "cell_type": "code",
      "source": [
        "para_list = []\n",
        "for i in range(20):\n",
        "  para = doc_para[i+1].split(' ')[0]\n",
        "  para_list.append(para)\n",
        "\n",
        "twentyFreqWords['75:OilAndGas'] = para_list"
      ],
      "execution_count": 0,
      "outputs": []
    },
    {
      "metadata": {
        "id": "GT-m57YRZ5lP",
        "colab_type": "code",
        "outputId": "451d01b4-45d9-4480-94c3-cccb8ab807e7",
        "colab": {
          "base_uri": "https://localhost:8080/",
          "height": 34
        }
      },
      "cell_type": "code",
      "source": [
        "print(twentyFreqWords['75:OilAndGas'])"
      ],
      "execution_count": 0,
      "outputs": [
        {
          "output_type": "stream",
          "text": [
            "['lrb', 'rrb', 'sediment', 'fault', 'datum', 'basin', 'sample', 'area', 'study', 'model', 'result', 'zone', 'water', 'rock', 'time', 'formation', 'high', 'surface', 'increase', 'change']\n"
          ],
          "name": "stdout"
        }
      ]
    },
    {
      "metadata": {
        "id": "LE6H-iUFVnyE",
        "colab_type": "text"
      },
      "cell_type": "markdown",
      "source": [
        "### 1.4.4 Common Crawl corpus"
      ]
    },
    {
      "metadata": {
        "id": "CVqMzsupVyca",
        "colab_type": "text"
      },
      "cell_type": "markdown",
      "source": [
        "Same procedure as above"
      ]
    },
    {
      "metadata": {
        "id": "9CDkr2eRhzY2",
        "colab_type": "code",
        "colab": {}
      },
      "cell_type": "code",
      "source": [
        "with zipfile.ZipFile('82.zip', 'r') as z:\n",
        "  doc82 = z.open('model.txt', 'r').read(60000)"
      ],
      "execution_count": 0,
      "outputs": []
    },
    {
      "metadata": {
        "id": "70KUtrHwhzSe",
        "colab_type": "code",
        "colab": {}
      },
      "cell_type": "code",
      "source": [
        "doc_str = doc82.decode(\"utf-8\")\n",
        "doc_para  = doc_str.split('\\n')"
      ],
      "execution_count": 0,
      "outputs": []
    },
    {
      "metadata": {
        "id": "kS9jXqNnhzFt",
        "colab_type": "code",
        "outputId": "f0816540-be22-4630-c4d2-5afb18afd159",
        "colab": {
          "base_uri": "https://localhost:8080/",
          "height": 34
        }
      },
      "cell_type": "code",
      "source": [
        "len(doc_para)"
      ],
      "execution_count": 0,
      "outputs": [
        {
          "output_type": "execute_result",
          "data": {
            "text/plain": [
              "23"
            ]
          },
          "metadata": {
            "tags": []
          },
          "execution_count": 68
        }
      ]
    },
    {
      "metadata": {
        "id": "5GyqryFnWuIC",
        "colab_type": "code",
        "colab": {}
      },
      "cell_type": "code",
      "source": [
        "para_list = []\n",
        "for i in range(20):\n",
        "  para = doc_para[i+1].split(' ')[0]\n",
        "  para_list.append(para)\n",
        "\n",
        "twentyFreqWords['82:CommonCrawl'] = para_list"
      ],
      "execution_count": 0,
      "outputs": []
    },
    {
      "metadata": {
        "id": "pfy7RuM0hy3B",
        "colab_type": "code",
        "outputId": "cfe35986-33af-45af-c9a9-d06623b5ef09",
        "colab": {
          "base_uri": "https://localhost:8080/",
          "height": 34
        }
      },
      "cell_type": "code",
      "source": [
        "print(twentyFreqWords['82:CommonCrawl'])"
      ],
      "execution_count": 0,
      "outputs": [
        {
          "output_type": "stream",
          "text": [
            "['the', ',', '.', 'and', 'to', 'of', 'a', 'in', 'is', 'that', 'i', 'for', 'it', 'you', 'on', \"'s\", 'with', '-rrb-', '-lrb-', 'as']\n"
          ],
          "name": "stdout"
        }
      ]
    },
    {
      "metadata": {
        "id": "UEUSeWqxhygs",
        "colab_type": "code",
        "colab": {}
      },
      "cell_type": "code",
      "source": [
        ""
      ],
      "execution_count": 0,
      "outputs": []
    },
    {
      "metadata": {
        "id": "ayNaEb5htpc2",
        "colab_type": "text"
      },
      "cell_type": "markdown",
      "source": [
        "## 1.5. Comparison of the 4 word lists"
      ]
    },
    {
      "metadata": {
        "id": "p4F01j4DgooL",
        "colab_type": "code",
        "outputId": "94d78a26-003c-41de-8b11-a26cc20a64c5",
        "colab": {
          "base_uri": "https://localhost:8080/",
          "height": 382
        }
      },
      "cell_type": "code",
      "source": [
        "import pandas as pd\n",
        "print(pd.DataFrame.from_dict(twentyFreqWords))"
      ],
      "execution_count": 0,
      "outputs": [
        {
          "output_type": "stream",
          "text": [
            "   40:CoNLL15 75:OilAndGas 82:CommonCrawl WikiText\n",
            "0        </s>          lrb            the      unk\n",
            "1           ,          rrb              ,    first\n",
            "2         the     sediment              .      one\n",
            "3           .        fault            and     also\n",
            "4          of        datum             to      two\n",
            "5         and        basin             of      new\n",
            "6          to       sample              a     time\n",
            "7           a         area             in    would\n",
            "8          in        study             is        1\n",
            "9           -        model           that     game\n",
            "10          )       result              i    later\n",
            "11          (         zone            for    three\n",
            "12          :        water             it        2\n",
            "13        for         rock            you     film\n",
            "14         is         time             on      may\n",
            "15          \"    formation             's     year\n",
            "16         on         high           with     made\n",
            "17          i      surface          -rrb-        3\n",
            "18       that     increase          -lrb-   second\n",
            "19       with       change             as   season\n"
          ],
          "name": "stdout"
        }
      ]
    },
    {
      "metadata": {
        "id": "Fq8H-IL7uGdd",
        "colab_type": "text"
      },
      "cell_type": "markdown",
      "source": [
        "### CONCLUSIONS +++++"
      ]
    },
    {
      "metadata": {
        "id": "DToa6OhsuWSI",
        "colab_type": "text"
      },
      "cell_type": "markdown",
      "source": [
        ""
      ]
    },
    {
      "metadata": {
        "id": "sKZGQMYzuYA_",
        "colab_type": "code",
        "colab": {}
      },
      "cell_type": "code",
      "source": [
        ""
      ],
      "execution_count": 0,
      "outputs": []
    },
    {
      "metadata": {
        "id": "KZeoyVxluY0C",
        "colab_type": "code",
        "colab": {}
      },
      "cell_type": "code",
      "source": [
        ""
      ],
      "execution_count": 0,
      "outputs": []
    },
    {
      "metadata": {
        "id": "CY1neSNcud0T",
        "colab_type": "text"
      },
      "cell_type": "markdown",
      "source": [
        "## 1.6. Project top 1000 words from the WikiText corpus in 2d space using t-SNE plot"
      ]
    },
    {
      "metadata": {
        "id": "fIs9lDUowAJ6",
        "colab_type": "text"
      },
      "cell_type": "markdown",
      "source": [
        "I use the model trained at stage 1.4"
      ]
    },
    {
      "metadata": {
        "id": "bBZL60xDgoXj",
        "colab_type": "code",
        "outputId": "da31cf60-e1ec-4d54-b4ba-3847ba2f970b",
        "colab": {
          "base_uri": "https://localhost:8080/",
          "height": 34
        }
      },
      "cell_type": "code",
      "source": [
        "# Get the 1000 most frequent words from the model\n",
        "mfw1000 = model.wv.index2word[:1000]\n",
        "print(mfw1000[:20])"
      ],
      "execution_count": 0,
      "outputs": [
        {
          "output_type": "stream",
          "text": [
            "['unk', 'first', 'one', 'also', 'two', 'new', 'time', 'would', '1', 'game', 'later', 'three', '2', 'film', 'may', 'year', 'made', '3', 'second', 'season']\n"
          ],
          "name": "stdout"
        }
      ]
    },
    {
      "metadata": {
        "id": "N2bZ-N1CgoHN",
        "colab_type": "code",
        "outputId": "a6e7776c-cbba-4951-d8df-7fa70841216a",
        "colab": {
          "base_uri": "https://localhost:8080/",
          "height": 486
        }
      },
      "cell_type": "code",
      "source": [
        "# Get the vector representation of each word in the list\n",
        "mfw1000_vecs = model[mfw1000]\n",
        "print(mfw1000_vecs[0])"
      ],
      "execution_count": 0,
      "outputs": [
        {
          "output_type": "stream",
          "text": [
            "[ 1.47761646e-04  1.07161689e-03  2.27355654e-03  1.92095339e-03\n",
            " -4.87833371e-04  3.35289724e-03 -2.19175359e-03 -4.87670349e-03\n",
            " -1.51283143e-03 -4.98566683e-03 -1.01529632e-03  2.03938340e-03\n",
            "  1.12626632e-03  4.01004683e-03  1.21699483e-03 -7.29101070e-04\n",
            "  4.27638227e-03  1.21140001e-04 -2.93809967e-03  1.26606406e-04\n",
            "  3.88412480e-03  3.86882573e-03  9.08360875e-04  4.77449066e-04\n",
            " -3.23545327e-03  2.13446561e-03  4.94797388e-03 -3.42166843e-03\n",
            " -4.31272946e-03  4.75997152e-03  3.41241830e-04  2.24042870e-03\n",
            "  9.90613713e-04 -3.68155329e-03 -4.96310042e-03  4.53399261e-03\n",
            " -3.63560463e-03 -4.52226354e-03  4.59181843e-03  3.65262968e-03\n",
            "  5.24567033e-04  3.24147433e-04 -1.27301167e-03  1.24365825e-03\n",
            " -2.85936473e-03  1.93480181e-03 -2.72928411e-03 -3.57214571e-03\n",
            " -5.08439553e-04  1.33589958e-03  1.51434378e-03  1.66018493e-03\n",
            " -3.76853044e-03 -9.76204406e-04 -3.69871780e-03 -3.34803737e-03\n",
            " -3.80634167e-03  3.72588052e-03 -4.72331513e-03  1.45649584e-03\n",
            " -3.86419590e-03 -5.18125482e-04  1.52780605e-03 -1.69129495e-03\n",
            "  2.14352552e-03 -1.21393811e-03  1.39946307e-04  1.18635234e-03\n",
            " -8.23253009e-04  4.55217622e-03  4.62095626e-03  1.04391831e-03\n",
            " -6.30178198e-04  1.29918521e-03  4.57556313e-03 -4.79267817e-03\n",
            " -1.08690583e-03  1.87616621e-03 -2.07216153e-03 -8.08737241e-04\n",
            " -8.78472580e-04 -4.12232056e-03 -1.48137182e-03 -4.08668118e-03\n",
            "  2.63400580e-05 -4.48564114e-03  2.25167518e-04 -9.39665479e-04\n",
            " -3.05523979e-03  2.21652258e-03  3.70115304e-04  2.79448694e-03\n",
            " -1.83478114e-03  4.96974774e-03  3.20546655e-03  2.38393666e-03\n",
            " -1.16344614e-04  2.19822768e-03 -1.42021850e-03  1.96263287e-03]\n"
          ],
          "name": "stdout"
        },
        {
          "output_type": "stream",
          "text": [
            "/usr/local/lib/python3.6/dist-packages/ipykernel_launcher.py:1: DeprecationWarning: Call to deprecated `__getitem__` (Method will be removed in 4.0.0, use self.wv.__getitem__() instead).\n",
            "  \"\"\"Entry point for launching an IPython kernel.\n"
          ],
          "name": "stderr"
        }
      ]
    },
    {
      "metadata": {
        "id": "szvibxfJgn0J",
        "colab_type": "code",
        "outputId": "e4436f54-6ab3-4d45-affd-b359e0533806",
        "colab": {
          "base_uri": "https://localhost:8080/",
          "height": 647
        }
      },
      "cell_type": "code",
      "source": [
        "from bokeh.models import ColumnDataSource, LabelSet\n",
        "from bokeh.plotting import figure, show, output_file\n",
        "from sklearn.manifold import TSNE\n",
        "from bokeh.io import output_notebook\n",
        "output_notebook()\n",
        "\n",
        "tsne = TSNE(n_components=2, random_state=42)\n",
        "mfw1000_vecs_tsne = tsne.fit_transform(mfw1000_vecs)\n",
        "\n",
        "p = figure(tools=\"pan,wheel_zoom,box_zoom,reset,save\",\n",
        "           toolbar_location=\"above\",\n",
        "           title=\"Word2Vec T-SNE for the 1000 most common words\",\n",
        "           plot_width=800)\n",
        "\n",
        "source = ColumnDataSource(data=dict(x1=mfw1000_vecs_tsne[:,0],\n",
        "                                    x2=mfw1000_vecs_tsne[:,1],\n",
        "                                    names=mfw1000))\n",
        "\n",
        "p.scatter(x=\"x1\", y=\"x2\", size=8, source=source)\n",
        "\n",
        "labels = LabelSet(x=\"x1\", y=\"x2\", text=\"names\", y_offset=6,\n",
        "                  text_font_size=\"7pt\", text_color=\"#555555\",\n",
        "                  source=source, text_align='center')\n",
        "p.add_layout(labels)\n",
        "\n",
        "show(p)"
      ],
      "execution_count": 0,
      "outputs": [
        {
          "output_type": "display_data",
          "data": {
            "text/html": [
              "\n",
              "    <div class=\"bk-root\">\n",
              "        <a href=\"https://bokeh.pydata.org\" target=\"_blank\" class=\"bk-logo bk-logo-small bk-logo-notebook\"></a>\n",
              "        <span id=\"1576\">Loading BokehJS ...</span>\n",
              "    </div>"
            ]
          },
          "metadata": {
            "tags": []
          }
        },
        {
          "output_type": "display_data",
          "data": {
            "application/javascript": [
              "\n",
              "(function(root) {\n",
              "  function now() {\n",
              "    return new Date();\n",
              "  }\n",
              "\n",
              "  var force = true;\n",
              "\n",
              "  if (typeof (root._bokeh_onload_callbacks) === \"undefined\" || force === true) {\n",
              "    root._bokeh_onload_callbacks = [];\n",
              "    root._bokeh_is_loading = undefined;\n",
              "  }\n",
              "\n",
              "  var JS_MIME_TYPE = 'application/javascript';\n",
              "  var HTML_MIME_TYPE = 'text/html';\n",
              "  var EXEC_MIME_TYPE = 'application/vnd.bokehjs_exec.v0+json';\n",
              "  var CLASS_NAME = 'output_bokeh rendered_html';\n",
              "\n",
              "  /**\n",
              "   * Render data to the DOM node\n",
              "   */\n",
              "  function render(props, node) {\n",
              "    var script = document.createElement(\"script\");\n",
              "    node.appendChild(script);\n",
              "  }\n",
              "\n",
              "  /**\n",
              "   * Handle when an output is cleared or removed\n",
              "   */\n",
              "  function handleClearOutput(event, handle) {\n",
              "    var cell = handle.cell;\n",
              "\n",
              "    var id = cell.output_area._bokeh_element_id;\n",
              "    var server_id = cell.output_area._bokeh_server_id;\n",
              "    // Clean up Bokeh references\n",
              "    if (id != null && id in Bokeh.index) {\n",
              "      Bokeh.index[id].model.document.clear();\n",
              "      delete Bokeh.index[id];\n",
              "    }\n",
              "\n",
              "    if (server_id !== undefined) {\n",
              "      // Clean up Bokeh references\n",
              "      var cmd = \"from bokeh.io.state import curstate; print(curstate().uuid_to_server['\" + server_id + \"'].get_sessions()[0].document.roots[0]._id)\";\n",
              "      cell.notebook.kernel.execute(cmd, {\n",
              "        iopub: {\n",
              "          output: function(msg) {\n",
              "            var id = msg.content.text.trim();\n",
              "            if (id in Bokeh.index) {\n",
              "              Bokeh.index[id].model.document.clear();\n",
              "              delete Bokeh.index[id];\n",
              "            }\n",
              "          }\n",
              "        }\n",
              "      });\n",
              "      // Destroy server and session\n",
              "      var cmd = \"import bokeh.io.notebook as ion; ion.destroy_server('\" + server_id + \"')\";\n",
              "      cell.notebook.kernel.execute(cmd);\n",
              "    }\n",
              "  }\n",
              "\n",
              "  /**\n",
              "   * Handle when a new output is added\n",
              "   */\n",
              "  function handleAddOutput(event, handle) {\n",
              "    var output_area = handle.output_area;\n",
              "    var output = handle.output;\n",
              "\n",
              "    // limit handleAddOutput to display_data with EXEC_MIME_TYPE content only\n",
              "    if ((output.output_type != \"display_data\") || (!output.data.hasOwnProperty(EXEC_MIME_TYPE))) {\n",
              "      return\n",
              "    }\n",
              "\n",
              "    var toinsert = output_area.element.find(\".\" + CLASS_NAME.split(' ')[0]);\n",
              "\n",
              "    if (output.metadata[EXEC_MIME_TYPE][\"id\"] !== undefined) {\n",
              "      toinsert[toinsert.length - 1].firstChild.textContent = output.data[JS_MIME_TYPE];\n",
              "      // store reference to embed id on output_area\n",
              "      output_area._bokeh_element_id = output.metadata[EXEC_MIME_TYPE][\"id\"];\n",
              "    }\n",
              "    if (output.metadata[EXEC_MIME_TYPE][\"server_id\"] !== undefined) {\n",
              "      var bk_div = document.createElement(\"div\");\n",
              "      bk_div.innerHTML = output.data[HTML_MIME_TYPE];\n",
              "      var script_attrs = bk_div.children[0].attributes;\n",
              "      for (var i = 0; i < script_attrs.length; i++) {\n",
              "        toinsert[toinsert.length - 1].firstChild.setAttribute(script_attrs[i].name, script_attrs[i].value);\n",
              "      }\n",
              "      // store reference to server id on output_area\n",
              "      output_area._bokeh_server_id = output.metadata[EXEC_MIME_TYPE][\"server_id\"];\n",
              "    }\n",
              "  }\n",
              "\n",
              "  function register_renderer(events, OutputArea) {\n",
              "\n",
              "    function append_mime(data, metadata, element) {\n",
              "      // create a DOM node to render to\n",
              "      var toinsert = this.create_output_subarea(\n",
              "        metadata,\n",
              "        CLASS_NAME,\n",
              "        EXEC_MIME_TYPE\n",
              "      );\n",
              "      this.keyboard_manager.register_events(toinsert);\n",
              "      // Render to node\n",
              "      var props = {data: data, metadata: metadata[EXEC_MIME_TYPE]};\n",
              "      render(props, toinsert[toinsert.length - 1]);\n",
              "      element.append(toinsert);\n",
              "      return toinsert\n",
              "    }\n",
              "\n",
              "    /* Handle when an output is cleared or removed */\n",
              "    events.on('clear_output.CodeCell', handleClearOutput);\n",
              "    events.on('delete.Cell', handleClearOutput);\n",
              "\n",
              "    /* Handle when a new output is added */\n",
              "    events.on('output_added.OutputArea', handleAddOutput);\n",
              "\n",
              "    /**\n",
              "     * Register the mime type and append_mime function with output_area\n",
              "     */\n",
              "    OutputArea.prototype.register_mime_type(EXEC_MIME_TYPE, append_mime, {\n",
              "      /* Is output safe? */\n",
              "      safe: true,\n",
              "      /* Index of renderer in `output_area.display_order` */\n",
              "      index: 0\n",
              "    });\n",
              "  }\n",
              "\n",
              "  // register the mime type if in Jupyter Notebook environment and previously unregistered\n",
              "  if (root.Jupyter !== undefined) {\n",
              "    var events = require('base/js/events');\n",
              "    var OutputArea = require('notebook/js/outputarea').OutputArea;\n",
              "\n",
              "    if (OutputArea.prototype.mime_types().indexOf(EXEC_MIME_TYPE) == -1) {\n",
              "      register_renderer(events, OutputArea);\n",
              "    }\n",
              "  }\n",
              "\n",
              "  \n",
              "  if (typeof (root._bokeh_timeout) === \"undefined\" || force === true) {\n",
              "    root._bokeh_timeout = Date.now() + 5000;\n",
              "    root._bokeh_failed_load = false;\n",
              "  }\n",
              "\n",
              "  var NB_LOAD_WARNING = {'data': {'text/html':\n",
              "     \"<div style='background-color: #fdd'>\\n\"+\n",
              "     \"<p>\\n\"+\n",
              "     \"BokehJS does not appear to have successfully loaded. If loading BokehJS from CDN, this \\n\"+\n",
              "     \"may be due to a slow or bad network connection. Possible fixes:\\n\"+\n",
              "     \"</p>\\n\"+\n",
              "     \"<ul>\\n\"+\n",
              "     \"<li>re-rerun `output_notebook()` to attempt to load from CDN again, or</li>\\n\"+\n",
              "     \"<li>use INLINE resources instead, as so:</li>\\n\"+\n",
              "     \"</ul>\\n\"+\n",
              "     \"<code>\\n\"+\n",
              "     \"from bokeh.resources import INLINE\\n\"+\n",
              "     \"output_notebook(resources=INLINE)\\n\"+\n",
              "     \"</code>\\n\"+\n",
              "     \"</div>\"}};\n",
              "\n",
              "  function display_loaded() {\n",
              "    var el = document.getElementById(\"1576\");\n",
              "    if (el != null) {\n",
              "      el.textContent = \"BokehJS is loading...\";\n",
              "    }\n",
              "    if (root.Bokeh !== undefined) {\n",
              "      if (el != null) {\n",
              "        el.textContent = \"BokehJS \" + root.Bokeh.version + \" successfully loaded.\";\n",
              "      }\n",
              "    } else if (Date.now() < root._bokeh_timeout) {\n",
              "      setTimeout(display_loaded, 100)\n",
              "    }\n",
              "  }\n",
              "\n",
              "\n",
              "  function run_callbacks() {\n",
              "    try {\n",
              "      root._bokeh_onload_callbacks.forEach(function(callback) { callback() });\n",
              "    }\n",
              "    finally {\n",
              "      delete root._bokeh_onload_callbacks\n",
              "    }\n",
              "    console.info(\"Bokeh: all callbacks have finished\");\n",
              "  }\n",
              "\n",
              "  function load_libs(js_urls, callback) {\n",
              "    root._bokeh_onload_callbacks.push(callback);\n",
              "    if (root._bokeh_is_loading > 0) {\n",
              "      console.log(\"Bokeh: BokehJS is being loaded, scheduling callback at\", now());\n",
              "      return null;\n",
              "    }\n",
              "    if (js_urls == null || js_urls.length === 0) {\n",
              "      run_callbacks();\n",
              "      return null;\n",
              "    }\n",
              "    console.log(\"Bokeh: BokehJS not loaded, scheduling load and callback at\", now());\n",
              "    root._bokeh_is_loading = js_urls.length;\n",
              "    for (var i = 0; i < js_urls.length; i++) {\n",
              "      var url = js_urls[i];\n",
              "      var s = document.createElement('script');\n",
              "      s.src = url;\n",
              "      s.async = false;\n",
              "      s.onreadystatechange = s.onload = function() {\n",
              "        root._bokeh_is_loading--;\n",
              "        if (root._bokeh_is_loading === 0) {\n",
              "          console.log(\"Bokeh: all BokehJS libraries loaded\");\n",
              "          run_callbacks()\n",
              "        }\n",
              "      };\n",
              "      s.onerror = function() {\n",
              "        console.warn(\"failed to load library \" + url);\n",
              "      };\n",
              "      console.log(\"Bokeh: injecting script tag for BokehJS library: \", url);\n",
              "      document.getElementsByTagName(\"head\")[0].appendChild(s);\n",
              "    }\n",
              "  };var element = document.getElementById(\"1576\");\n",
              "  if (element == null) {\n",
              "    console.log(\"Bokeh: ERROR: autoload.js configured with elementid '1576' but no matching script tag was found. \")\n",
              "    return false;\n",
              "  }\n",
              "\n",
              "  var js_urls = [\"https://cdn.pydata.org/bokeh/release/bokeh-1.0.2.min.js\", \"https://cdn.pydata.org/bokeh/release/bokeh-widgets-1.0.2.min.js\", \"https://cdn.pydata.org/bokeh/release/bokeh-tables-1.0.2.min.js\", \"https://cdn.pydata.org/bokeh/release/bokeh-gl-1.0.2.min.js\"];\n",
              "\n",
              "  var inline_js = [\n",
              "    function(Bokeh) {\n",
              "      Bokeh.set_log_level(\"info\");\n",
              "    },\n",
              "    \n",
              "    function(Bokeh) {\n",
              "      \n",
              "    },\n",
              "    function(Bokeh) {\n",
              "      console.log(\"Bokeh: injecting CSS: https://cdn.pydata.org/bokeh/release/bokeh-1.0.2.min.css\");\n",
              "      Bokeh.embed.inject_css(\"https://cdn.pydata.org/bokeh/release/bokeh-1.0.2.min.css\");\n",
              "      console.log(\"Bokeh: injecting CSS: https://cdn.pydata.org/bokeh/release/bokeh-widgets-1.0.2.min.css\");\n",
              "      Bokeh.embed.inject_css(\"https://cdn.pydata.org/bokeh/release/bokeh-widgets-1.0.2.min.css\");\n",
              "      console.log(\"Bokeh: injecting CSS: https://cdn.pydata.org/bokeh/release/bokeh-tables-1.0.2.min.css\");\n",
              "      Bokeh.embed.inject_css(\"https://cdn.pydata.org/bokeh/release/bokeh-tables-1.0.2.min.css\");\n",
              "    }\n",
              "  ];\n",
              "\n",
              "  function run_inline_js() {\n",
              "    \n",
              "    if ((root.Bokeh !== undefined) || (force === true)) {\n",
              "      for (var i = 0; i < inline_js.length; i++) {\n",
              "        inline_js[i].call(root, root.Bokeh);\n",
              "      }if (force === true) {\n",
              "        display_loaded();\n",
              "      }} else if (Date.now() < root._bokeh_timeout) {\n",
              "      setTimeout(run_inline_js, 100);\n",
              "    } else if (!root._bokeh_failed_load) {\n",
              "      console.log(\"Bokeh: BokehJS failed to load within specified timeout.\");\n",
              "      root._bokeh_failed_load = true;\n",
              "    } else if (force !== true) {\n",
              "      var cell = $(document.getElementById(\"1576\")).parents('.cell').data().cell;\n",
              "      cell.output_area.append_execute_result(NB_LOAD_WARNING)\n",
              "    }\n",
              "\n",
              "  }\n",
              "\n",
              "  if (root._bokeh_is_loading === 0) {\n",
              "    console.log(\"Bokeh: BokehJS loaded, going straight to plotting\");\n",
              "    run_inline_js();\n",
              "  } else {\n",
              "    load_libs(js_urls, function() {\n",
              "      console.log(\"Bokeh: BokehJS plotting callback run at\", now());\n",
              "      run_inline_js();\n",
              "    });\n",
              "  }\n",
              "}(window));"
            ],
            "application/vnd.bokehjs_load.v0+json": "\n(function(root) {\n  function now() {\n    return new Date();\n  }\n\n  var force = true;\n\n  if (typeof (root._bokeh_onload_callbacks) === \"undefined\" || force === true) {\n    root._bokeh_onload_callbacks = [];\n    root._bokeh_is_loading = undefined;\n  }\n\n  \n\n  \n  if (typeof (root._bokeh_timeout) === \"undefined\" || force === true) {\n    root._bokeh_timeout = Date.now() + 5000;\n    root._bokeh_failed_load = false;\n  }\n\n  var NB_LOAD_WARNING = {'data': {'text/html':\n     \"<div style='background-color: #fdd'>\\n\"+\n     \"<p>\\n\"+\n     \"BokehJS does not appear to have successfully loaded. If loading BokehJS from CDN, this \\n\"+\n     \"may be due to a slow or bad network connection. Possible fixes:\\n\"+\n     \"</p>\\n\"+\n     \"<ul>\\n\"+\n     \"<li>re-rerun `output_notebook()` to attempt to load from CDN again, or</li>\\n\"+\n     \"<li>use INLINE resources instead, as so:</li>\\n\"+\n     \"</ul>\\n\"+\n     \"<code>\\n\"+\n     \"from bokeh.resources import INLINE\\n\"+\n     \"output_notebook(resources=INLINE)\\n\"+\n     \"</code>\\n\"+\n     \"</div>\"}};\n\n  function display_loaded() {\n    var el = document.getElementById(\"1576\");\n    if (el != null) {\n      el.textContent = \"BokehJS is loading...\";\n    }\n    if (root.Bokeh !== undefined) {\n      if (el != null) {\n        el.textContent = \"BokehJS \" + root.Bokeh.version + \" successfully loaded.\";\n      }\n    } else if (Date.now() < root._bokeh_timeout) {\n      setTimeout(display_loaded, 100)\n    }\n  }\n\n\n  function run_callbacks() {\n    try {\n      root._bokeh_onload_callbacks.forEach(function(callback) { callback() });\n    }\n    finally {\n      delete root._bokeh_onload_callbacks\n    }\n    console.info(\"Bokeh: all callbacks have finished\");\n  }\n\n  function load_libs(js_urls, callback) {\n    root._bokeh_onload_callbacks.push(callback);\n    if (root._bokeh_is_loading > 0) {\n      console.log(\"Bokeh: BokehJS is being loaded, scheduling callback at\", now());\n      return null;\n    }\n    if (js_urls == null || js_urls.length === 0) {\n      run_callbacks();\n      return null;\n    }\n    console.log(\"Bokeh: BokehJS not loaded, scheduling load and callback at\", now());\n    root._bokeh_is_loading = js_urls.length;\n    for (var i = 0; i < js_urls.length; i++) {\n      var url = js_urls[i];\n      var s = document.createElement('script');\n      s.src = url;\n      s.async = false;\n      s.onreadystatechange = s.onload = function() {\n        root._bokeh_is_loading--;\n        if (root._bokeh_is_loading === 0) {\n          console.log(\"Bokeh: all BokehJS libraries loaded\");\n          run_callbacks()\n        }\n      };\n      s.onerror = function() {\n        console.warn(\"failed to load library \" + url);\n      };\n      console.log(\"Bokeh: injecting script tag for BokehJS library: \", url);\n      document.getElementsByTagName(\"head\")[0].appendChild(s);\n    }\n  };var element = document.getElementById(\"1576\");\n  if (element == null) {\n    console.log(\"Bokeh: ERROR: autoload.js configured with elementid '1576' but no matching script tag was found. \")\n    return false;\n  }\n\n  var js_urls = [\"https://cdn.pydata.org/bokeh/release/bokeh-1.0.2.min.js\", \"https://cdn.pydata.org/bokeh/release/bokeh-widgets-1.0.2.min.js\", \"https://cdn.pydata.org/bokeh/release/bokeh-tables-1.0.2.min.js\", \"https://cdn.pydata.org/bokeh/release/bokeh-gl-1.0.2.min.js\"];\n\n  var inline_js = [\n    function(Bokeh) {\n      Bokeh.set_log_level(\"info\");\n    },\n    \n    function(Bokeh) {\n      \n    },\n    function(Bokeh) {\n      console.log(\"Bokeh: injecting CSS: https://cdn.pydata.org/bokeh/release/bokeh-1.0.2.min.css\");\n      Bokeh.embed.inject_css(\"https://cdn.pydata.org/bokeh/release/bokeh-1.0.2.min.css\");\n      console.log(\"Bokeh: injecting CSS: https://cdn.pydata.org/bokeh/release/bokeh-widgets-1.0.2.min.css\");\n      Bokeh.embed.inject_css(\"https://cdn.pydata.org/bokeh/release/bokeh-widgets-1.0.2.min.css\");\n      console.log(\"Bokeh: injecting CSS: https://cdn.pydata.org/bokeh/release/bokeh-tables-1.0.2.min.css\");\n      Bokeh.embed.inject_css(\"https://cdn.pydata.org/bokeh/release/bokeh-tables-1.0.2.min.css\");\n    }\n  ];\n\n  function run_inline_js() {\n    \n    if ((root.Bokeh !== undefined) || (force === true)) {\n      for (var i = 0; i < inline_js.length; i++) {\n        inline_js[i].call(root, root.Bokeh);\n      }if (force === true) {\n        display_loaded();\n      }} else if (Date.now() < root._bokeh_timeout) {\n      setTimeout(run_inline_js, 100);\n    } else if (!root._bokeh_failed_load) {\n      console.log(\"Bokeh: BokehJS failed to load within specified timeout.\");\n      root._bokeh_failed_load = true;\n    } else if (force !== true) {\n      var cell = $(document.getElementById(\"1576\")).parents('.cell').data().cell;\n      cell.output_area.append_execute_result(NB_LOAD_WARNING)\n    }\n\n  }\n\n  if (root._bokeh_is_loading === 0) {\n    console.log(\"Bokeh: BokehJS loaded, going straight to plotting\");\n    run_inline_js();\n  } else {\n    load_libs(js_urls, function() {\n      console.log(\"Bokeh: BokehJS plotting callback run at\", now());\n      run_inline_js();\n    });\n  }\n}(window));"
          },
          "metadata": {
            "tags": []
          }
        },
        {
          "output_type": "display_data",
          "data": {
            "text/html": [
              "\n",
              "\n",
              "\n",
              "\n",
              "\n",
              "\n",
              "  <div class=\"bk-root\" id=\"21fde426-ebfa-402c-90f7-b22c3dd0a0fd\"></div>\n"
            ]
          },
          "metadata": {
            "tags": []
          }
        },
        {
          "output_type": "display_data",
          "data": {
            "application/javascript": [
              "(function(root) {\n",
              "  function embed_document(root) {\n",
              "    \n",
              "  var docs_json = {\"9e176728-fb31-450a-a39f-da3bf85be7b0\":{\"roots\":{\"references\":[{\"attributes\":{\"below\":[{\"id\":\"1588\",\"type\":\"LinearAxis\"}],\"left\":[{\"id\":\"1593\",\"type\":\"LinearAxis\"}],\"plot_width\":800,\"renderers\":[{\"id\":\"1588\",\"type\":\"LinearAxis\"},{\"id\":\"1592\",\"type\":\"Grid\"},{\"id\":\"1593\",\"type\":\"LinearAxis\"},{\"id\":\"1597\",\"type\":\"Grid\"},{\"id\":\"1605\",\"type\":\"BoxAnnotation\"},{\"id\":\"1615\",\"type\":\"GlyphRenderer\"},{\"id\":\"1617\",\"type\":\"LabelSet\"}],\"title\":{\"id\":\"1577\",\"type\":\"Title\"},\"toolbar\":{\"id\":\"1603\",\"type\":\"Toolbar\"},\"toolbar_location\":\"above\",\"x_range\":{\"id\":\"1580\",\"type\":\"DataRange1d\"},\"x_scale\":{\"id\":\"1584\",\"type\":\"LinearScale\"},\"y_range\":{\"id\":\"1582\",\"type\":\"DataRange1d\"},\"y_scale\":{\"id\":\"1586\",\"type\":\"LinearScale\"}},\"id\":\"1578\",\"subtype\":\"Figure\",\"type\":\"Plot\"},{\"attributes\":{},\"id\":\"1660\",\"type\":\"BasicTickFormatter\"},{\"attributes\":{},\"id\":\"1594\",\"type\":\"BasicTicker\"},{\"attributes\":{},\"id\":\"1598\",\"type\":\"PanTool\"},{\"attributes\":{\"callback\":null,\"data\":{\"names\":[\"unk\",\"first\",\"one\",\"also\",\"two\",\"new\",\"time\",\"would\",\"1\",\"game\",\"later\",\"three\",\"2\",\"film\",\"may\",\"year\",\"made\",\"3\",\"second\",\"season\",\"000\",\"years\",\"world\",\"war\",\"however\",\"used\",\"song\",\"5\",\"series\",\"album\",\"many\",\"team\",\"city\",\"part\",\"north\",\"became\",\"number\",\"united\",\"several\",\"including\",\"4\",\"four\",\"well\",\"early\",\"state\",\"south\",\"music\",\"day\",\"episode\",\"said\",\"following\",\"states\",\"known\",\"american\",\"although\",\"could\",\"work\",\"began\",\"released\",\"like\",\"called\",\"10\",\"high\",\"people\",\"6\",\"end\",\"million\",\"british\",\"since\",\"around\",\"long\",\"national\",\"life\",\"best\",\"found\",\"september\",\"west\",\"us\",\"back\",\"along\",\"another\",\"five\",\"show\",\"7\",\"took\",\"use\",\"area\",\"final\",\"8\",\"group\",\"august\",\"century\",\"received\",\"october\",\"john\",\"school\",\"due\",\"km\",\"line\",\"government\",\"0\",\"june\",\"east\",\"single\",\"system\",\"march\",\"july\",\"home\",\"november\",\"9\",\"games\",\"third\",\"general\",\"april\",\"much\",\"large\",\"set\",\"major\",\"left\",\"based\",\"family\",\"york\",\"house\",\"place\",\"12\",\"company\",\"army\",\"history\",\"december\",\"road\",\"played\",\"20\",\"included\",\"name\",\"king\",\"january\",\"six\",\"band\",\"character\",\"wrote\",\"according\",\"15\",\"led\",\"main\",\"within\",\"last\",\"near\",\"times\",\"described\",\"men\",\"river\",\"death\",\"video\",\"air\",\"u\",\"named\",\"next\",\"de\",\"battle\",\"record\",\"release\",\"late\",\"still\",\"league\",\"original\",\"make\",\"way\",\"top\",\"30\",\"ship\",\"route\",\"production\",\"species\",\"even\",\"great\",\"force\",\"man\",\"club\",\"small\",\"old\",\"storm\",\"february\",\"public\",\"though\",\"c\",\"days\",\"built\",\"11\",\"held\",\"university\",\"play\",\"among\",\"division\",\"service\",\"role\",\"2010\",\"book\",\"french\",\"german\",\"side\",\"members\",\"story\",\"white\",\"power\",\"match\",\"h\",\"b\",\"point\",\"water\",\"player\",\"100\",\"2008\",\"often\",\"2009\",\"order\",\"career\",\"continued\",\"former\",\"park\",\"2011\",\"local\",\"black\",\"town\",\"without\",\"came\",\"18\",\"despite\",\"england\",\"considered\",\"16\",\"take\",\"party\",\"half\",\"14\",\"13\",\"2007\",\"island\",\"county\",\"support\",\"form\",\"songs\",\"development\",\"version\",\"moved\",\"military\",\"written\",\"period\",\"25\",\"different\",\"become\",\"2012\",\"president\",\"english\",\"forces\",\"lost\",\"building\",\"given\",\"court\",\"ii\",\"london\",\"tropical\",\"country\",\"international\",\"little\",\"church\",\"performance\",\"gave\",\"never\",\"similar\",\"tour\",\"street\",\"lead\",\"attack\",\"track\",\"returned\",\"using\",\"published\",\"royal\",\"produced\",\"short\",\"went\",\"position\",\"class\",\"recorded\",\"children\",\"television\",\"2006\",\"stated\",\"highway\",\"aircraft\",\"land\",\"total\",\"good\",\"17\",\"western\",\"ships\",\"run\",\"include\",\"live\",\"making\",\"per\",\"control\",\"father\",\"star\",\"week\",\"women\",\"fire\",\"throughout\",\"upon\",\"right\",\"e\",\"love\",\"2013\",\"r\",\"australia\",\"head\",\"less\",\"characters\",\"design\",\"central\",\"age\",\"players\",\"24\",\"young\",\"instead\",\"light\",\"writing\",\"title\",\"n\",\"away\",\"rock\",\"st\",\"seven\",\"ft\",\"across\",\"james\",\"remained\",\"months\",\"red\",\"station\",\"sea\",\"died\",\"return\",\"developed\",\"ten\",\"result\",\"previous\",\"political\",\"night\",\"law\",\"21\",\"william\",\"southern\",\"hurricane\",\"eight\",\"center\",\"low\",\"reported\",\"office\",\"felt\",\"areas\",\"noted\",\"various\",\"eventually\",\"america\",\"race\",\"style\",\"announced\",\"son\",\"field\",\"created\",\"reached\",\"22\",\"act\",\"miles\",\"college\",\"win\",\"construction\",\"award\",\"sent\",\"japanese\",\"2005\",\"19\",\"seen\",\"50\",\"followed\",\"together\",\"performed\",\"served\",\"2014\",\"member\",\"full\",\"george\",\"northern\",\"range\",\"level\",\"common\",\"killed\",\"taken\",\"able\",\"campaign\",\"points\",\"works\",\"action\",\"established\",\"chart\",\"born\",\"originally\",\"success\",\"23\",\"body\",\"others\",\"front\",\"appeared\",\"mm\",\"thought\",\"australian\",\"modern\",\"features\",\"located\",\"project\",\"post\",\"special\",\"get\",\"playing\",\"football\",\"started\",\"stage\",\"bridge\",\"addition\",\"caused\",\"critics\",\"feet\",\"rather\",\"present\",\"fourth\",\"decided\",\"behind\",\"site\",\"formed\",\"added\",\"sold\",\"heavy\",\"championship\",\"every\",\"david\",\"director\",\"see\",\"40\",\"go\",\"popular\",\"strong\",\"saw\",\"damage\",\"completed\",\"28\",\"population\",\"almost\",\"command\",\"important\",\"l\",\"open\",\"soon\",\"close\",\"fleet\",\"eastern\",\"awards\",\"initially\",\"art\",\"27\",\"kingdom\",\"guns\",\"2004\",\"opened\",\"non\",\"case\",\"ground\",\"region\",\"leading\",\"free\",\"weeks\",\"michael\",\"26\",\"coast\",\"2015\",\"f\",\"worked\",\"france\",\"recording\",\"working\",\"mother\",\"towards\",\"hall\",\"union\",\"event\",\"mi\",\"scene\",\"ever\",\"sound\",\"records\",\"scored\",\"help\",\"henry\",\"training\",\"provided\",\"navy\",\"least\",\"wanted\",\"cup\",\"average\",\"brought\",\"featured\",\"either\",\"allowed\",\"put\",\"hit\",\"wife\",\"victory\",\"troops\",\"generally\",\"studio\",\"placed\",\"washington\",\"robert\",\"example\",\"runs\",\"events\",\"magazine\",\"far\",\"200\",\"europe\",\"500\",\"council\",\"2003\",\"mid\",\"joined\",\"designed\",\"hours\",\"summer\",\"squadron\",\"29\",\"human\",\"g\",\"co\",\"list\",\"nine\",\"opening\",\"believed\",\"al\",\"start\",\"replaced\",\"official\",\"japan\",\"media\",\"mph\",\"brown\",\"v\",\"operation\",\"base\",\"european\",\"involved\",\"minutes\",\"earlier\",\"police\",\"rest\",\"finished\",\"society\",\"successful\",\"met\",\"possible\",\"saying\",\"crew\",\"radio\",\"shot\",\"month\",\"significant\",\"association\",\"big\",\"particularly\",\"review\",\"highest\",\"largest\",\"films\",\"test\",\"beginning\",\"2000\",\"process\",\"available\",\"research\",\"change\",\"forced\",\"captain\",\"2001\",\"taking\",\"outside\",\"cast\",\"better\",\"charles\",\"come\",\"increased\",\"turned\",\"ended\",\"must\",\"social\",\"stone\",\"section\",\"reviews\",\"real\",\"units\",\"community\",\"thomas\",\"lower\",\"passed\",\"praised\",\"business\",\"san\",\"going\",\"relationship\",\"middle\",\"additional\",\"j\",\"future\",\"move\",\"appearance\",\"hill\",\"space\",\"2002\",\"thus\",\"goal\",\"canada\",\"enough\",\"chief\",\"ordered\",\"winds\",\"previously\",\"cross\",\"signed\",\"31\",\"elements\",\"gold\",\"rights\",\"board\",\"california\",\"program\",\"staff\",\"positive\",\"paul\",\"round\",\"lake\",\"infantry\",\"parts\",\"female\",\"p\",\"critical\",\"interest\",\"castle\",\"spent\",\"told\",\"give\",\"plan\",\"gun\",\"find\",\"overall\",\"lines\",\"musical\",\"type\",\"brother\",\"attempt\",\"committee\",\"directed\",\"failed\",\"money\",\"required\",\"groups\",\"news\",\"x\",\"germany\",\"hand\",\"india\",\"district\",\"evidence\",\"sometimes\",\"grand\",\"prior\",\"cover\",\"entire\",\"term\",\"asked\",\"battalion\",\"election\",\"personal\",\"port\",\"reception\",\"smith\",\"press\",\"bill\",\"room\",\"whose\",\"study\",\"uk\",\"claimed\",\"complete\",\"already\",\"green\",\"introduced\",\"square\",\"background\",\"plot\",\"usually\",\"turn\",\"novel\",\"indian\",\"past\",\"students\",\"person\",\"governor\",\"idea\",\"education\",\"quickly\",\"limited\",\"loss\",\"score\",\"effects\",\"peter\",\"speed\",\"stars\",\"response\",\"movement\",\"issue\",\"flight\",\"mark\",\"food\",\"surface\",\"debut\",\"ny\",\"commander\",\"arrived\",\"richard\",\"especially\",\"minister\",\"blue\",\"services\",\"anti\",\"decision\",\"britain\",\"woman\",\"fifth\",\"village\",\"department\",\"teams\",\"shows\",\"bay\",\"structure\",\"industry\",\"la\",\"operations\",\"larger\",\"writer\",\"length\",\"science\",\"queen\",\"episodes\",\"becoming\",\"earth\",\"remaining\",\"voice\",\"centre\",\"estimated\",\"material\",\"carried\",\"defeated\",\"living\",\"latter\",\"cut\",\"pressure\",\"civil\",\"1999\",\"car\",\"scenes\",\"commercial\",\"leaving\",\"virginia\",\"god\",\"changes\",\"running\",\"might\",\"suggested\",\"entered\",\"report\",\"nearly\",\"los\",\"percent\",\"appointed\",\"influence\",\"approximately\",\"date\",\"depression\",\"pop\",\"naval\",\"winning\",\"language\",\"shortly\",\"islands\",\"empire\",\"view\",\"finally\",\"today\",\"child\",\"self\",\"network\",\"dark\",\"tracks\",\"hot\",\"proposed\",\"leader\",\"daughter\",\"course\",\"current\",\"wide\",\"producer\",\"higher\",\"destroyed\",\"experience\",\"size\",\"spanish\",\"provide\",\"railway\",\"fact\",\"subsequently\",\"nature\",\"compared\",\"lack\",\"k\",\"married\",\"brigade\",\"immediately\",\"intended\",\"soviet\",\"supported\",\"face\",\"regular\",\"agreed\",\"cost\",\"awarded\",\"natural\",\"whether\",\"contract\",\"helped\",\"museum\",\"fans\",\"manager\",\"guitar\",\"chicago\",\"planned\",\"professional\",\"related\",\"health\",\"officer\",\"chinese\",\"1998\",\"create\",\"upper\",\"longer\",\"soldiers\",\"fort\",\"jackson\",\"done\",\"60\",\"trade\",\"edward\",\"ball\",\"buildings\",\"plans\",\"corps\",\"captured\",\"changed\",\"appear\",\"federal\",\"private\",\"friends\",\"something\",\"associated\",\"yet\",\"officers\",\"key\",\"regiment\",\"singles\",\"books\",\"effect\",\"feature\",\"remains\",\"billboard\",\"mostly\",\"johnson\",\"initial\",\"lord\",\"countries\",\"lyrics\",\"mixed\",\"really\",\"pacific\",\"probably\",\"extended\",\"minor\",\"numerous\",\"moving\",\"friend\",\"got\",\"forward\",\"information\",\"copies\",\"always\",\"location\",\"issued\",\"difficult\",\"energy\",\"1997\",\"includes\",\"leave\",\"atlantic\",\"christian\",\"status\",\"singer\",\"ran\",\"conference\",\"dance\",\"suffered\",\"cm\",\"via\",\"pass\",\"florida\",\"unit\",\"albums\",\"edition\",\"problems\",\"know\",\"dead\",\"300\",\"likely\",\"meeting\",\"fight\",\"increase\",\"roman\",\"cause\",\"independent\",\"removed\",\"w\",\"inspired\",\"texas\",\"pre\",\"china\",\"wind\",\"poor\",\"fell\",\"terms\",\"primary\",\"majority\",\"35\",\"movie\",\"offered\",\"keep\",\"creek\",\"winter\",\"broadcast\",\"double\",\"minute\",\"goals\",\"impact\",\"standard\",\"mary\",\"valley\",\"entertainment\",\"attacks\",\"individual\",\"takes\",\"allow\",\"composed\",\"raised\",\"wall\",\"need\",\"canadian\",\"sales\",\"male\",\"damaged\",\"ranked\",\"africa\",\"hour\",\"tons\",\"artist\",\"appears\",\"daily\",\"revealed\",\"cyclone\",\"selected\",\"discovered\",\"fighting\",\"model\",\"active\",\"era\",\"russian\"],\"x1\":{\"__ndarray__\":\"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\",\"dtype\":\"float32\",\"shape\":[1000]},\"x2\":{\"__ndarray__\":\"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\",\"dtype\":\"float32\",\"shape\":[1000]}},\"selected\":{\"id\":\"1666\",\"type\":\"Selection\"},\"selection_policy\":{\"id\":\"1665\",\"type\":\"UnionRenderers\"}},\"id\":\"1611\",\"type\":\"ColumnDataSource\"},{\"attributes\":{\"data_source\":{\"id\":\"1611\",\"type\":\"ColumnDataSource\"},\"glyph\":{\"id\":\"1613\",\"type\":\"Scatter\"},\"hover_glyph\":null,\"muted_glyph\":null,\"nonselection_glyph\":{\"id\":\"1614\",\"type\":\"Scatter\"},\"selection_glyph\":null,\"view\":{\"id\":\"1616\",\"type\":\"CDSView\"}},\"id\":\"1615\",\"type\":\"GlyphRenderer\"},{\"attributes\":{},\"id\":\"1662\",\"type\":\"BasicTickFormatter\"},{\"attributes\":{\"formatter\":{\"id\":\"1660\",\"type\":\"BasicTickFormatter\"},\"plot\":{\"id\":\"1578\",\"subtype\":\"Figure\",\"type\":\"Plot\"},\"ticker\":{\"id\":\"1594\",\"type\":\"BasicTicker\"}},\"id\":\"1593\",\"type\":\"LinearAxis\"},{\"attributes\":{\"plot\":{\"id\":\"1578\",\"subtype\":\"Figure\",\"type\":\"Plot\"},\"ticker\":{\"id\":\"1589\",\"type\":\"BasicTicker\"}},\"id\":\"1592\",\"type\":\"Grid\"},{\"attributes\":{\"callback\":null},\"id\":\"1582\",\"type\":\"DataRange1d\"},{\"attributes\":{},\"id\":\"1589\",\"type\":\"BasicTicker\"},{\"attributes\":{\"formatter\":{\"id\":\"1662\",\"type\":\"BasicTickFormatter\"},\"plot\":{\"id\":\"1578\",\"subtype\":\"Figure\",\"type\":\"Plot\"},\"ticker\":{\"id\":\"1589\",\"type\":\"BasicTicker\"}},\"id\":\"1588\",\"type\":\"LinearAxis\"},{\"attributes\":{},\"id\":\"1666\",\"type\":\"Selection\"},{\"attributes\":{},\"id\":\"1584\",\"type\":\"LinearScale\"},{\"attributes\":{},\"id\":\"1599\",\"type\":\"WheelZoomTool\"},{\"attributes\":{\"fill_color\":{\"value\":\"#1f77b4\"},\"line_color\":{\"value\":\"#1f77b4\"},\"size\":{\"units\":\"screen\",\"value\":8},\"x\":{\"field\":\"x1\"},\"y\":{\"field\":\"x2\"}},\"id\":\"1613\",\"type\":\"Scatter\"},{\"attributes\":{},\"id\":\"1602\",\"type\":\"SaveTool\"},{\"attributes\":{\"fill_alpha\":{\"value\":0.1},\"fill_color\":{\"value\":\"#1f77b4\"},\"line_alpha\":{\"value\":0.1},\"line_color\":{\"value\":\"#1f77b4\"},\"size\":{\"units\":\"screen\",\"value\":8},\"x\":{\"field\":\"x1\"},\"y\":{\"field\":\"x2\"}},\"id\":\"1614\",\"type\":\"Scatter\"},{\"attributes\":{\"callback\":null},\"id\":\"1580\",\"type\":\"DataRange1d\"},{\"attributes\":{\"bottom_units\":\"screen\",\"fill_alpha\":{\"value\":0.5},\"fill_color\":{\"value\":\"lightgrey\"},\"left_units\":\"screen\",\"level\":\"overlay\",\"line_alpha\":{\"value\":1.0},\"line_color\":{\"value\":\"black\"},\"line_dash\":[4,4],\"line_width\":{\"value\":2},\"plot\":null,\"render_mode\":\"css\",\"right_units\":\"screen\",\"top_units\":\"screen\"},\"id\":\"1605\",\"type\":\"BoxAnnotation\"},{\"attributes\":{\"active_drag\":\"auto\",\"active_inspect\":\"auto\",\"active_multi\":null,\"active_scroll\":\"auto\",\"active_tap\":\"auto\",\"tools\":[{\"id\":\"1598\",\"type\":\"PanTool\"},{\"id\":\"1599\",\"type\":\"WheelZoomTool\"},{\"id\":\"1600\",\"type\":\"BoxZoomTool\"},{\"id\":\"1601\",\"type\":\"ResetTool\"},{\"id\":\"1602\",\"type\":\"SaveTool\"}]},\"id\":\"1603\",\"type\":\"Toolbar\"},{\"attributes\":{\"plot\":{\"id\":\"1578\",\"subtype\":\"Figure\",\"type\":\"Plot\"},\"source\":{\"id\":\"1611\",\"type\":\"ColumnDataSource\"},\"text\":{\"field\":\"names\"},\"text_align\":\"center\",\"text_color\":{\"value\":\"#555555\"},\"text_font_size\":{\"value\":\"7pt\"},\"x\":{\"field\":\"x1\"},\"y\":{\"field\":\"x2\"},\"y_offset\":{\"value\":6}},\"id\":\"1617\",\"type\":\"LabelSet\"},{\"attributes\":{},\"id\":\"1601\",\"type\":\"ResetTool\"},{\"attributes\":{},\"id\":\"1665\",\"type\":\"UnionRenderers\"},{\"attributes\":{\"source\":{\"id\":\"1611\",\"type\":\"ColumnDataSource\"}},\"id\":\"1616\",\"type\":\"CDSView\"},{\"attributes\":{},\"id\":\"1586\",\"type\":\"LinearScale\"},{\"attributes\":{\"plot\":null,\"text\":\"Word2Vec T-SNE for the 1000 most common words\"},\"id\":\"1577\",\"type\":\"Title\"},{\"attributes\":{\"overlay\":{\"id\":\"1605\",\"type\":\"BoxAnnotation\"}},\"id\":\"1600\",\"type\":\"BoxZoomTool\"},{\"attributes\":{\"dimension\":1,\"plot\":{\"id\":\"1578\",\"subtype\":\"Figure\",\"type\":\"Plot\"},\"ticker\":{\"id\":\"1594\",\"type\":\"BasicTicker\"}},\"id\":\"1597\",\"type\":\"Grid\"}],\"root_ids\":[\"1578\"]},\"title\":\"Bokeh Application\",\"version\":\"1.0.2\"}};\n",
              "  var render_items = [{\"docid\":\"9e176728-fb31-450a-a39f-da3bf85be7b0\",\"roots\":{\"1578\":\"21fde426-ebfa-402c-90f7-b22c3dd0a0fd\"}}];\n",
              "  root.Bokeh.embed.embed_items_notebook(docs_json, render_items);\n",
              "\n",
              "  }\n",
              "  if (root.Bokeh !== undefined) {\n",
              "    embed_document(root);\n",
              "  } else {\n",
              "    var attempts = 0;\n",
              "    var timer = setInterval(function(root) {\n",
              "      if (root.Bokeh !== undefined) {\n",
              "        embed_document(root);\n",
              "        clearInterval(timer);\n",
              "      }\n",
              "      attempts++;\n",
              "      if (attempts > 100) {\n",
              "        console.log(\"Bokeh: ERROR: Unable to run BokehJS code because BokehJS library is missing\");\n",
              "        clearInterval(timer);\n",
              "      }\n",
              "    }, 10, root)\n",
              "  }\n",
              "})(window);"
            ],
            "application/vnd.bokehjs_exec.v0+json": ""
          },
          "metadata": {
            "tags": [],
            "application/vnd.bokehjs_exec.v0+json": {
              "id": "1578"
            }
          }
        }
      ]
    },
    {
      "metadata": {
        "id": "C60x6EVlotep",
        "colab_type": "code",
        "colab": {}
      },
      "cell_type": "code",
      "source": [
        ""
      ],
      "execution_count": 0,
      "outputs": []
    },
    {
      "metadata": {
        "id": "gS9qvVqAotVW",
        "colab_type": "code",
        "colab": {}
      },
      "cell_type": "code",
      "source": [
        ""
      ],
      "execution_count": 0,
      "outputs": []
    },
    {
      "metadata": {
        "id": "YXcAS5g5ossQ",
        "colab_type": "code",
        "colab": {}
      },
      "cell_type": "code",
      "source": [
        ""
      ],
      "execution_count": 0,
      "outputs": []
    },
    {
      "metadata": {
        "colab_type": "text",
        "id": "DeKwKgrCsGa-"
      },
      "cell_type": "markdown",
      "source": [
        "#Part 2"
      ]
    },
    {
      "metadata": {
        "colab_type": "text",
        "id": "vdVKXLvusGbM"
      },
      "cell_type": "markdown",
      "source": [
        "## 2.1. Train a word embedding model on the sentence classification corpus from the UCI Machine Learning repository"
      ]
    },
    {
      "metadata": {
        "colab_type": "text",
        "id": "JJklXqD0sGbX"
      },
      "cell_type": "markdown",
      "source": [
        "### 2.1.1 Download Dataset"
      ]
    },
    {
      "metadata": {
        "id": "yP7r3zO4osjy",
        "colab_type": "code",
        "outputId": "981aae01-a7a1-479f-d3d3-1c1b1955dc89",
        "colab": {
          "base_uri": "https://localhost:8080/",
          "height": 52
        }
      },
      "cell_type": "code",
      "source": [
        "import urllib.request\n",
        "import zipfile\n",
        "import re\n",
        "from os import listdir\n",
        "from gensim.models import Word2Vec\n",
        "\n",
        "import nltk\n",
        "nltk.download('stopwords')\n",
        "from nltk.corpus import stopwords"
      ],
      "execution_count": 0,
      "outputs": [
        {
          "output_type": "stream",
          "text": [
            "[nltk_data] Downloading package stopwords to /root/nltk_data...\n",
            "[nltk_data]   Unzipping corpora/stopwords.zip.\n"
          ],
          "name": "stdout"
        }
      ]
    },
    {
      "metadata": {
        "id": "szv6EWoWosb4",
        "colab_type": "code",
        "outputId": "f7d57fc4-4d66-4d3d-da77-acfd7d3d89f9",
        "colab": {
          "base_uri": "https://localhost:8080/",
          "height": 34
        }
      },
      "cell_type": "code",
      "source": [
        "urllib.request.urlretrieve(\"https://archive.ics.uci.edu/ml/machine-learning-databases/00311/SentenceCorpus.zip\", filename=\"SentenceCorpus.zip\")"
      ],
      "execution_count": 0,
      "outputs": [
        {
          "output_type": "execute_result",
          "data": {
            "text/plain": [
              "('SentenceCorpus.zip', <http.client.HTTPMessage at 0x7f517c7d9b00>)"
            ]
          },
          "metadata": {
            "tags": []
          },
          "execution_count": 4
        }
      ]
    },
    {
      "metadata": {
        "id": "4jmXLOpuICW0",
        "colab_type": "text"
      },
      "cell_type": "markdown",
      "source": [
        "### 2.1.2 Data Pre-Processing"
      ]
    },
    {
      "metadata": {
        "id": "SeqVIQHMIbK7",
        "colab_type": "text"
      },
      "cell_type": "markdown",
      "source": [
        ""
      ]
    },
    {
      "metadata": {
        "id": "c-ZevFVNplt0",
        "colab_type": "code",
        "colab": {}
      },
      "cell_type": "code",
      "source": [
        "# After execution each single line of the training documents is an element of corpus list \n",
        "corpus = []\n",
        "of_stopwords = []\n",
        "extra_words_to_remove = ['citation','number','symbol','misc','aimx','ownx','cont','base','of','','abstract','introduction']\n",
        "\n",
        "with zipfile.ZipFile('SentenceCorpus.zip', 'r') as z:\n",
        "  z.extractall()\n",
        "  # Handling the training files\n",
        "  for file_name in listdir('SentenceCorpus/labeled_articles/'):\n",
        "    if file_name.endswith('1.txt'):\n",
        "      file = z.read('SentenceCorpus/labeled_articles/' + file_name).decode('utf-8')\n",
        "      corpus.extend(file.split('\\n'))\n",
        "  # The official stop words\n",
        "  file = z.read('SentenceCorpus/word_lists/stopwords.txt').decode('utf-8')\n",
        "  of_stopwords.extend(file.split('\\n')[1:-1])\n",
        "  "
      ],
      "execution_count": 0,
      "outputs": []
    },
    {
      "metadata": {
        "id": "hnvvEWTbSITP",
        "colab_type": "code",
        "outputId": "7c9279c7-5fd1-4c09-dbec-09ac9f95e6cd",
        "colab": {
          "base_uri": "https://localhost:8080/",
          "height": 34
        }
      },
      "cell_type": "code",
      "source": [
        "corpus[1]"
      ],
      "execution_count": 0,
      "outputs": [
        {
          "output_type": "execute_result",
          "data": {
            "text/plain": [
              "'MISC Metabolic network reconstructions represent valuable scaffolds for -omics data integration and are used to computationally interrogate network properties.\\r'"
            ]
          },
          "metadata": {
            "tags": []
          },
          "execution_count": 6
        }
      ]
    },
    {
      "metadata": {
        "id": "kMrDXe45Ny3F",
        "colab_type": "code",
        "colab": {}
      },
      "cell_type": "code",
      "source": [
        "# After execution each element of corpus list (line of the training documents) is\n",
        "# transformed to a list of clean tokens as element in preproc_corpus list\n",
        "preproc_corpus = []\n",
        "for doc in corpus:\n",
        "  doc = doc.lower()\n",
        "  doc = re.sub(r'[^a-z0-9]+', ' ',doc)\n",
        "  doc = re.sub(r'\\s+', ' ',doc)\n",
        "  doc = doc.split(' ')\n",
        "  doc = [word for word in doc if word not in of_stopwords+extra_words_to_remove+stopwords.words('english')]\n",
        "  doc = [word for word in doc if len(word)>1]\n",
        "  if len(doc) > 0:\n",
        "    preproc_corpus.append(doc)"
      ],
      "execution_count": 0,
      "outputs": []
    },
    {
      "metadata": {
        "id": "M0xPr_7ASoji",
        "colab_type": "code",
        "outputId": "5ae0c05f-9935-4636-cf74-899605213626",
        "colab": {
          "base_uri": "https://localhost:8080/",
          "height": 260
        }
      },
      "cell_type": "code",
      "source": [
        "preproc_corpus[0]"
      ],
      "execution_count": 0,
      "outputs": [
        {
          "output_type": "execute_result",
          "data": {
            "text/plain": [
              "['metabolic',\n",
              " 'network',\n",
              " 'reconstructions',\n",
              " 'represent',\n",
              " 'valuable',\n",
              " 'scaffolds',\n",
              " 'omics',\n",
              " 'data',\n",
              " 'integration',\n",
              " 'used',\n",
              " 'computationally',\n",
              " 'interrogate',\n",
              " 'network',\n",
              " 'properties']"
            ]
          },
          "metadata": {
            "tags": []
          },
          "execution_count": 8
        }
      ]
    },
    {
      "metadata": {
        "id": "3aXbP-PIU2xX",
        "colab_type": "code",
        "outputId": "80b78a27-6ae5-4a9b-b7ef-1c32945e3d7d",
        "colab": {
          "base_uri": "https://localhost:8080/",
          "height": 34
        }
      },
      "cell_type": "code",
      "source": [
        "len(corpus), len(preproc_corpus)"
      ],
      "execution_count": 0,
      "outputs": [
        {
          "output_type": "execute_result",
          "data": {
            "text/plain": [
              "(1120, 1039)"
            ]
          },
          "metadata": {
            "tags": []
          },
          "execution_count": 9
        }
      ]
    },
    {
      "metadata": {
        "id": "e0spAVGaVKRF",
        "colab_type": "text"
      },
      "cell_type": "markdown",
      "source": [
        "### 2.1.3 Train a basic word embedding model"
      ]
    },
    {
      "metadata": {
        "id": "p2i3vIZYKPYQ",
        "colab_type": "code",
        "colab": {}
      },
      "cell_type": "code",
      "source": [
        "def customW2Vmodel(window=4,size=100,sg=1,min_count=1,workers=-1,negative=5):\n",
        "  model = Word2Vec(window=window,size=size,sg=sg,min_count=min_count,workers=workers,negative=negative)\n",
        "  model.build_vocab(preproc_corpus)  # Building the model vocabulary\n",
        "  model.train(preproc_corpus,total_examples=model.corpus_count,epochs=model.iter)\n",
        "  return(model)"
      ],
      "execution_count": 0,
      "outputs": []
    },
    {
      "metadata": {
        "id": "zXhQK8QaLMWL",
        "colab_type": "code",
        "outputId": "484b04e5-cacb-443b-fce9-ba5b9a3cfcda",
        "colab": {
          "base_uri": "https://localhost:8080/",
          "height": 104
        }
      },
      "cell_type": "code",
      "source": [
        "%%time\n",
        "\n",
        "model0 = customW2Vmodel(window=4,size=100,sg=1,min_count=1,workers=-1,negative=5)\n",
        "print('Vocabulary size: ',len(model0.wv.vocab))"
      ],
      "execution_count": 0,
      "outputs": [
        {
          "output_type": "stream",
          "text": [
            "Vocabulary size:  3887\n",
            "CPU times: user 79.8 ms, sys: 6.34 ms, total: 86.1 ms\n",
            "Wall time: 88.5 ms\n"
          ],
          "name": "stdout"
        },
        {
          "output_type": "stream",
          "text": [
            "/usr/local/lib/python3.6/dist-packages/ipykernel_launcher.py:4: DeprecationWarning: Call to deprecated `iter` (Attribute will be removed in 4.0.0, use self.epochs instead).\n",
            "  after removing the cwd from sys.path.\n"
          ],
          "name": "stderr"
        }
      ]
    },
    {
      "metadata": {
        "id": "MPha83k5ekbA",
        "colab_type": "text"
      },
      "cell_type": "markdown",
      "source": [
        "##2.2 Train other models on the same data, but with one hyperparameter different (for example, window size or vector size)"
      ]
    },
    {
      "metadata": {
        "id": "U9OIM16Ny2Iu",
        "colab_type": "text"
      },
      "cell_type": "markdown",
      "source": [
        "### 2.2.1 Adjusting vector dimensionality (size)"
      ]
    },
    {
      "metadata": {
        "id": "5N7-kdUWU2Re",
        "colab_type": "code",
        "outputId": "d8f626a5-8b8e-4ca2-e9ba-1ac279be42f0",
        "colab": {
          "base_uri": "https://localhost:8080/",
          "height": 104
        }
      },
      "cell_type": "code",
      "source": [
        "%%time\n",
        "\n",
        "model1 = customW2Vmodel(size=250)\n",
        "print('Vocabulary size: ',len(model1.wv.vocab))"
      ],
      "execution_count": 0,
      "outputs": [
        {
          "output_type": "stream",
          "text": [
            "Vocabulary size:  3887\n",
            "CPU times: user 94.3 ms, sys: 12 ms, total: 106 ms\n",
            "Wall time: 111 ms\n"
          ],
          "name": "stdout"
        },
        {
          "output_type": "stream",
          "text": [
            "/usr/local/lib/python3.6/dist-packages/ipykernel_launcher.py:4: DeprecationWarning: Call to deprecated `iter` (Attribute will be removed in 4.0.0, use self.epochs instead).\n",
            "  after removing the cwd from sys.path.\n"
          ],
          "name": "stderr"
        }
      ]
    },
    {
      "metadata": {
        "colab_type": "code",
        "outputId": "75dc9c58-2810-43f0-b7f6-3ee6256ead8d",
        "id": "nq66UhnA7b4B",
        "colab": {
          "base_uri": "https://localhost:8080/",
          "height": 104
        }
      },
      "cell_type": "code",
      "source": [
        "%%time\n",
        "\n",
        "model11 = customW2Vmodel(size=500)\n",
        "print('Vocabulary size: ',len(model1.wv.vocab))"
      ],
      "execution_count": 0,
      "outputs": [
        {
          "output_type": "stream",
          "text": [
            "Vocabulary size:  3887\n",
            "CPU times: user 104 ms, sys: 19 ms, total: 123 ms\n",
            "Wall time: 127 ms\n"
          ],
          "name": "stdout"
        },
        {
          "output_type": "stream",
          "text": [
            "/usr/local/lib/python3.6/dist-packages/ipykernel_launcher.py:4: DeprecationWarning: Call to deprecated `iter` (Attribute will be removed in 4.0.0, use self.epochs instead).\n",
            "  after removing the cwd from sys.path.\n"
          ],
          "name": "stderr"
        }
      ]
    },
    {
      "metadata": {
        "id": "48Q61a2S0v7j",
        "colab_type": "text"
      },
      "cell_type": "markdown",
      "source": [
        "### 2.2.2 Adjusting window size"
      ]
    },
    {
      "metadata": {
        "id": "6GgRoCSxU2EP",
        "colab_type": "code",
        "outputId": "ac0c9f5a-4b54-42b4-b332-3bf57f586369",
        "colab": {
          "base_uri": "https://localhost:8080/",
          "height": 104
        }
      },
      "cell_type": "code",
      "source": [
        "%%time\n",
        "\n",
        "model2 = customW2Vmodel(window=8)\n",
        "print('Vocabulary size: ',len(model2.wv.vocab))"
      ],
      "execution_count": 0,
      "outputs": [
        {
          "output_type": "stream",
          "text": [
            "Vocabulary size:  3887\n",
            "CPU times: user 79.3 ms, sys: 5.64 ms, total: 85 ms\n",
            "Wall time: 87.8 ms\n"
          ],
          "name": "stdout"
        },
        {
          "output_type": "stream",
          "text": [
            "/usr/local/lib/python3.6/dist-packages/ipykernel_launcher.py:4: DeprecationWarning: Call to deprecated `iter` (Attribute will be removed in 4.0.0, use self.epochs instead).\n",
            "  after removing the cwd from sys.path.\n"
          ],
          "name": "stderr"
        }
      ]
    },
    {
      "metadata": {
        "id": "YPeLfydZ1MEx",
        "colab_type": "text"
      },
      "cell_type": "markdown",
      "source": [
        "### 2.2.3 Adjusting minimum token frequency (min_count)"
      ]
    },
    {
      "metadata": {
        "id": "sHgCpSmH1NB6",
        "colab_type": "code",
        "outputId": "8954c7f1-6b75-445c-c4ea-54870272e716",
        "colab": {
          "base_uri": "https://localhost:8080/",
          "height": 104
        }
      },
      "cell_type": "code",
      "source": [
        "%%time\n",
        "\n",
        "model3 = customW2Vmodel(min_count=5)\n",
        "print('Vocabulary size: ',len(model3.wv.vocab))"
      ],
      "execution_count": 0,
      "outputs": [
        {
          "output_type": "stream",
          "text": [
            "Vocabulary size:  870\n",
            "CPU times: user 32.9 ms, sys: 3.43 ms, total: 36.4 ms\n",
            "Wall time: 38.7 ms\n"
          ],
          "name": "stdout"
        },
        {
          "output_type": "stream",
          "text": [
            "/usr/local/lib/python3.6/dist-packages/ipykernel_launcher.py:4: DeprecationWarning: Call to deprecated `iter` (Attribute will be removed in 4.0.0, use self.epochs instead).\n",
            "  after removing the cwd from sys.path.\n"
          ],
          "name": "stderr"
        }
      ]
    },
    {
      "metadata": {
        "id": "hrfhJFirGzOK",
        "colab_type": "text"
      },
      "cell_type": "markdown",
      "source": [
        "### 2.2.4 Adjusting negative sampling"
      ]
    },
    {
      "metadata": {
        "colab_type": "code",
        "outputId": "c463f5d5-998d-4d10-f6d2-49549f004b74",
        "id": "BLbY6hFoGwp5",
        "colab": {
          "base_uri": "https://localhost:8080/",
          "height": 104
        }
      },
      "cell_type": "code",
      "source": [
        "%%time\n",
        "\n",
        "model4 = customW2Vmodel(negative=10)\n",
        "print('Vocabulary size: ',len(model4.wv.vocab))"
      ],
      "execution_count": 0,
      "outputs": [
        {
          "output_type": "stream",
          "text": [
            "Vocabulary size:  3887\n",
            "CPU times: user 91.6 ms, sys: 6.86 ms, total: 98.4 ms\n",
            "Wall time: 104 ms\n"
          ],
          "name": "stdout"
        },
        {
          "output_type": "stream",
          "text": [
            "/usr/local/lib/python3.6/dist-packages/ipykernel_launcher.py:4: DeprecationWarning: Call to deprecated `iter` (Attribute will be removed in 4.0.0, use self.epochs instead).\n",
            "  after removing the cwd from sys.path.\n"
          ],
          "name": "stderr"
        }
      ]
    },
    {
      "metadata": {
        "id": "_70tNxvUHpDa",
        "colab_type": "text"
      },
      "cell_type": "markdown",
      "source": [
        "### 2.2.5 Adjusting training algorithm (sg=0 for CBOW; sg=1 for skip-gram )"
      ]
    },
    {
      "metadata": {
        "colab_type": "code",
        "outputId": "24fd78eb-d11c-4e13-8bb1-157804f61c6c",
        "id": "zxdVzFifHnJf",
        "colab": {
          "base_uri": "https://localhost:8080/",
          "height": 104
        }
      },
      "cell_type": "code",
      "source": [
        "%%time\n",
        "\n",
        "model5 = customW2Vmodel(sg=0)\n",
        "print('Vocabulary size: ',len(model5.wv.vocab))"
      ],
      "execution_count": 0,
      "outputs": [
        {
          "output_type": "stream",
          "text": [
            "Vocabulary size:  3887\n",
            "CPU times: user 87.4 ms, sys: 4.64 ms, total: 92.1 ms\n",
            "Wall time: 99.7 ms\n"
          ],
          "name": "stdout"
        },
        {
          "output_type": "stream",
          "text": [
            "/usr/local/lib/python3.6/dist-packages/ipykernel_launcher.py:4: DeprecationWarning: Call to deprecated `iter` (Attribute will be removed in 4.0.0, use self.epochs instead).\n",
            "  after removing the cwd from sys.path.\n"
          ],
          "name": "stderr"
        }
      ]
    },
    {
      "metadata": {
        "id": "xs0koOPbPAzV",
        "colab_type": "code",
        "colab": {}
      },
      "cell_type": "code",
      "source": [
        ""
      ],
      "execution_count": 0,
      "outputs": []
    },
    {
      "metadata": {
        "id": "QRZkQfe5w0TP",
        "colab_type": "text"
      },
      "cell_type": "markdown",
      "source": [
        "## 2.3. Compare models with respect to Performance"
      ]
    },
    {
      "metadata": {
        "id": "88rONMZaLDfb",
        "colab_type": "code",
        "colab": {}
      },
      "cell_type": "code",
      "source": [
        "# Model to compare\n",
        "models = [('Basic Model',model0),('Vector Dimensionality 250',model1),\n",
        "          ('Vector Dimensionality 500',model11),('Window Size',model2),\n",
        "          ('Min Token Frequency',model3),('Negative Sampling',model4),\n",
        "          ('Train Algorithm',model5)]"
      ],
      "execution_count": 0,
      "outputs": []
    },
    {
      "metadata": {
        "id": "Wl3G2KcqXoiq",
        "colab_type": "text"
      },
      "cell_type": "markdown",
      "source": [
        "### 2.3.1 Training time"
      ]
    },
    {
      "metadata": {
        "id": "k-dgceTUYQp0",
        "colab_type": "text"
      },
      "cell_type": "markdown",
      "source": [
        ""
      ]
    },
    {
      "metadata": {
        "id": "ZcpWrsAvYSdD",
        "colab_type": "text"
      },
      "cell_type": "markdown",
      "source": [
        "### 2.3.2 10 best pairs of words"
      ]
    },
    {
      "metadata": {
        "id": "CWaa5ZxW4IeF",
        "colab_type": "code",
        "colab": {}
      },
      "cell_type": "code",
      "source": [
        "import pandas as pd"
      ],
      "execution_count": 0,
      "outputs": []
    },
    {
      "metadata": {
        "id": "m_hDRsmz-B7Q",
        "colab_type": "code",
        "colab": {}
      },
      "cell_type": "code",
      "source": [
        "# Function that uses the model to determine the N best pairs of tokens, based on\n",
        "# similarity, among all possible pairs in the vocabolary\n",
        "def bestSimPairs(model,N,vocab=None):\n",
        "  import operator\n",
        "  \n",
        "  # Use dictionary structure to store word pairs and their similarities\n",
        "  similar_pairs = {}\n",
        "  if(vocab == None):\n",
        "    vocab = model.wv.index2word\n",
        "    \n",
        "  # Compare each word of the vocabulary against all others and find similarities\n",
        "  for p1 in vocab:\n",
        "    pairs = model.wv.most_similar(p1,topn=1)\n",
        "    p2,sim = pairs[0]\n",
        "    similar_pairs[(p1, p2)] = sim\n",
        "\n",
        "  # Sort dictionary's data by values\n",
        "  sorted_similar_pairs = sorted(similar_pairs.items(),key=operator.itemgetter(1),reverse=True)\n",
        "\n",
        "  # Since every pair appears twice, I keep every other element of the ordered list\n",
        "  sorted_similar_pairs = sorted_similar_pairs[0:2*N:2]\n",
        "  \n",
        "  return(sorted_similar_pairs) "
      ],
      "execution_count": 0,
      "outputs": []
    },
    {
      "metadata": {
        "colab_type": "code",
        "id": "PgKxMCFyb-wy",
        "colab": {}
      },
      "cell_type": "code",
      "source": [
        "vocab = None\n",
        "\n",
        "best_pairs_by_method = {}\n",
        "\n",
        "for (name,model) in models:\n",
        "  best_pairs_by_method[name] = bestSimPairs(model, 10, vocab)\n",
        "\n",
        "print(pd.DataFrame.from_dict(best_pairs_by_method))"
      ],
      "execution_count": 0,
      "outputs": []
    },
    {
      "metadata": {
        "id": "qrccPKtCZln7",
        "colab_type": "code",
        "colab": {}
      },
      "cell_type": "code",
      "source": [
        "vocab = model3.wv.index2word\n",
        "\n",
        "best_pairs_by_method = {}\n",
        "\n",
        "for (name,model) in models:\n",
        "  best_pairs_by_method[name] = bestSimPairs(model, 10, vocab)\n",
        "\n",
        "print(pd.DataFrame.from_dict(best_pairs_by_method))"
      ],
      "execution_count": 0,
      "outputs": []
    },
    {
      "metadata": {
        "id": "r6Xo4ecmBsuY",
        "colab_type": "text"
      },
      "cell_type": "markdown",
      "source": [
        "### 2.3.3 Compute words' cosine distance"
      ]
    },
    {
      "metadata": {
        "id": "qkTrJ_17Tfv-",
        "colab_type": "text"
      },
      "cell_type": "markdown",
      "source": [
        "Find the cosine distance of pairs of words"
      ]
    },
    {
      "metadata": {
        "colab_type": "code",
        "id": "CcxK2fKyT-WF",
        "colab": {}
      },
      "cell_type": "code",
      "source": [
        "# Function that accepts pairs of words and uses the model to compute the cosine\n",
        "# distance of each pair\n",
        "def cosDist(model, pairs):\n",
        "  cos_dist = []\n",
        "  \n",
        "  for pair in pairs:\n",
        "    w1,w2 = pair\n",
        "    cos_dist.append(model.wv.similarity(w1,w2))\n",
        "    \n",
        "  return(cos_dist)"
      ],
      "execution_count": 0,
      "outputs": []
    },
    {
      "metadata": {
        "colab_type": "code",
        "id": "kKLTeUb8T-W3",
        "colab": {}
      },
      "cell_type": "code",
      "source": [
        "import random\n",
        "\n",
        "# Create 5 random pairs of words from the smallest vocabulary\n",
        "vocab = model3.wv.index2word\n",
        "list = []\n",
        "for i in range(5):\n",
        "  list.append(random.choices(vocab, k=2))\n",
        "\n",
        "cosDist_by_method = {}\n",
        "cosDist_by_method['List of pairs'] = list\n",
        "\n",
        "# Use the methods to determine the cosine distance of words in each pair\n",
        "for (name,model) in models:\n",
        "  cosDist_by_method[name] = cosDist(model, list)\n",
        "\n",
        "print(pd.DataFrame.from_dict(cosDist_by_method).set_index('List of pairs'))"
      ],
      "execution_count": 0,
      "outputs": []
    },
    {
      "metadata": {
        "colab_type": "text",
        "id": "RgEXfXBCX2Kg"
      },
      "cell_type": "markdown",
      "source": [
        "### 2.3.4 Compute phrases' cosine distance"
      ]
    },
    {
      "metadata": {
        "colab_type": "text",
        "id": "C_k2i3o4X374"
      },
      "cell_type": "markdown",
      "source": [
        "Find the cosine distance of lists of words or strings"
      ]
    },
    {
      "metadata": {
        "colab_type": "code",
        "id": "OxeygS2lYLO4",
        "colab": {}
      },
      "cell_type": "code",
      "source": [
        "# Function that accepts pairs of lists of words or strings and uses the model to \n",
        "# compute the cosine distance of each pair. Strings in a pair should have same length\n",
        "def cosDistPhrase(model, lists):\n",
        "  cos_phrase_dist = []\n",
        "  \n",
        "  for pair in lists:\n",
        "    p1,p2 = pair\n",
        "    cos_phrase_dist.append(model.wv.n_similarity(p1,p2))\n",
        "    \n",
        "  return(cos_phrase_dist)"
      ],
      "execution_count": 0,
      "outputs": []
    },
    {
      "metadata": {
        "colab_type": "code",
        "id": "bUQC_NWrYNgK",
        "colab": {}
      },
      "cell_type": "code",
      "source": [
        "import random\n",
        "\n",
        "# Create 5 pairs of random 4-element lists of words from the smallest vocabulary\n",
        "vocab = model3.wv.index2word\n",
        "lists = []\n",
        "for i in range(5):\n",
        "  lists.append([random.choices(vocab, k=4), random.choices(vocab, k=4)])\n",
        "\n",
        "cosDistPhrase_by_method = {}\n",
        "cosDistPhrase_by_method['Lists of pairs'] = lists\n",
        "\n",
        "# Use the methods to determine the cosine distance of words in each list\n",
        "for (name,model) in models:\n",
        "  cosDistPhrase_by_method[name] = cosDistPhrase(model, lists)\n",
        "\n",
        "print(pd.DataFrame.from_dict(cosDistPhrase_by_method).set_index('Lists of pairs'))"
      ],
      "execution_count": 0,
      "outputs": []
    },
    {
      "metadata": {
        "colab_type": "text",
        "id": "05SlVR2qTKxO"
      },
      "cell_type": "markdown",
      "source": [
        "### 2.3.5 Find which word doesn't match with the others"
      ]
    },
    {
      "metadata": {
        "id": "BkpoucYzCIQE",
        "colab_type": "text"
      },
      "cell_type": "markdown",
      "source": [
        "Which word from the given list doesn’t go with the others?"
      ]
    },
    {
      "metadata": {
        "id": "sDCjrKvXaXGf",
        "colab_type": "code",
        "colab": {}
      },
      "cell_type": "code",
      "source": [
        "# Function that accepts lists of words and uses the model to determine which word\n",
        "# doesn't match with the others\n",
        "def doesntMatch(model, lists):\n",
        "  dont_match = []\n",
        "  \n",
        "  for list in lists:\n",
        "    dont_match.append(model.doesnt_match(list))\n",
        "    \n",
        "  return(dont_match)"
      ],
      "execution_count": 0,
      "outputs": []
    },
    {
      "metadata": {
        "id": "PTjlqzdzJKZO",
        "colab_type": "code",
        "colab": {}
      },
      "cell_type": "code",
      "source": [
        "import random\n",
        "\n",
        "# Create 5 random 5-element lists from the smallest vocabulary\n",
        "vocab = model3.wv.index2word\n",
        "lists = []\n",
        "for i in range(5):\n",
        "  lists.append(random.choices(vocab, k=5))\n",
        "\n",
        "doesnt_match_by_method = {}\n",
        "doesnt_match_by_method['Lists of words'] = lists\n",
        "\n",
        "# Use the methods to determine which word doesn't match in each list\n",
        "for (name,model) in models:\n",
        "  doesnt_match_by_method[name] = doesntMatch(model, lists)\n",
        "\n",
        "print(pd.DataFrame.from_dict(doesnt_match_by_method).set_index('Lists of words'))"
      ],
      "execution_count": 0,
      "outputs": []
    },
    {
      "metadata": {
        "id": "q0IYiShkglx7",
        "colab_type": "text"
      },
      "cell_type": "markdown",
      "source": [
        "### 2.3.6 Predict output word"
      ]
    },
    {
      "metadata": {
        "id": "zRFeh2WcglR3",
        "colab_type": "text"
      },
      "cell_type": "markdown",
      "source": [
        "Get the probability distribution of the center word given context words"
      ]
    },
    {
      "metadata": {
        "colab_type": "code",
        "id": "iNNbXmHxg-OF",
        "colab": {}
      },
      "cell_type": "code",
      "source": [
        "# Function that accepts lists of words as context and uses the model to determine\n",
        "# the most probable center word\n",
        "def findCenter(model, lists):\n",
        "  center = []\n",
        "  \n",
        "  for list in lists:\n",
        "    center.append(model.predict_output_word(list, topn=1))\n",
        "    \n",
        "  return(center)"
      ],
      "execution_count": 0,
      "outputs": []
    },
    {
      "metadata": {
        "colab_type": "code",
        "id": "jKVLlCr8hARL",
        "colab": {}
      },
      "cell_type": "code",
      "source": [
        "# List of 5 tokenized random phrases from corpus\n",
        "lists = [['pay','their','taxes','despite','low','likelihood'],\n",
        "        ['incorporate','potentially','given','loss','function'],\n",
        "        ['challenges','accurate','realistic','modeling'],\n",
        "        ['derive','macroscopic','statistics','different','types'],\n",
        "        ['critical','rapid','encoding','novel','information']]\n",
        "\n",
        "center_by_method = {}\n",
        "\n",
        "# Use the methods to determine the center word for each list of context words\n",
        "for (name,model) in models:\n",
        "  center_by_method[name] = findCenter(model, lists)\n",
        "\n",
        "print(pd.DataFrame.from_dict(center_by_method))"
      ],
      "execution_count": 0,
      "outputs": []
    },
    {
      "metadata": {
        "id": "PL6ZVhTn_pJt",
        "colab_type": "code",
        "colab": {}
      },
      "cell_type": "code",
      "source": [
        ""
      ],
      "execution_count": 0,
      "outputs": []
    },
    {
      "metadata": {
        "id": "X64mmVtQNyRZ",
        "colab_type": "code",
        "colab": {}
      },
      "cell_type": "code",
      "source": [
        ""
      ],
      "execution_count": 0,
      "outputs": []
    },
    {
      "metadata": {
        "id": "VhYcuiaJgD45",
        "colab_type": "code",
        "colab": {}
      },
      "cell_type": "code",
      "source": [
        ""
      ],
      "execution_count": 0,
      "outputs": []
    },
    {
      "metadata": {
        "id": "aIXWz4Y4NyCj",
        "colab_type": "code",
        "colab": {}
      },
      "cell_type": "code",
      "source": [
        ""
      ],
      "execution_count": 0,
      "outputs": []
    },
    {
      "metadata": {
        "id": "-Bvv-0zLNx3y",
        "colab_type": "code",
        "colab": {}
      },
      "cell_type": "code",
      "source": [
        ""
      ],
      "execution_count": 0,
      "outputs": []
    },
    {
      "metadata": {
        "id": "9QFUUJcUotIa",
        "colab_type": "code",
        "colab": {}
      },
      "cell_type": "code",
      "source": [
        ""
      ],
      "execution_count": 0,
      "outputs": []
    },
    {
      "metadata": {
        "id": "DPHStF87k2e2",
        "colab_type": "text"
      },
      "cell_type": "markdown",
      "source": [
        "#Part 3"
      ]
    },
    {
      "metadata": {
        "colab_type": "text",
        "id": "lGnA6xESlIrA"
      },
      "cell_type": "markdown",
      "source": [
        "## 3.1. Train a word embedding model on the sentence classification corpus from the UCI Machine Learning repository"
      ]
    },
    {
      "metadata": {
        "id": "DC6TITGKkxGb",
        "colab_type": "code",
        "colab": {}
      },
      "cell_type": "code",
      "source": [
        ""
      ],
      "execution_count": 0,
      "outputs": []
    },
    {
      "metadata": {
        "colab_type": "code",
        "outputId": "5d6f0bf0-fe24-4b46-c9bf-5fbd5ab9d840",
        "id": "ixLV9Y7_M0Mg",
        "colab": {
          "base_uri": "https://localhost:8080/",
          "height": 124
        }
      },
      "cell_type": "code",
      "source": [
        "# Connect to personal Google Drive\n",
        "from google.colab import drive\n",
        "drive.mount('/content/drive/',force_remount=True)"
      ],
      "execution_count": 0,
      "outputs": [
        {
          "output_type": "stream",
          "text": [
            "Go to this URL in a browser: https://accounts.google.com/o/oauth2/auth?client_id=947318989803-6bn6qk8qdgf4n4g3pfee6491hc0brc4i.apps.googleusercontent.com&redirect_uri=urn%3Aietf%3Awg%3Aoauth%3A2.0%3Aoob&scope=email%20https%3A%2F%2Fwww.googleapis.com%2Fauth%2Fdocs.test%20https%3A%2F%2Fwww.googleapis.com%2Fauth%2Fdrive%20https%3A%2F%2Fwww.googleapis.com%2Fauth%2Fdrive.photos.readonly%20https%3A%2F%2Fwww.googleapis.com%2Fauth%2Fpeopleapi.readonly&response_type=code\n",
            "\n",
            "Enter your authorization code:\n",
            "··········\n",
            "Mounted at /content/drive/\n"
          ],
          "name": "stdout"
        }
      ]
    },
    {
      "metadata": {
        "id": "p-gzqcMANitW",
        "colab_type": "code",
        "colab": {}
      },
      "cell_type": "code",
      "source": [
        "import urllib.request\n",
        "import zipfile"
      ],
      "execution_count": 0,
      "outputs": []
    },
    {
      "metadata": {
        "id": "HjIoE_lfNojr",
        "colab_type": "code",
        "colab": {}
      },
      "cell_type": "code",
      "source": [
        "urllib.request.urlretrieve(\"https://archive.ics.uci.edu/ml/machine-learning-databases/00311/SentenceCorpus.zip\", filename=\"SentenceCorpus.zip\")\n",
        "with zipfile.ZipFile('SentenceCorpus.zip', 'r') as z:\n",
        "  z.extractall('/content/drive/My Drive/NLP Assignment 2/Part3/')\n"
      ],
      "execution_count": 0,
      "outputs": []
    },
    {
      "metadata": {
        "colab_type": "code",
        "id": "q5_FYseGLYxq",
        "colab": {}
      },
      "cell_type": "code",
      "source": [
        "# Data paths\n",
        "training_docs_directory = '/content/drive/My Drive/NLP Assignment 2/Part3/SentenceCorpus/labeled_articles/'\n",
        "official_stopwords = '/content/drive/My Drive/NLP Assignment 2/Part3/SentenceCorpus/word_lists/stopwords.txt'\n",
        "vocab_filename = '/content/drive/My Drive/NLP Assignment 2/Part3/vocab.txt'\n",
        "embedding_word2vec_filename = '/content/drive/My Drive/NLP Assignment 2/Part3/embedding_word2vec.txt'\n"
      ],
      "execution_count": 0,
      "outputs": []
    },
    {
      "metadata": {
        "id": "zs_nM3XzIiV9",
        "colab_type": "text"
      },
      "cell_type": "markdown",
      "source": [
        "## 3.2 Train an Embedding Layer on the DataSet\n"
      ]
    },
    {
      "metadata": {
        "id": "7AV_9ZLiIIoG",
        "colab_type": "text"
      },
      "cell_type": "markdown",
      "source": [
        "###3.2.1 Extract the DataSet's vocabulary and save it in a file to Drive for local use"
      ]
    },
    {
      "metadata": {
        "colab_type": "code",
        "outputId": "a90425eb-182c-4494-81e8-dde6b28bee89",
        "id": "IlO_IMuvLYyU",
        "colab": {
          "base_uri": "https://localhost:8080/",
          "height": 193
        }
      },
      "cell_type": "code",
      "source": [
        "from string import punctuation\n",
        "from os import listdir\n",
        "from collections import Counter\n",
        "import nltk\n",
        "nltk.download('stopwords')\n",
        "from nltk.corpus import stopwords\n",
        "\n",
        "# load doc into memory\n",
        "def load_doc(filename):\n",
        "  # open the file as read only\n",
        "  file = open(filename, 'r')\n",
        "  # read all text\n",
        "  text = file.read()\n",
        "  # close the file\n",
        "  file.close()\n",
        "  return text\n",
        "\n",
        "# turn a doc into clean tokens\n",
        "def clean_doc(doc):\n",
        "\t# split into tokens by white space\n",
        "  doc = doc.lower()\n",
        "  tokens = doc.split()\n",
        "  # remove punctuation from each token\n",
        "  table = str.maketrans('', '', punctuation)\n",
        "  tokens = [w.translate(table) for w in tokens]\n",
        "  # remove remaining tokens that are not alphabetic\n",
        "  tokens = [word for word in tokens if word.isalpha()]\n",
        "  # filter out stop words\n",
        "  stop_words = set(stopwords.words('english'))\n",
        "  tokens = [w for w in tokens if not w in list(stop_words)+extra_words_to_remove]\n",
        "  # filter out short tokens\n",
        "  tokens = [word for word in tokens if len(word) > 1]\n",
        "  return tokens\n",
        "\n",
        "# load doc and add to vocab\n",
        "def add_doc_to_vocab(filename, vocab):\n",
        "  # load doc\n",
        "  doc = load_doc(filename)\n",
        "  # clean doc\n",
        "  tokens = clean_doc(doc)\n",
        "  # update counts\n",
        "  vocab.update(tokens)\n",
        "\n",
        "# load all docs in a directory  \n",
        "def process_docs(directory, vocab):\n",
        "  # walk through all files in the folder\n",
        "  for filename in listdir(directory):\n",
        "    # keep docs only drom the first reviewer\n",
        "    if filename.endswith('1.txt'):\n",
        "      # create the full path of the file to open\n",
        "      path = directory+filename\n",
        "      # add doc to vocab\n",
        "      add_doc_to_vocab(path,vocab)\n",
        "\n",
        "# Save list to file\n",
        "def save_list(lines, filename):\n",
        "  # convert lines to a single blob of text\n",
        "  data = '\\n'.join(lines)\n",
        "  # open file\n",
        "  file = open(filename, 'w')\n",
        "  # write text\n",
        "  file.write(data)\n",
        "  # close file\n",
        "  file.close()\n",
        "\n",
        "# Add all docs to vocab\n",
        "# Define vocabulary\n",
        "vocab = Counter()\n",
        "\n",
        "extra_words_to_remove = ['citation','number','symbol','misc',\n",
        "                         'aimx','ownx','cont','base','of','',\n",
        "                         'abstract','introduction']\n",
        "\n",
        "# Decompress and manage DataSet\n",
        "# Get training documents from respective directories\n",
        "process_docs(training_docs_directory, vocab)\n",
        "\n",
        "# The size of the vocab\n",
        "print(\"\\nVocabulary size:\", len(vocab))\n",
        "# Top words in the vocab\n",
        "print(\"\\nMost common words: \\n\", vocab.most_common(50))\n",
        "\n",
        "# Keep tokens with a min occurence\n",
        "min_occurence = 1\n",
        "tokens = [k for k,c in vocab.items() if c >= min_occurence]\n",
        "print(\"\\nUpdated Vocabulary size:\", len(tokens))\n",
        "\n",
        "# Save tokens to a vocabulary file\n",
        "save_list(tokens, vocab_filename)"
      ],
      "execution_count": 0,
      "outputs": [
        {
          "output_type": "stream",
          "text": [
            "[nltk_data] Downloading package stopwords to /root/nltk_data...\n",
            "[nltk_data]   Unzipping corpora/stopwords.zip.\n",
            "\n",
            "Vocabulary size: 3829\n",
            "\n",
            "Most common words: \n",
            " [('model', 94), ('one', 56), ('models', 53), ('may', 49), ('many', 48), ('also', 47), ('based', 47), ('however', 45), ('proteins', 45), ('data', 44), ('results', 42), ('two', 42), ('learning', 41), ('loss', 38), ('selfcontrol', 38), ('participants', 38), ('used', 36), ('using', 35), ('different', 35), ('behavior', 35), ('new', 35), ('well', 34), ('stochastic', 34), ('thus', 33), ('section', 33), ('ion', 32), ('neurons', 31), ('general', 31), ('splicing', 31), ('conflict', 31), ('formula', 31), ('face', 30), ('information', 30), ('first', 30), ('use', 30), ('expected', 30), ('choice', 30), ('network', 29), ('task', 29), ('study', 28), ('example', 28), ('studies', 28), ('analysis', 28), ('et', 28), ('al', 28), ('problem', 28), ('decision', 27), ('paper', 27), ('spatial', 26), ('large', 26)]\n",
            "\n",
            "Updated Vocabulary size: 3829\n"
          ],
          "name": "stdout"
        }
      ]
    },
    {
      "metadata": {
        "id": "G-G9i4ZrJi8C",
        "colab_type": "text"
      },
      "cell_type": "markdown",
      "source": [
        "### 3.2.2 Training the Embedding Layer"
      ]
    },
    {
      "metadata": {
        "id": "oxOKtzy7LnmF",
        "colab_type": "code",
        "colab": {}
      },
      "cell_type": "code",
      "source": [
        ""
      ],
      "execution_count": 0,
      "outputs": []
    },
    {
      "metadata": {
        "colab_type": "code",
        "id": "wcNXnLgGLovy",
        "colab": {}
      },
      "cell_type": "code",
      "source": [
        "# Optional. Recover vocabulary from local file\n",
        "with open(vocab_filename, \"r\") as f:\n",
        "    vocab = f.read().split('\\n')"
      ],
      "execution_count": 0,
      "outputs": []
    },
    {
      "metadata": {
        "id": "KpSfKHWBMDEF",
        "colab_type": "code",
        "outputId": "9d85e609-7893-49d4-a565-bbeb39ea18f2",
        "colab": {
          "base_uri": "https://localhost:8080/",
          "height": 34
        }
      },
      "cell_type": "code",
      "source": [
        "len(vocab)"
      ],
      "execution_count": 0,
      "outputs": [
        {
          "output_type": "execute_result",
          "data": {
            "text/plain": [
              "3829"
            ]
          },
          "metadata": {
            "tags": []
          },
          "execution_count": 4
        }
      ]
    },
    {
      "metadata": {
        "id": "HL2qvmrY3C-t",
        "colab_type": "text"
      },
      "cell_type": "markdown",
      "source": [
        "**Building the data**"
      ]
    },
    {
      "metadata": {
        "colab_type": "code",
        "outputId": "ff87b37b-7725-4e8c-cf5d-ad94dc816fc3",
        "id": "enqN8MxJIgEL",
        "colab": {
          "base_uri": "https://localhost:8080/",
          "height": 141
        }
      },
      "cell_type": "code",
      "source": [
        "from string import punctuation\n",
        "from os import listdir\n",
        "import numpy as np\n",
        "from numpy import array\n",
        "\n",
        "from sklearn.model_selection import train_test_split\n",
        "from sklearn.preprocessing import LabelEncoder\n",
        "from sklearn.preprocessing import OneHotEncoder\n",
        "\n",
        "from keras.preprocessing.text import Tokenizer\n",
        "from keras.preprocessing.sequence import pad_sequences\n",
        "from keras.models import Sequential\n",
        "from keras.layers import Dense\n",
        "from keras.layers import Flatten\n",
        "from keras.layers import Embedding\n",
        "\n",
        "\n",
        "# load doc into memory\n",
        "def load_doc(filename):\n",
        "  # open the file as read only\n",
        "  file = open(filename, 'r')\n",
        "  # read all text\n",
        "  text = file.read()\n",
        "  # close the file\n",
        "  file.close()\n",
        "  return text\n",
        "\n",
        "# turn a doc into clean tokens\n",
        "def doc_to_clean_lines(doc, vocab):\n",
        "  clean_lines = []\n",
        "  lines = doc.splitlines()\n",
        "  for line in lines:\n",
        "    line = line.lower()\n",
        "    # split into tokens by white space\n",
        "    tokens = line.split()\n",
        "    # remove punctuation from each token\n",
        "    table = str.maketrans('', '', punctuation)\n",
        "    tokens = [w.translate(table) for w in tokens]\n",
        "    # remove remaining tokens that are not alphabetic\n",
        "    tokens = [word for word in tokens if word.isalpha()]\n",
        "    # filter out stop words\n",
        "    stop_words = set(stopwords.words('english'))\n",
        "    tokens = [w for w in tokens if not w in list(stop_words)+extra_words_to_remove]\n",
        "    # filter out tokens not in vocab\n",
        "    tokens = [w for w in tokens if w in list(vocab)+classes]\n",
        "    # filter out short tokens\n",
        "    tokens = [word for word in tokens if len(word) > 1]\n",
        "    clean_lines.append(tokens)\n",
        "  return clean_lines\n",
        "\n",
        "# load all docs in a directory\n",
        "def process_docs(directory, vocab):\n",
        "  lines = []\n",
        "  # walk through all files in the folder\n",
        "  for filename in listdir(directory):\n",
        "    # keep docs only drom the first reviewer\n",
        "    if filename.endswith('1.txt'):\n",
        "      # create the full path of the file to open\n",
        "      path = directory + filename\n",
        "      # load and clean the doc\n",
        "      doc = load_doc(path)\n",
        "      doc_lines = doc_to_clean_lines(doc, vocab)\n",
        "      doc_lines = [l for l in doc_lines if len(l) > 0]\n",
        "      doc_lines = [l for l in doc_lines if l[0] in classes]\n",
        "      # add lines to list\n",
        "      lines += doc_lines\n",
        "  return lines\n",
        "\n",
        "\n",
        "classes = ['aimx','base','cont','misc','ownx']\n",
        "\n",
        "extra_words_to_remove = ['citation','number','symbol','of','','abstract','introduction']\n",
        "\n",
        "# Get training documents from respective directories\n",
        "# Each element is a single line (list of clean tokens) of the training documents\n",
        "training_docs = process_docs(training_docs_directory, vocab)\n",
        "\n",
        "X = []\n",
        "y = []\n",
        "for line in training_docs:\n",
        "  y.append(line[0])\n",
        "  X.append(line[1:])\n",
        "  \n",
        "# Handling Categorical y values\n",
        "# First transform categorical values to integers\n",
        "le = LabelEncoder()\n",
        "y = le.fit_transform(y)\n",
        "print('Original y labels: ', classes)\n",
        "print('Integer encoded y labels: ', le.transform(classes))\n",
        "\n",
        "# Then use One Hot encoding\n",
        "ohe = OneHotEncoder(sparse=False)\n",
        "y = y.reshape(len(y),1)\n",
        "y = ohe.fit_transform(y)\n",
        "# One could use only the initial Integer encoder and not the following One Hot.\n",
        "# Then during Network compilation should use loss='sparse_categorical_crossentropy'\n",
        "\n",
        "# Split training-testing data\n",
        "X_train,X_test,y_train,y_test=train_test_split(X,y,test_size=0.2,\n",
        "                                               stratify=y, random_state=0)\n",
        "\n",
        "# create the tokenizer\n",
        "tokenizer = Tokenizer()\n",
        "# fit the tokenizer on the documents\n",
        "tokenizer.fit_on_texts(X)\n",
        "\n",
        "# define vocabulary size (largest integer value)\n",
        "vocab_size = len(tokenizer.word_index) + 1\n",
        "\n",
        "# encode sequences\n",
        "encoded_X_train = tokenizer.texts_to_sequences(X_train)\n",
        "encoded_X_test = tokenizer.texts_to_sequences(X_test)\n",
        "\n",
        "# pad sequences\n",
        "max_length = max([len(s) for s in X])\n",
        "X_train_pad = pad_sequences(encoded_X_train, maxlen=max_length, padding='post')\n",
        "X_test_pad = pad_sequences(encoded_X_test, maxlen=max_length, padding='post')\n"
      ],
      "execution_count": 0,
      "outputs": [
        {
          "output_type": "stream",
          "text": [
            "Original y labels:  ['aimx', 'base', 'cont', 'misc', 'ownx']\n",
            "Integer encoded y labels:  [0 1 2 3 4]\n"
          ],
          "name": "stdout"
        },
        {
          "output_type": "stream",
          "text": [
            "/usr/local/lib/python3.6/dist-packages/sklearn/preprocessing/_encoders.py:368: FutureWarning: The handling of integer data will change in version 0.22. Currently, the categories are determined based on the range [0, max(values)], while in the future they will be determined based on the unique values.\n",
            "If you want the future behaviour and silence this warning, you can specify \"categories='auto'\".\n",
            "In case you used a LabelEncoder before this OneHotEncoder to convert the categories to integers, then you can now use the OneHotEncoder directly.\n",
            "  warnings.warn(msg, FutureWarning)\n"
          ],
          "name": "stderr"
        }
      ]
    },
    {
      "metadata": {
        "id": "1pbOvNvr3Q83",
        "colab_type": "text"
      },
      "cell_type": "markdown",
      "source": [
        "**Define and Train the model**\n",
        "\n",
        "I define the model inside a function in order to be able to call it on the next part of the Assignment"
      ]
    },
    {
      "metadata": {
        "colab_type": "code",
        "outputId": "1b54a45e-3e4b-41e9-d2fe-182fbb3415bd",
        "id": "wHpjPLmM6pAy",
        "colab": {
          "base_uri": "https://localhost:8080/",
          "height": 590
        }
      },
      "cell_type": "code",
      "source": [
        "\n",
        "# Model's parameters\n",
        "output_dim = 100\n",
        "activation = 'softmax'\n",
        "losses = 'categorical_crossentropy'\n",
        "optimizer = 'adam'\n",
        "\n",
        "parameters = [output_dim, activation, losses, optimizer]\n",
        "\n",
        "def annDef(param):\n",
        "  # Define Model\n",
        "  model = Sequential()\n",
        "  model.add(Embedding(vocab_size, output_dim=output_dim, input_length=max_length))\n",
        "  model.add(Flatten())\n",
        "  model.add(Dense(5, activation=activation))\n",
        "  print(model.summary())\n",
        "\n",
        "  # Compile Network\n",
        "  model.compile(loss=losses, optimizer=optimizer, metrics=['accuracy'])\n",
        "\n",
        "  # Fit Network to training data\n",
        "  model.fit(X_train_pad, y_train, epochs=9, verbose=2)\n",
        "\n",
        "  # Evaluate Network during Training\n",
        "  loss, acc = model.evaluate(X_test_pad, y_test, verbose=2)\n",
        "  print('Test Accuracy: %f' % (acc*100))\n",
        "  \n",
        "\n",
        "annDef(parameters)"
      ],
      "execution_count": 0,
      "outputs": [
        {
          "output_type": "stream",
          "text": [
            "_________________________________________________________________\n",
            "Layer (type)                 Output Shape              Param #   \n",
            "=================================================================\n",
            "embedding_13 (Embedding)     (None, 54, 100)           378100    \n",
            "_________________________________________________________________\n",
            "flatten_13 (Flatten)         (None, 5400)              0         \n",
            "_________________________________________________________________\n",
            "dense_13 (Dense)             (None, 5)                 27005     \n",
            "=================================================================\n",
            "Total params: 405,105\n",
            "Trainable params: 405,105\n",
            "Non-trainable params: 0\n",
            "_________________________________________________________________\n",
            "None\n",
            "Epoch 1/9\n",
            " - 1s - loss: 1.2210 - acc: 0.5463\n",
            "Epoch 2/9\n",
            " - 0s - loss: 1.0605 - acc: 0.5691\n",
            "Epoch 3/9\n",
            " - 0s - loss: 0.9509 - acc: 0.6109\n",
            "Epoch 4/9\n",
            " - 0s - loss: 0.7732 - acc: 0.7541\n",
            "Epoch 5/9\n",
            " - 0s - loss: 0.5658 - acc: 0.8657\n",
            "Epoch 6/9\n",
            " - 0s - loss: 0.3799 - acc: 0.9113\n",
            "Epoch 7/9\n",
            " - 0s - loss: 0.2484 - acc: 0.9620\n",
            "Epoch 8/9\n",
            " - 0s - loss: 0.1614 - acc: 0.9797\n",
            "Epoch 9/9\n",
            " - 0s - loss: 0.1097 - acc: 0.9975\n",
            "Test Accuracy: 66.161616\n"
          ],
          "name": "stdout"
        }
      ]
    },
    {
      "metadata": {
        "id": "BTQIKu_BqxFp",
        "colab_type": "text"
      },
      "cell_type": "markdown",
      "source": [
        "### 3.2.3 Model evaluation"
      ]
    },
    {
      "metadata": {
        "id": "oIC1NpqPrQdm",
        "colab_type": "text"
      },
      "cell_type": "markdown",
      "source": [
        "**Importing the metrics**\n",
        "\n",
        "I will use the well known metrics from sklearn library"
      ]
    },
    {
      "metadata": {
        "id": "QtkACVCRkw5z",
        "colab_type": "code",
        "colab": {}
      },
      "cell_type": "code",
      "source": [
        "from sklearn.metrics import accuracy_score, recall_score, precision_score, f1_score"
      ],
      "execution_count": 0,
      "outputs": []
    },
    {
      "metadata": {
        "id": "goMFQhr9rkfl",
        "colab_type": "text"
      },
      "cell_type": "markdown",
      "source": [
        "**Prediction on the test set**\n",
        "\n",
        "Use trained model to extract the predictions for the test set of data"
      ]
    },
    {
      "metadata": {
        "id": "OBWKxT9lkwr2",
        "colab_type": "code",
        "outputId": "3a48a014-3b58-4db8-bf8f-1e629057712d",
        "colab": {
          "base_uri": "https://localhost:8080/",
          "height": 208
        }
      },
      "cell_type": "code",
      "source": [
        "y_pred = model.predict(X_test_pad)\n",
        "y_pred[:10]"
      ],
      "execution_count": 0,
      "outputs": [
        {
          "output_type": "execute_result",
          "data": {
            "text/plain": [
              "array([[0.09219462, 0.04608542, 0.15531528, 0.5465894 , 0.15981534],\n",
              "       [0.10093796, 0.01643793, 0.03671785, 0.35516036, 0.49074593],\n",
              "       [0.05974241, 0.03101873, 0.09567717, 0.6557851 , 0.15777653],\n",
              "       [0.09733406, 0.04530179, 0.10479407, 0.5941534 , 0.15841658],\n",
              "       [0.07198561, 0.02955396, 0.06470992, 0.30316287, 0.5305877 ],\n",
              "       [0.05974613, 0.04046119, 0.08096776, 0.6182486 , 0.20057632],\n",
              "       [0.03971857, 0.01995657, 0.05085668, 0.69847393, 0.19099428],\n",
              "       [0.08063358, 0.03972827, 0.08142791, 0.62419605, 0.17401424],\n",
              "       [0.11142304, 0.05477554, 0.12506817, 0.42333153, 0.28540173],\n",
              "       [0.06111559, 0.02238742, 0.05456707, 0.61667806, 0.24525186]],\n",
              "      dtype=float32)"
            ]
          },
          "metadata": {
            "tags": []
          },
          "execution_count": 47
        }
      ]
    },
    {
      "metadata": {
        "id": "uX3xNC9VsPhK",
        "colab_type": "text"
      },
      "cell_type": "markdown",
      "source": [
        "It's obvious that the prediction for each sample is in the SoftMax format. The output is composed by 5 float numbers denoting the probability the sample to belong to each one of the 5 categories."
      ]
    },
    {
      "metadata": {
        "id": "q2rSPdQotqap",
        "colab_type": "text"
      },
      "cell_type": "markdown",
      "source": [
        "**Turning probabilities into Labels**\n",
        "\n",
        "My task is to restore the original labels for testing data. I will follow the opposite procedure than the one used to encode the categorical y values:\n",
        "\n",
        "- Turn SoftMax format into Integer encoding\n",
        "- Turn Integer encoding into original labels, using the original fitted LabelEncoder() instance (inverse transformation)."
      ]
    },
    {
      "metadata": {
        "id": "OTFJJ78dk1n9",
        "colab_type": "code",
        "outputId": "324a4a1f-fab5-4891-ec23-524e8c2bd1d4",
        "colab": {
          "base_uri": "https://localhost:8080/",
          "height": 34
        }
      },
      "cell_type": "code",
      "source": [
        "# Integer encoding\n",
        "# argmax() function will replace the set of probabilities with the index of\n",
        "# the higher probability \n",
        "y_p = np.argmax(y_pred, axis=1)\n",
        "y_p_t = np.argmax(y_test, axis=1)\n",
        "y_p[:10]"
      ],
      "execution_count": 0,
      "outputs": [
        {
          "output_type": "execute_result",
          "data": {
            "text/plain": [
              "array([3, 4, 3, 3, 4, 3, 3, 3, 3, 3])"
            ]
          },
          "metadata": {
            "tags": []
          },
          "execution_count": 48
        }
      ]
    },
    {
      "metadata": {
        "id": "2Ya6dUiXlbzN",
        "colab_type": "code",
        "outputId": "393bf863-fc49-4bad-964f-331f1b1f63c5",
        "colab": {
          "base_uri": "https://localhost:8080/",
          "height": 52
        }
      },
      "cell_type": "code",
      "source": [
        "# Inverse transformation of Integer encoding to Labels\n",
        "y_predictions = le.inverse_transform(y_p)\n",
        "y_true = le.inverse_transform(y_p_t)\n",
        "y_predictions[:10]"
      ],
      "execution_count": 0,
      "outputs": [
        {
          "output_type": "execute_result",
          "data": {
            "text/plain": [
              "array(['misc', 'ownx', 'misc', 'misc', 'ownx', 'misc', 'misc', 'misc',\n",
              "       'misc', 'misc'], dtype='<U4')"
            ]
          },
          "metadata": {
            "tags": []
          },
          "execution_count": 49
        }
      ]
    },
    {
      "metadata": {
        "id": "OAn9rJri3Nl_",
        "colab_type": "text"
      },
      "cell_type": "markdown",
      "source": [
        "**Calculate the metrics**"
      ]
    },
    {
      "metadata": {
        "id": "nY-mC48wlbGF",
        "colab_type": "code",
        "outputId": "5cd856c4-1949-4ab3-a278-09707b445ec2",
        "colab": {
          "base_uri": "https://localhost:8080/",
          "height": 86
        }
      },
      "cell_type": "code",
      "source": [
        "accuracy = accuracy_score(y_true,y_predictions)\n",
        "recall = recall_score(y_true,y_predictions,average='macro')\n",
        "precision = precision_score(y_true,y_predictions,average='macro')\n",
        "f1 = f1_score(y_true,y_predictions,average='macro')"
      ],
      "execution_count": 0,
      "outputs": [
        {
          "output_type": "stream",
          "text": [
            "/usr/local/lib/python3.6/dist-packages/sklearn/metrics/classification.py:1143: UndefinedMetricWarning: Precision is ill-defined and being set to 0.0 in labels with no predicted samples.\n",
            "  'precision', 'predicted', average, warn_for)\n",
            "/usr/local/lib/python3.6/dist-packages/sklearn/metrics/classification.py:1143: UndefinedMetricWarning: F-score is ill-defined and being set to 0.0 in labels with no predicted samples.\n",
            "  'precision', 'predicted', average, warn_for)\n"
          ],
          "name": "stderr"
        }
      ]
    },
    {
      "metadata": {
        "id": "2H-YYCw4la2j",
        "colab_type": "code",
        "outputId": "2ebf6e34-df6c-4de2-9ea0-43be7f3ec7cd",
        "colab": {
          "base_uri": "https://localhost:8080/",
          "height": 86
        }
      },
      "cell_type": "code",
      "source": [
        "print('Accuracy:\\t{:.3f}'.format(accuracy))\n",
        "print('Recall:\\t\\t{:.3f}'.format(recall))\n",
        "print('Precision:\\t{:.3f}'.format(precision))\n",
        "print('F1 score:\\t{:.3f}'.format(f1))"
      ],
      "execution_count": 0,
      "outputs": [
        {
          "output_type": "stream",
          "text": [
            "Accuracy:\t0.667\n",
            "Recall:\t\t0.347\n",
            "Precision:\t0.560\n",
            "F1 score:\t0.376\n"
          ],
          "name": "stdout"
        }
      ]
    },
    {
      "metadata": {
        "id": "a5h9RrolNxd4",
        "colab_type": "code",
        "colab": {}
      },
      "cell_type": "code",
      "source": [
        ""
      ],
      "execution_count": 0,
      "outputs": []
    },
    {
      "metadata": {
        "id": "ZA4AGJklKz0I",
        "colab_type": "text"
      },
      "cell_type": "markdown",
      "source": [
        "## 3.3 Experimenting with various parameters of the Classifier"
      ]
    },
    {
      "metadata": {
        "id": "XkeJpIDYOxNJ",
        "colab_type": "text"
      },
      "cell_type": "markdown",
      "source": [
        "**Model definition function from previous part**"
      ]
    },
    {
      "metadata": {
        "id": "HhCBZUKeOwgH",
        "colab_type": "code",
        "colab": {}
      },
      "cell_type": "code",
      "source": [
        "def annDef(od, act, los, opt):\n",
        "  # Define Model\n",
        "  model = Sequential()\n",
        "  model.add(Embedding(vocab_size, output_dim=od, input_length=max_length))\n",
        "  model.add(Flatten())\n",
        "  model.add(Dense(5, activation=act))\n",
        "  print(model.summary())\n",
        "\n",
        "  # Compile Network\n",
        "  model.compile(loss=los, optimizer=opt, metrics=['accuracy'])\n",
        "\n",
        "  # Fit Network to training data\n",
        "  model.fit(X_train_pad, y_train, epochs=9, verbose=2)\n",
        "\n",
        "  # Evaluate Network during Training\n",
        "  loss, acc = model.evaluate(X_test_pad, y_test, verbose=2)\n",
        "  print('Test Accuracy: %f' % (acc*100))\n",
        "  \n",
        "  return(model)\n",
        "  "
      ],
      "execution_count": 0,
      "outputs": []
    },
    {
      "metadata": {
        "id": "cwTpybZ1R2SR",
        "colab_type": "text"
      },
      "cell_type": "markdown",
      "source": [
        "**Model evaluation function**"
      ]
    },
    {
      "metadata": {
        "id": "XPojGkU0R17N",
        "colab_type": "code",
        "colab": {}
      },
      "cell_type": "code",
      "source": [
        "def evalModel(model):\n",
        "  y_pred = model.predict(X_test_pad)\n",
        "  y_p = np.argmax(y_pred, axis=1)\n",
        "  y_p_t = np.argmax(y_test, axis=1)\n",
        "  y_predictions = le.inverse_transform(y_p)\n",
        "  y_true = le.inverse_transform(y_p_t)\n",
        "  accuracy = accuracy_score(y_true,y_predictions)\n",
        "  recall = recall_score(y_true,y_predictions,average='macro')\n",
        "  precision = precision_score(y_true,y_predictions,average='macro')\n",
        "  f1 = f1_score(y_true,y_predictions,average='macro')\n",
        "  return((accuracy,recall,precision,f1))"
      ],
      "execution_count": 0,
      "outputs": []
    },
    {
      "metadata": {
        "id": "8ZusO0fZPCi6",
        "colab_type": "text"
      },
      "cell_type": "markdown",
      "source": [
        "**Define model's parameters and execute 3 times with the same set**"
      ]
    },
    {
      "metadata": {
        "colab_type": "code",
        "outputId": "abad4a0a-b5a7-4ca2-dd12-9823a203b7d2",
        "id": "MbsGkVP3LUYw",
        "colab": {
          "base_uri": "https://localhost:8080/",
          "height": 41350
        }
      },
      "cell_type": "code",
      "source": [
        "import pandas as pd\n",
        "from sklearn.metrics import accuracy_score,recall_score,precision_score,f1_score\n",
        "\n",
        "# Dataframe to store total results\n",
        "headers=['Dimensions','Activation','Losses','Optimizer','Accurasy(+/-sd)',\n",
        "         'Recall(+/-sd)','Precision(+/-sd)','F1_score(+/-sd)']\n",
        "headers2 = ['Accurasy','Recall','Precision','F1_score']\n",
        "\n",
        "total = pd.DataFrame(columns=headers)\n",
        "\n",
        "# Model's parameters' range\n",
        "output_dim = [100,250,500]\n",
        "activation = ['softmax','sigmoid']\n",
        "losses = ['categorical_crossentropy','binary_crossentropy']\n",
        "optimizer = ['adam','sgd']\n",
        "\n",
        "# Testing set\n",
        "# output_dim = [100]\n",
        "# activation = ['softmax',]\n",
        "# losses = ['categorical_crossentropy',]\n",
        "# optimizer = ['adam',]\n",
        "\n",
        "for od in output_dim:\n",
        "  for act in activation:\n",
        "    for los in losses:\n",
        "      for opt in optimizer:\n",
        "        \n",
        "        parameters = [od, act, los, opt]\n",
        "        # List to store the results of each set\n",
        "        results = []\n",
        "        # Dataframe to store the results of each run\n",
        "        temp = pd.DataFrame(columns=headers2)\n",
        "        \n",
        "        # Execute model 3 times for each set\n",
        "        for i in range(3):\n",
        "          model = annDef(od, act, los, opt)\n",
        "          (accuracy,recall,precision,f1) = evalModel(model)\n",
        "          # Store run results as a new row to dataframe\n",
        "          new_row = pd.Series([accuracy,recall,precision,f1], index=headers2)\n",
        "          temp = temp.append(new_row, ignore_index=1)\n",
        "        \n",
        "        # Get the statistics of the 3 executions\n",
        "        acc = temp.Accurasy.mean()\n",
        "        accSd = temp.Accurasy.std()\n",
        "        rec = temp.Recall.mean()\n",
        "        recSd = temp.Recall.std()\n",
        "        pre = temp.Precision.mean()\n",
        "        preSd = temp.Precision.std()\n",
        "        f1 = temp.F1_score.mean()\n",
        "        f1Sd = temp.F1_score.std()\n",
        "        \n",
        "        # Statistics as stings\n",
        "        accStr = '%.3f+/-%.3f' % (acc, accSd)\n",
        "        recStr = '%.3f+/-%.3f' % (rec, recSd)\n",
        "        preStr = '%.3f+/-%.3f' % (pre, preSd)\n",
        "        f1Str = '%.3f+/-%.3f' % (f1, f1Sd)\n",
        "        \n",
        "        stats = [accStr,recStr,preStr,f1Str]\n",
        "        \n",
        "        # Store the final results of set\n",
        "        results.extend(parameters)\n",
        "        results.extend(stats)\n",
        "        \n",
        "        new_row = pd.Series(results, index=headers)\n",
        "        total = total.append(new_row, ignore_index=1)\n",
        "\n",
        "  \n"
      ],
      "execution_count": 0,
      "outputs": [
        {
          "output_type": "stream",
          "text": [
            "_________________________________________________________________\n",
            "Layer (type)                 Output Shape              Param #   \n",
            "=================================================================\n",
            "embedding_51 (Embedding)     (None, 54, 100)           378100    \n",
            "_________________________________________________________________\n",
            "flatten_50 (Flatten)         (None, 5400)              0         \n",
            "_________________________________________________________________\n",
            "dense_50 (Dense)             (None, 5)                 27005     \n",
            "=================================================================\n",
            "Total params: 405,105\n",
            "Trainable params: 405,105\n",
            "Non-trainable params: 0\n",
            "_________________________________________________________________\n",
            "None\n",
            "Epoch 1/9\n",
            " - 3s - loss: 1.2247 - acc: 0.5488\n",
            "Epoch 2/9\n",
            " - 0s - loss: 1.0618 - acc: 0.5691\n",
            "Epoch 3/9\n",
            " - 0s - loss: 0.9544 - acc: 0.5830\n",
            "Epoch 4/9\n",
            " - 0s - loss: 0.7712 - acc: 0.7516\n",
            "Epoch 5/9\n",
            " - 0s - loss: 0.5613 - acc: 0.8657\n",
            "Epoch 6/9\n",
            " - 0s - loss: 0.3716 - acc: 0.9252\n",
            "Epoch 7/9\n",
            " - 0s - loss: 0.2403 - acc: 0.9658\n",
            "Epoch 8/9\n",
            " - 0s - loss: 0.1556 - acc: 0.9848\n",
            "Epoch 9/9\n",
            " - 0s - loss: 0.1035 - acc: 0.9975\n",
            "Test Accuracy: 66.666667\n"
          ],
          "name": "stdout"
        },
        {
          "output_type": "stream",
          "text": [
            "/usr/local/lib/python3.6/dist-packages/sklearn/metrics/classification.py:1143: UndefinedMetricWarning: Precision is ill-defined and being set to 0.0 in labels with no predicted samples.\n",
            "  'precision', 'predicted', average, warn_for)\n",
            "/usr/local/lib/python3.6/dist-packages/sklearn/metrics/classification.py:1143: UndefinedMetricWarning: F-score is ill-defined and being set to 0.0 in labels with no predicted samples.\n",
            "  'precision', 'predicted', average, warn_for)\n"
          ],
          "name": "stderr"
        },
        {
          "output_type": "stream",
          "text": [
            "_________________________________________________________________\n",
            "Layer (type)                 Output Shape              Param #   \n",
            "=================================================================\n",
            "embedding_52 (Embedding)     (None, 54, 100)           378100    \n",
            "_________________________________________________________________\n",
            "flatten_51 (Flatten)         (None, 5400)              0         \n",
            "_________________________________________________________________\n",
            "dense_51 (Dense)             (None, 5)                 27005     \n",
            "=================================================================\n",
            "Total params: 405,105\n",
            "Trainable params: 405,105\n",
            "Non-trainable params: 0\n",
            "_________________________________________________________________\n",
            "None\n",
            "Epoch 1/9\n",
            " - 2s - loss: 1.2220 - acc: 0.5602\n",
            "Epoch 2/9\n",
            " - 0s - loss: 1.0654 - acc: 0.5691\n",
            "Epoch 3/9\n",
            " - 0s - loss: 0.9542 - acc: 0.5868\n",
            "Epoch 4/9\n",
            " - 0s - loss: 0.7866 - acc: 0.7478\n",
            "Epoch 5/9\n",
            " - 0s - loss: 0.5684 - acc: 0.8745\n",
            "Epoch 6/9\n",
            " - 0s - loss: 0.3847 - acc: 0.9163\n",
            "Epoch 7/9\n",
            " - 0s - loss: 0.2476 - acc: 0.9632\n",
            "Epoch 8/9\n",
            " - 0s - loss: 0.1611 - acc: 0.9835\n",
            "Epoch 9/9\n",
            " - 0s - loss: 0.1089 - acc: 0.9975\n",
            "Test Accuracy: 63.131313\n",
            "_________________________________________________________________\n",
            "Layer (type)                 Output Shape              Param #   \n",
            "=================================================================\n",
            "embedding_53 (Embedding)     (None, 54, 100)           378100    \n",
            "_________________________________________________________________\n",
            "flatten_52 (Flatten)         (None, 5400)              0         \n",
            "_________________________________________________________________\n",
            "dense_52 (Dense)             (None, 5)                 27005     \n",
            "=================================================================\n",
            "Total params: 405,105\n",
            "Trainable params: 405,105\n",
            "Non-trainable params: 0\n",
            "_________________________________________________________________\n",
            "None\n",
            "Epoch 1/9\n",
            " - 2s - loss: 1.2001 - acc: 0.5564\n",
            "Epoch 2/9\n",
            " - 0s - loss: 1.0588 - acc: 0.5691\n",
            "Epoch 3/9\n",
            " - 0s - loss: 0.9494 - acc: 0.5868\n",
            "Epoch 4/9\n",
            " - 0s - loss: 0.7708 - acc: 0.7414\n",
            "Epoch 5/9\n",
            " - 0s - loss: 0.5581 - acc: 0.8606\n",
            "Epoch 6/9\n",
            " - 0s - loss: 0.3711 - acc: 0.9240\n",
            "Epoch 7/9\n",
            " - 0s - loss: 0.2412 - acc: 0.9645\n",
            "Epoch 8/9\n",
            " - 0s - loss: 0.1569 - acc: 0.9873\n",
            "Epoch 9/9\n",
            " - 0s - loss: 0.1048 - acc: 0.9975\n",
            "Test Accuracy: 67.171717\n",
            "_________________________________________________________________\n",
            "Layer (type)                 Output Shape              Param #   \n",
            "=================================================================\n",
            "embedding_54 (Embedding)     (None, 54, 100)           378100    \n",
            "_________________________________________________________________\n",
            "flatten_53 (Flatten)         (None, 5400)              0         \n",
            "_________________________________________________________________\n",
            "dense_53 (Dense)             (None, 5)                 27005     \n",
            "=================================================================\n",
            "Total params: 405,105\n",
            "Trainable params: 405,105\n",
            "Non-trainable params: 0\n",
            "_________________________________________________________________\n",
            "None\n",
            "Epoch 1/9\n",
            " - 2s - loss: 1.4809 - acc: 0.5501\n",
            "Epoch 2/9\n",
            " - 0s - loss: 1.2673 - acc: 0.5678\n",
            "Epoch 3/9\n",
            " - 0s - loss: 1.1711 - acc: 0.5691\n",
            "Epoch 4/9\n",
            " - 0s - loss: 1.1419 - acc: 0.5691\n",
            "Epoch 5/9\n",
            " - 0s - loss: 1.1318 - acc: 0.5691\n",
            "Epoch 6/9\n",
            " - 0s - loss: 1.1278 - acc: 0.5691\n",
            "Epoch 7/9\n",
            " - 0s - loss: 1.1250 - acc: 0.5691\n",
            "Epoch 8/9\n",
            " - 0s - loss: 1.1232 - acc: 0.5691\n",
            "Epoch 9/9\n",
            " - 0s - loss: 1.1221 - acc: 0.5691\n",
            "Test Accuracy: 57.070707\n",
            "_________________________________________________________________\n",
            "Layer (type)                 Output Shape              Param #   \n",
            "=================================================================\n",
            "embedding_55 (Embedding)     (None, 54, 100)           378100    \n",
            "_________________________________________________________________\n",
            "flatten_54 (Flatten)         (None, 5400)              0         \n",
            "_________________________________________________________________\n",
            "dense_54 (Dense)             (None, 5)                 27005     \n",
            "=================================================================\n",
            "Total params: 405,105\n",
            "Trainable params: 405,105\n",
            "Non-trainable params: 0\n",
            "_________________________________________________________________\n",
            "None\n",
            "Epoch 1/9\n",
            " - 2s - loss: 1.4920 - acc: 0.5349\n",
            "Epoch 2/9\n",
            " - 0s - loss: 1.2774 - acc: 0.5691\n",
            "Epoch 3/9\n",
            " - 0s - loss: 1.1749 - acc: 0.5691\n",
            "Epoch 4/9\n",
            " - 0s - loss: 1.1425 - acc: 0.5691\n",
            "Epoch 5/9\n",
            " - 0s - loss: 1.1316 - acc: 0.5691\n",
            "Epoch 6/9\n",
            " - 0s - loss: 1.1266 - acc: 0.5691\n",
            "Epoch 7/9\n",
            " - 0s - loss: 1.1238 - acc: 0.5691\n",
            "Epoch 8/9\n",
            " - 0s - loss: 1.1222 - acc: 0.5691\n",
            "Epoch 9/9\n",
            " - 0s - loss: 1.1209 - acc: 0.5691\n",
            "Test Accuracy: 57.070707\n",
            "_________________________________________________________________\n",
            "Layer (type)                 Output Shape              Param #   \n",
            "=================================================================\n",
            "embedding_56 (Embedding)     (None, 54, 100)           378100    \n",
            "_________________________________________________________________\n",
            "flatten_55 (Flatten)         (None, 5400)              0         \n",
            "_________________________________________________________________\n",
            "dense_55 (Dense)             (None, 5)                 27005     \n",
            "=================================================================\n",
            "Total params: 405,105\n",
            "Trainable params: 405,105\n",
            "Non-trainable params: 0\n",
            "_________________________________________________________________\n",
            "None\n",
            "Epoch 1/9\n",
            " - 2s - loss: 1.5057 - acc: 0.5070\n",
            "Epoch 2/9\n",
            " - 0s - loss: 1.2907 - acc: 0.5691\n",
            "Epoch 3/9\n",
            " - 0s - loss: 1.1809 - acc: 0.5691\n",
            "Epoch 4/9\n",
            " - 0s - loss: 1.1451 - acc: 0.5691\n",
            "Epoch 5/9\n",
            " - 0s - loss: 1.1327 - acc: 0.5691\n",
            "Epoch 6/9\n",
            " - 0s - loss: 1.1273 - acc: 0.5691\n",
            "Epoch 7/9\n",
            " - 0s - loss: 1.1250 - acc: 0.5691\n",
            "Epoch 8/9\n",
            " - 0s - loss: 1.1232 - acc: 0.5691\n",
            "Epoch 9/9\n",
            " - 0s - loss: 1.1217 - acc: 0.5691\n",
            "Test Accuracy: 57.070707\n",
            "_________________________________________________________________\n",
            "Layer (type)                 Output Shape              Param #   \n",
            "=================================================================\n",
            "embedding_57 (Embedding)     (None, 54, 100)           378100    \n",
            "_________________________________________________________________\n",
            "flatten_56 (Flatten)         (None, 5400)              0         \n",
            "_________________________________________________________________\n",
            "dense_56 (Dense)             (None, 5)                 27005     \n",
            "=================================================================\n",
            "Total params: 405,105\n",
            "Trainable params: 405,105\n",
            "Non-trainable params: 0\n",
            "_________________________________________________________________\n",
            "None\n",
            "Epoch 1/9\n",
            " - 2s - loss: 0.3964 - acc: 0.8213\n",
            "Epoch 2/9\n",
            " - 0s - loss: 0.3588 - acc: 0.8360\n",
            "Epoch 3/9\n",
            " - 0s - loss: 0.3192 - acc: 0.8831\n",
            "Epoch 4/9\n",
            " - 0s - loss: 0.2591 - acc: 0.9169\n",
            "Epoch 5/9\n",
            " - 0s - loss: 0.1908 - acc: 0.9605\n",
            "Epoch 6/9\n",
            " - 0s - loss: 0.1345 - acc: 0.9696\n",
            "Epoch 7/9\n",
            " - 0s - loss: 0.0917 - acc: 0.9790\n",
            "Epoch 8/9\n",
            " - 0s - loss: 0.0621 - acc: 0.9894\n",
            "Epoch 9/9\n",
            " - 0s - loss: 0.0419 - acc: 0.9937\n",
            "Test Accuracy: 86.363636\n",
            "_________________________________________________________________\n",
            "Layer (type)                 Output Shape              Param #   \n",
            "=================================================================\n",
            "embedding_58 (Embedding)     (None, 54, 100)           378100    \n",
            "_________________________________________________________________\n",
            "flatten_57 (Flatten)         (None, 5400)              0         \n",
            "_________________________________________________________________\n",
            "dense_57 (Dense)             (None, 5)                 27005     \n",
            "=================================================================\n",
            "Total params: 405,105\n",
            "Trainable params: 405,105\n",
            "Non-trainable params: 0\n",
            "_________________________________________________________________\n",
            "None\n",
            "Epoch 1/9\n",
            " - 3s - loss: 0.3984 - acc: 0.8210\n",
            "Epoch 2/9\n",
            " - 0s - loss: 0.3548 - acc: 0.8517\n",
            "Epoch 3/9\n",
            " - 0s - loss: 0.3191 - acc: 0.8707\n",
            "Epoch 4/9\n",
            " - 0s - loss: 0.2588 - acc: 0.9158\n",
            "Epoch 5/9\n",
            " - 0s - loss: 0.1893 - acc: 0.9643\n",
            "Epoch 6/9\n",
            " - 0s - loss: 0.1336 - acc: 0.9683\n",
            "Epoch 7/9\n",
            " - 0s - loss: 0.0905 - acc: 0.9790\n",
            "Epoch 8/9\n",
            " - 0s - loss: 0.0617 - acc: 0.9894\n",
            "Epoch 9/9\n",
            " - 0s - loss: 0.0409 - acc: 0.9929\n",
            "Test Accuracy: 86.565655\n",
            "_________________________________________________________________\n",
            "Layer (type)                 Output Shape              Param #   \n",
            "=================================================================\n",
            "embedding_59 (Embedding)     (None, 54, 100)           378100    \n",
            "_________________________________________________________________\n",
            "flatten_58 (Flatten)         (None, 5400)              0         \n",
            "_________________________________________________________________\n",
            "dense_58 (Dense)             (None, 5)                 27005     \n",
            "=================================================================\n",
            "Total params: 405,105\n",
            "Trainable params: 405,105\n",
            "Non-trainable params: 0\n",
            "_________________________________________________________________\n",
            "None\n",
            "Epoch 1/9\n",
            " - 3s - loss: 0.3991 - acc: 0.8188\n",
            "Epoch 2/9\n",
            " - 0s - loss: 0.3539 - acc: 0.8362\n",
            "Epoch 3/9\n",
            " - 0s - loss: 0.3176 - acc: 0.8768\n",
            "Epoch 4/9\n",
            " - 0s - loss: 0.2594 - acc: 0.9143\n",
            "Epoch 5/9\n",
            " - 0s - loss: 0.1888 - acc: 0.9602\n",
            "Epoch 6/9\n",
            " - 0s - loss: 0.1333 - acc: 0.9688\n",
            "Epoch 7/9\n",
            " - 0s - loss: 0.0919 - acc: 0.9787\n",
            "Epoch 8/9\n",
            " - 0s - loss: 0.0623 - acc: 0.9883\n",
            "Epoch 9/9\n",
            " - 0s - loss: 0.0420 - acc: 0.9926\n",
            "Test Accuracy: 86.969696\n",
            "_________________________________________________________________\n",
            "Layer (type)                 Output Shape              Param #   \n",
            "=================================================================\n",
            "embedding_60 (Embedding)     (None, 54, 100)           378100    \n",
            "_________________________________________________________________\n",
            "flatten_59 (Flatten)         (None, 5400)              0         \n",
            "_________________________________________________________________\n",
            "dense_59 (Dense)             (None, 5)                 27005     \n",
            "=================================================================\n",
            "Total params: 405,105\n",
            "Trainable params: 405,105\n",
            "Non-trainable params: 0\n",
            "_________________________________________________________________\n",
            "None\n",
            "Epoch 1/9\n",
            " - 2s - loss: 0.4917 - acc: 0.8000\n",
            "Epoch 2/9\n",
            " - 0s - loss: 0.4751 - acc: 0.8000\n",
            "Epoch 3/9\n",
            " - 0s - loss: 0.4587 - acc: 0.8000\n",
            "Epoch 4/9\n",
            " - 0s - loss: 0.4424 - acc: 0.8000\n",
            "Epoch 5/9\n",
            " - 0s - loss: 0.4269 - acc: 0.8000\n",
            "Epoch 6/9\n",
            " - 0s - loss: 0.4134 - acc: 0.8000\n",
            "Epoch 7/9\n",
            " - 0s - loss: 0.4025 - acc: 0.8000\n",
            "Epoch 8/9\n",
            " - 0s - loss: 0.3947 - acc: 0.8023\n",
            "Epoch 9/9\n",
            " - 0s - loss: 0.3892 - acc: 0.8160\n",
            "Test Accuracy: 81.818182\n",
            "_________________________________________________________________\n",
            "Layer (type)                 Output Shape              Param #   \n",
            "=================================================================\n",
            "embedding_61 (Embedding)     (None, 54, 100)           378100    \n",
            "_________________________________________________________________\n",
            "flatten_60 (Flatten)         (None, 5400)              0         \n",
            "_________________________________________________________________\n",
            "dense_60 (Dense)             (None, 5)                 27005     \n",
            "=================================================================\n",
            "Total params: 405,105\n",
            "Trainable params: 405,105\n",
            "Non-trainable params: 0\n",
            "_________________________________________________________________\n",
            "None\n",
            "Epoch 1/9\n",
            " - 3s - loss: 0.4891 - acc: 0.8000\n",
            "Epoch 2/9\n",
            " - 0s - loss: 0.4721 - acc: 0.8000\n",
            "Epoch 3/9\n",
            " - 0s - loss: 0.4556 - acc: 0.8000\n",
            "Epoch 4/9\n",
            " - 0s - loss: 0.4392 - acc: 0.8000\n",
            "Epoch 5/9\n",
            " - 0s - loss: 0.4240 - acc: 0.8000\n",
            "Epoch 6/9\n",
            " - 0s - loss: 0.4109 - acc: 0.8000\n",
            "Epoch 7/9\n",
            " - 0s - loss: 0.4009 - acc: 0.8000\n",
            "Epoch 8/9\n",
            " - 0s - loss: 0.3938 - acc: 0.8086\n",
            "Epoch 9/9\n",
            " - 0s - loss: 0.3890 - acc: 0.8210\n",
            "Test Accuracy: 81.313131\n",
            "_________________________________________________________________\n",
            "Layer (type)                 Output Shape              Param #   \n",
            "=================================================================\n",
            "embedding_62 (Embedding)     (None, 54, 100)           378100    \n",
            "_________________________________________________________________\n",
            "flatten_61 (Flatten)         (None, 5400)              0         \n",
            "_________________________________________________________________\n",
            "dense_61 (Dense)             (None, 5)                 27005     \n",
            "=================================================================\n",
            "Total params: 405,105\n",
            "Trainable params: 405,105\n",
            "Non-trainable params: 0\n",
            "_________________________________________________________________\n",
            "None\n",
            "Epoch 1/9\n",
            " - 3s - loss: 0.4930 - acc: 0.8000\n",
            "Epoch 2/9\n",
            " - 0s - loss: 0.4757 - acc: 0.8000\n",
            "Epoch 3/9\n",
            " - 0s - loss: 0.4588 - acc: 0.8000\n",
            "Epoch 4/9\n",
            " - 0s - loss: 0.4424 - acc: 0.8000\n",
            "Epoch 5/9\n",
            " - 0s - loss: 0.4269 - acc: 0.8000\n",
            "Epoch 6/9\n",
            " - 0s - loss: 0.4132 - acc: 0.8000\n",
            "Epoch 7/9\n",
            " - 0s - loss: 0.4022 - acc: 0.8000\n",
            "Epoch 8/9\n",
            " - 0s - loss: 0.3943 - acc: 0.8043\n",
            "Epoch 9/9\n",
            " - 0s - loss: 0.3887 - acc: 0.8157\n",
            "Test Accuracy: 81.717170\n",
            "_________________________________________________________________\n",
            "Layer (type)                 Output Shape              Param #   \n",
            "=================================================================\n",
            "embedding_63 (Embedding)     (None, 54, 100)           378100    \n",
            "_________________________________________________________________\n",
            "flatten_62 (Flatten)         (None, 5400)              0         \n",
            "_________________________________________________________________\n",
            "dense_62 (Dense)             (None, 5)                 27005     \n",
            "=================================================================\n",
            "Total params: 405,105\n",
            "Trainable params: 405,105\n",
            "Non-trainable params: 0\n",
            "_________________________________________________________________\n",
            "None\n",
            "Epoch 1/9\n",
            " - 3s - loss: 1.2600 - acc: 0.5437\n",
            "Epoch 2/9\n",
            " - 0s - loss: 1.0987 - acc: 0.5691\n",
            "Epoch 3/9\n",
            " - 0s - loss: 1.0501 - acc: 0.5691\n",
            "Epoch 4/9\n",
            " - 0s - loss: 0.9656 - acc: 0.5691\n",
            "Epoch 5/9\n",
            " - 0s - loss: 0.8264 - acc: 0.5805\n",
            "Epoch 6/9\n",
            " - 0s - loss: 0.5112 - acc: 0.8758\n",
            "Epoch 7/9\n",
            " - 0s - loss: 0.2322 - acc: 0.9696\n",
            "Epoch 8/9\n",
            " - 0s - loss: 0.1236 - acc: 0.9886\n",
            "Epoch 9/9\n",
            " - 0s - loss: 0.0735 - acc: 0.9975\n",
            "Test Accuracy: 65.151515\n",
            "_________________________________________________________________\n",
            "Layer (type)                 Output Shape              Param #   \n",
            "=================================================================\n",
            "embedding_64 (Embedding)     (None, 54, 100)           378100    \n",
            "_________________________________________________________________\n",
            "flatten_63 (Flatten)         (None, 5400)              0         \n",
            "_________________________________________________________________\n",
            "dense_63 (Dense)             (None, 5)                 27005     \n",
            "=================================================================\n",
            "Total params: 405,105\n",
            "Trainable params: 405,105\n",
            "Non-trainable params: 0\n",
            "_________________________________________________________________\n",
            "None\n",
            "Epoch 1/9\n",
            " - 3s - loss: 1.2802 - acc: 0.5234\n",
            "Epoch 2/9\n",
            " - 0s - loss: 1.0951 - acc: 0.5691\n",
            "Epoch 3/9\n",
            " - 0s - loss: 1.0428 - acc: 0.5691\n",
            "Epoch 4/9\n",
            " - 0s - loss: 0.9563 - acc: 0.5691\n",
            "Epoch 5/9\n",
            " - 0s - loss: 0.7906 - acc: 0.6324\n",
            "Epoch 6/9\n",
            " - 0s - loss: 0.4473 - acc: 0.9087\n",
            "Epoch 7/9\n",
            " - 0s - loss: 0.2157 - acc: 0.9747\n",
            "Epoch 8/9\n",
            " - 0s - loss: 0.1182 - acc: 0.9911\n",
            "Epoch 9/9\n",
            " - 0s - loss: 0.0721 - acc: 0.9975\n",
            "Test Accuracy: 64.646465\n",
            "_________________________________________________________________\n",
            "Layer (type)                 Output Shape              Param #   \n",
            "=================================================================\n",
            "embedding_65 (Embedding)     (None, 54, 100)           378100    \n",
            "_________________________________________________________________\n",
            "flatten_64 (Flatten)         (None, 5400)              0         \n",
            "_________________________________________________________________\n",
            "dense_64 (Dense)             (None, 5)                 27005     \n",
            "=================================================================\n",
            "Total params: 405,105\n",
            "Trainable params: 405,105\n",
            "Non-trainable params: 0\n",
            "_________________________________________________________________\n",
            "None\n",
            "Epoch 1/9\n",
            " - 3s - loss: 1.2786 - acc: 0.5171\n",
            "Epoch 2/9\n",
            " - 0s - loss: 1.0958 - acc: 0.5691\n",
            "Epoch 3/9\n",
            " - 0s - loss: 1.0422 - acc: 0.5691\n",
            "Epoch 4/9\n",
            " - 0s - loss: 0.9576 - acc: 0.5691\n",
            "Epoch 5/9\n",
            " - 0s - loss: 0.8197 - acc: 0.5767\n",
            "Epoch 6/9\n",
            " - 0s - loss: 0.5162 - acc: 0.8707\n",
            "Epoch 7/9\n",
            " - 0s - loss: 0.2358 - acc: 0.9607\n",
            "Epoch 8/9\n",
            " - 0s - loss: 0.1257 - acc: 0.9886\n",
            "Epoch 9/9\n",
            " - 0s - loss: 0.0787 - acc: 0.9937\n",
            "Test Accuracy: 64.646465\n",
            "_________________________________________________________________\n",
            "Layer (type)                 Output Shape              Param #   \n",
            "=================================================================\n",
            "embedding_66 (Embedding)     (None, 54, 100)           378100    \n",
            "_________________________________________________________________\n",
            "flatten_65 (Flatten)         (None, 5400)              0         \n",
            "_________________________________________________________________\n",
            "dense_65 (Dense)             (None, 5)                 27005     \n",
            "=================================================================\n",
            "Total params: 405,105\n",
            "Trainable params: 405,105\n",
            "Non-trainable params: 0\n",
            "_________________________________________________________________\n",
            "None\n",
            "Epoch 1/9\n",
            " - 3s - loss: 1.5837 - acc: 0.4728\n",
            "Epoch 2/9\n",
            " - 0s - loss: 1.5193 - acc: 0.5678\n",
            "Epoch 3/9\n",
            " - 0s - loss: 1.4531 - acc: 0.5691\n",
            "Epoch 4/9\n",
            " - 0s - loss: 1.3824 - acc: 0.5691\n",
            "Epoch 5/9\n",
            " - 0s - loss: 1.3111 - acc: 0.5691\n",
            "Epoch 6/9\n",
            " - 0s - loss: 1.2468 - acc: 0.5691\n",
            "Epoch 7/9\n",
            " - 0s - loss: 1.1974 - acc: 0.5691\n",
            "Epoch 8/9\n",
            " - 0s - loss: 1.1649 - acc: 0.5691\n",
            "Epoch 9/9\n",
            " - 0s - loss: 1.1465 - acc: 0.5691\n",
            "Test Accuracy: 57.070707\n",
            "_________________________________________________________________\n",
            "Layer (type)                 Output Shape              Param #   \n",
            "=================================================================\n",
            "embedding_67 (Embedding)     (None, 54, 100)           378100    \n",
            "_________________________________________________________________\n",
            "flatten_66 (Flatten)         (None, 5400)              0         \n",
            "_________________________________________________________________\n",
            "dense_66 (Dense)             (None, 5)                 27005     \n",
            "=================================================================\n",
            "Total params: 405,105\n",
            "Trainable params: 405,105\n",
            "Non-trainable params: 0\n",
            "_________________________________________________________________\n",
            "None\n",
            "Epoch 1/9\n",
            " - 3s - loss: 1.5799 - acc: 0.4728\n",
            "Epoch 2/9\n",
            " - 0s - loss: 1.5075 - acc: 0.5691\n",
            "Epoch 3/9\n",
            " - 0s - loss: 1.4331 - acc: 0.5691\n",
            "Epoch 4/9\n",
            " - 0s - loss: 1.3550 - acc: 0.5691\n",
            "Epoch 5/9\n",
            " - 0s - loss: 1.2803 - acc: 0.5691\n",
            "Epoch 6/9\n",
            " - 0s - loss: 1.2186 - acc: 0.5691\n",
            "Epoch 7/9\n",
            " - 0s - loss: 1.1762 - acc: 0.5691\n",
            "Epoch 8/9\n",
            " - 0s - loss: 1.1507 - acc: 0.5691\n",
            "Epoch 9/9\n",
            " - 0s - loss: 1.1373 - acc: 0.5691\n",
            "Test Accuracy: 57.070707\n",
            "_________________________________________________________________\n",
            "Layer (type)                 Output Shape              Param #   \n",
            "=================================================================\n",
            "embedding_68 (Embedding)     (None, 54, 100)           378100    \n",
            "_________________________________________________________________\n",
            "flatten_67 (Flatten)         (None, 5400)              0         \n",
            "_________________________________________________________________\n",
            "dense_67 (Dense)             (None, 5)                 27005     \n",
            "=================================================================\n",
            "Total params: 405,105\n",
            "Trainable params: 405,105\n",
            "Non-trainable params: 0\n",
            "_________________________________________________________________\n",
            "None\n",
            "Epoch 1/9\n",
            " - 3s - loss: 1.5825 - acc: 0.4309\n",
            "Epoch 2/9\n",
            " - 0s - loss: 1.5168 - acc: 0.5678\n",
            "Epoch 3/9\n",
            " - 0s - loss: 1.4476 - acc: 0.5691\n",
            "Epoch 4/9\n",
            " - 0s - loss: 1.3736 - acc: 0.5691\n",
            "Epoch 5/9\n",
            " - 0s - loss: 1.3005 - acc: 0.5691\n",
            "Epoch 6/9\n",
            " - 0s - loss: 1.2373 - acc: 0.5691\n",
            "Epoch 7/9\n",
            " - 0s - loss: 1.1909 - acc: 0.5691\n",
            "Epoch 8/9\n",
            " - 0s - loss: 1.1613 - acc: 0.5691\n",
            "Epoch 9/9\n",
            " - 0s - loss: 1.1445 - acc: 0.5691\n",
            "Test Accuracy: 57.070707\n",
            "_________________________________________________________________\n",
            "Layer (type)                 Output Shape              Param #   \n",
            "=================================================================\n",
            "embedding_69 (Embedding)     (None, 54, 100)           378100    \n",
            "_________________________________________________________________\n",
            "flatten_68 (Flatten)         (None, 5400)              0         \n",
            "_________________________________________________________________\n",
            "dense_68 (Dense)             (None, 5)                 27005     \n",
            "=================================================================\n",
            "Total params: 405,105\n",
            "Trainable params: 405,105\n",
            "Non-trainable params: 0\n",
            "_________________________________________________________________\n",
            "None\n",
            "Epoch 1/9\n",
            " - 3s - loss: 0.4675 - acc: 0.8124\n",
            "Epoch 2/9\n",
            " - 0s - loss: 0.3665 - acc: 0.8327\n",
            "Epoch 3/9\n",
            " - 0s - loss: 0.3468 - acc: 0.8532\n",
            "Epoch 4/9\n",
            " - 0s - loss: 0.3105 - acc: 0.8778\n",
            "Epoch 5/9\n",
            " - 0s - loss: 0.2548 - acc: 0.9255\n",
            "Epoch 6/9\n",
            " - 0s - loss: 0.1970 - acc: 0.9577\n",
            "Epoch 7/9\n",
            " - 0s - loss: 0.1471 - acc: 0.9693\n",
            "Epoch 8/9\n",
            " - 0s - loss: 0.1091 - acc: 0.9764\n",
            "Epoch 9/9\n",
            " - 0s - loss: 0.0812 - acc: 0.9856\n",
            "Test Accuracy: 85.555554\n",
            "_________________________________________________________________\n",
            "Layer (type)                 Output Shape              Param #   \n",
            "=================================================================\n",
            "embedding_70 (Embedding)     (None, 54, 100)           378100    \n",
            "_________________________________________________________________\n",
            "flatten_69 (Flatten)         (None, 5400)              0         \n",
            "_________________________________________________________________\n",
            "dense_69 (Dense)             (None, 5)                 27005     \n",
            "=================================================================\n",
            "Total params: 405,105\n",
            "Trainable params: 405,105\n",
            "Non-trainable params: 0\n",
            "_________________________________________________________________\n",
            "None\n",
            "Epoch 1/9\n",
            " - 3s - loss: 0.4620 - acc: 0.8038\n",
            "Epoch 2/9\n",
            " - 0s - loss: 0.3684 - acc: 0.8292\n",
            "Epoch 3/9\n",
            " - 0s - loss: 0.3444 - acc: 0.8380\n",
            "Epoch 4/9\n",
            " - 0s - loss: 0.3082 - acc: 0.8905\n",
            "Epoch 5/9\n",
            " - 0s - loss: 0.2539 - acc: 0.9293\n",
            "Epoch 6/9\n",
            " - 0s - loss: 0.1951 - acc: 0.9592\n",
            "Epoch 7/9\n",
            " - 0s - loss: 0.1456 - acc: 0.9703\n",
            "Epoch 8/9\n",
            " - 0s - loss: 0.1080 - acc: 0.9764\n",
            "Epoch 9/9\n",
            " - 0s - loss: 0.0801 - acc: 0.9853\n",
            "Test Accuracy: 85.757574\n",
            "_________________________________________________________________\n",
            "Layer (type)                 Output Shape              Param #   \n",
            "=================================================================\n",
            "embedding_71 (Embedding)     (None, 54, 100)           378100    \n",
            "_________________________________________________________________\n",
            "flatten_70 (Flatten)         (None, 5400)              0         \n",
            "_________________________________________________________________\n",
            "dense_70 (Dense)             (None, 5)                 27005     \n",
            "=================================================================\n",
            "Total params: 405,105\n",
            "Trainable params: 405,105\n",
            "Non-trainable params: 0\n",
            "_________________________________________________________________\n",
            "None\n",
            "Epoch 1/9\n",
            " - 3s - loss: 0.4656 - acc: 0.8068\n",
            "Epoch 2/9\n",
            " - 0s - loss: 0.3706 - acc: 0.8355\n",
            "Epoch 3/9\n",
            " - 0s - loss: 0.3476 - acc: 0.8362\n",
            "Epoch 4/9\n",
            " - 0s - loss: 0.3098 - acc: 0.8968\n",
            "Epoch 5/9\n",
            " - 0s - loss: 0.2571 - acc: 0.9131\n",
            "Epoch 6/9\n",
            " - 0s - loss: 0.1993 - acc: 0.9607\n",
            "Epoch 7/9\n",
            " - 0s - loss: 0.1487 - acc: 0.9676\n",
            "Epoch 8/9\n",
            " - 0s - loss: 0.1097 - acc: 0.9787\n",
            "Epoch 9/9\n",
            " - 0s - loss: 0.0815 - acc: 0.9848\n",
            "Test Accuracy: 84.848486\n",
            "_________________________________________________________________\n",
            "Layer (type)                 Output Shape              Param #   \n",
            "=================================================================\n",
            "embedding_72 (Embedding)     (None, 54, 100)           378100    \n",
            "_________________________________________________________________\n",
            "flatten_71 (Flatten)         (None, 5400)              0         \n",
            "_________________________________________________________________\n",
            "dense_71 (Dense)             (None, 5)                 27005     \n",
            "=================================================================\n",
            "Total params: 405,105\n",
            "Trainable params: 405,105\n",
            "Non-trainable params: 0\n",
            "_________________________________________________________________\n",
            "None\n",
            "Epoch 1/9\n",
            " - 3s - loss: 0.6835 - acc: 0.6489\n",
            "Epoch 2/9\n",
            " - 0s - loss: 0.6501 - acc: 0.8286\n",
            "Epoch 3/9\n",
            " - 0s - loss: 0.6156 - acc: 0.8286\n",
            "Epoch 4/9\n",
            " - 0s - loss: 0.5783 - acc: 0.8274\n",
            "Epoch 5/9\n",
            " - 0s - loss: 0.5396 - acc: 0.8276\n",
            "Epoch 6/9\n",
            " - 0s - loss: 0.5022 - acc: 0.8279\n",
            "Epoch 7/9\n",
            " - 0s - loss: 0.4694 - acc: 0.8279\n",
            "Epoch 8/9\n",
            " - 0s - loss: 0.4431 - acc: 0.8274\n",
            "Epoch 9/9\n",
            " - 0s - loss: 0.4236 - acc: 0.8274\n",
            "Test Accuracy: 82.828282\n",
            "_________________________________________________________________\n",
            "Layer (type)                 Output Shape              Param #   \n",
            "=================================================================\n",
            "embedding_73 (Embedding)     (None, 54, 100)           378100    \n",
            "_________________________________________________________________\n",
            "flatten_72 (Flatten)         (None, 5400)              0         \n",
            "_________________________________________________________________\n",
            "dense_72 (Dense)             (None, 5)                 27005     \n",
            "=================================================================\n",
            "Total params: 405,105\n",
            "Trainable params: 405,105\n",
            "Non-trainable params: 0\n",
            "_________________________________________________________________\n",
            "None\n",
            "Epoch 1/9\n",
            " - 3s - loss: 0.6742 - acc: 0.7470\n",
            "Epoch 2/9\n",
            " - 0s - loss: 0.6383 - acc: 0.8030\n",
            "Epoch 3/9\n",
            " - 0s - loss: 0.6010 - acc: 0.8094\n",
            "Epoch 4/9\n",
            " - 0s - loss: 0.5614 - acc: 0.8210\n",
            "Epoch 5/9\n",
            " - 0s - loss: 0.5217 - acc: 0.8271\n",
            "Epoch 6/9\n",
            " - 0s - loss: 0.4854 - acc: 0.8279\n",
            "Epoch 7/9\n",
            " - 0s - loss: 0.4552 - acc: 0.8276\n",
            "Epoch 8/9\n",
            " - 0s - loss: 0.4322 - acc: 0.8276\n",
            "Epoch 9/9\n",
            " - 0s - loss: 0.4155 - acc: 0.8276\n",
            "Test Accuracy: 82.828282\n",
            "_________________________________________________________________\n",
            "Layer (type)                 Output Shape              Param #   \n",
            "=================================================================\n",
            "embedding_74 (Embedding)     (None, 54, 100)           378100    \n",
            "_________________________________________________________________\n",
            "flatten_73 (Flatten)         (None, 5400)              0         \n",
            "_________________________________________________________________\n",
            "dense_73 (Dense)             (None, 5)                 27005     \n",
            "=================================================================\n",
            "Total params: 405,105\n",
            "Trainable params: 405,105\n",
            "Non-trainable params: 0\n",
            "_________________________________________________________________\n",
            "None\n",
            "Epoch 1/9\n",
            " - 3s - loss: 0.6762 - acc: 0.7468\n",
            "Epoch 2/9\n",
            " - 0s - loss: 0.6404 - acc: 0.8068\n",
            "Epoch 3/9\n",
            " - 0s - loss: 0.6033 - acc: 0.8142\n",
            "Epoch 4/9\n",
            " - 0s - loss: 0.5640 - acc: 0.8150\n",
            "Epoch 5/9\n",
            " - 0s - loss: 0.5244 - acc: 0.8233\n",
            "Epoch 6/9\n",
            " - 0s - loss: 0.4878 - acc: 0.8281\n",
            "Epoch 7/9\n",
            " - 0s - loss: 0.4571 - acc: 0.8271\n",
            "Epoch 8/9\n",
            " - 0s - loss: 0.4334 - acc: 0.8276\n",
            "Epoch 9/9\n",
            " - 0s - loss: 0.4162 - acc: 0.8276\n",
            "Test Accuracy: 82.828282\n",
            "_________________________________________________________________\n",
            "Layer (type)                 Output Shape              Param #   \n",
            "=================================================================\n",
            "embedding_75 (Embedding)     (None, 54, 250)           945250    \n",
            "_________________________________________________________________\n",
            "flatten_74 (Flatten)         (None, 13500)             0         \n",
            "_________________________________________________________________\n",
            "dense_74 (Dense)             (None, 5)                 67505     \n",
            "=================================================================\n",
            "Total params: 1,012,755\n",
            "Trainable params: 1,012,755\n",
            "Non-trainable params: 0\n",
            "_________________________________________________________________\n",
            "None\n",
            "Epoch 1/9\n",
            " - 3s - loss: 1.1985 - acc: 0.5349\n",
            "Epoch 2/9\n",
            " - 0s - loss: 0.9993 - acc: 0.5703\n",
            "Epoch 3/9\n",
            " - 0s - loss: 0.7814 - acc: 0.7300\n",
            "Epoch 4/9\n",
            " - 0s - loss: 0.5016 - acc: 0.8821\n",
            "Epoch 5/9\n",
            " - 0s - loss: 0.2711 - acc: 0.9556\n",
            "Epoch 6/9\n",
            " - 0s - loss: 0.1441 - acc: 0.9835\n",
            "Epoch 7/9\n",
            " - 0s - loss: 0.0843 - acc: 0.9975\n",
            "Epoch 8/9\n",
            " - 0s - loss: 0.0521 - acc: 0.9975\n",
            "Epoch 9/9\n",
            " - 0s - loss: 0.0360 - acc: 0.9975\n",
            "Test Accuracy: 67.676768\n",
            "_________________________________________________________________\n",
            "Layer (type)                 Output Shape              Param #   \n",
            "=================================================================\n",
            "embedding_76 (Embedding)     (None, 54, 250)           945250    \n",
            "_________________________________________________________________\n",
            "flatten_75 (Flatten)         (None, 13500)             0         \n",
            "_________________________________________________________________\n",
            "dense_75 (Dense)             (None, 5)                 67505     \n",
            "=================================================================\n",
            "Total params: 1,012,755\n",
            "Trainable params: 1,012,755\n",
            "Non-trainable params: 0\n",
            "_________________________________________________________________\n",
            "None\n",
            "Epoch 1/9\n",
            " - 3s - loss: 1.1852 - acc: 0.5450\n",
            "Epoch 2/9\n",
            " - 0s - loss: 0.9961 - acc: 0.5716\n",
            "Epoch 3/9\n",
            " - 0s - loss: 0.7832 - acc: 0.7541\n",
            "Epoch 4/9\n",
            " - 0s - loss: 0.4986 - acc: 0.8821\n",
            "Epoch 5/9\n",
            " - 0s - loss: 0.2648 - acc: 0.9556\n",
            "Epoch 6/9\n",
            " - 0s - loss: 0.1409 - acc: 0.9937\n",
            "Epoch 7/9\n",
            " - 0s - loss: 0.0803 - acc: 0.9975\n",
            "Epoch 8/9\n",
            " - 0s - loss: 0.0498 - acc: 0.9975\n",
            "Epoch 9/9\n",
            " - 0s - loss: 0.0344 - acc: 0.9975\n",
            "Test Accuracy: 67.676768\n",
            "_________________________________________________________________\n",
            "Layer (type)                 Output Shape              Param #   \n",
            "=================================================================\n",
            "embedding_77 (Embedding)     (None, 54, 250)           945250    \n",
            "_________________________________________________________________\n",
            "flatten_76 (Flatten)         (None, 13500)             0         \n",
            "_________________________________________________________________\n",
            "dense_76 (Dense)             (None, 5)                 67505     \n",
            "=================================================================\n",
            "Total params: 1,012,755\n",
            "Trainable params: 1,012,755\n",
            "Non-trainable params: 0\n",
            "_________________________________________________________________\n",
            "None\n",
            "Epoch 1/9\n",
            " - 4s - loss: 1.2080 - acc: 0.5488\n",
            "Epoch 2/9\n",
            " - 0s - loss: 0.9978 - acc: 0.5729\n",
            "Epoch 3/9\n",
            " - 0s - loss: 0.7868 - acc: 0.7478\n",
            "Epoch 4/9\n",
            " - 0s - loss: 0.4984 - acc: 0.8872\n",
            "Epoch 5/9\n",
            " - 0s - loss: 0.2760 - acc: 0.9569\n",
            "Epoch 6/9\n",
            " - 0s - loss: 0.1480 - acc: 0.9886\n",
            "Epoch 7/9\n",
            " - 0s - loss: 0.0829 - acc: 0.9975\n",
            "Epoch 8/9\n",
            " - 0s - loss: 0.0525 - acc: 0.9975\n",
            "Epoch 9/9\n",
            " - 0s - loss: 0.0359 - acc: 0.9975\n",
            "Test Accuracy: 68.181818\n",
            "_________________________________________________________________\n",
            "Layer (type)                 Output Shape              Param #   \n",
            "=================================================================\n",
            "embedding_78 (Embedding)     (None, 54, 250)           945250    \n",
            "_________________________________________________________________\n",
            "flatten_77 (Flatten)         (None, 13500)             0         \n",
            "_________________________________________________________________\n",
            "dense_77 (Dense)             (None, 5)                 67505     \n",
            "=================================================================\n",
            "Total params: 1,012,755\n",
            "Trainable params: 1,012,755\n",
            "Non-trainable params: 0\n",
            "_________________________________________________________________\n",
            "None\n",
            "Epoch 1/9\n",
            " - 3s - loss: 1.4496 - acc: 0.5108\n",
            "Epoch 2/9\n",
            " - 0s - loss: 1.2172 - acc: 0.5691\n",
            "Epoch 3/9\n",
            " - 0s - loss: 1.1503 - acc: 0.5691\n",
            "Epoch 4/9\n",
            " - 0s - loss: 1.1335 - acc: 0.5691\n",
            "Epoch 5/9\n",
            " - 0s - loss: 1.1267 - acc: 0.5691\n",
            "Epoch 6/9\n",
            " - 0s - loss: 1.1236 - acc: 0.5691\n",
            "Epoch 7/9\n",
            " - 0s - loss: 1.1215 - acc: 0.5691\n",
            "Epoch 8/9\n",
            " - 0s - loss: 1.1202 - acc: 0.5691\n",
            "Epoch 9/9\n",
            " - 0s - loss: 1.1181 - acc: 0.5691\n",
            "Test Accuracy: 57.070707\n",
            "_________________________________________________________________\n",
            "Layer (type)                 Output Shape              Param #   \n",
            "=================================================================\n",
            "embedding_79 (Embedding)     (None, 54, 250)           945250    \n",
            "_________________________________________________________________\n",
            "flatten_78 (Flatten)         (None, 13500)             0         \n",
            "_________________________________________________________________\n",
            "dense_78 (Dense)             (None, 5)                 67505     \n",
            "=================================================================\n",
            "Total params: 1,012,755\n",
            "Trainable params: 1,012,755\n",
            "Non-trainable params: 0\n",
            "_________________________________________________________________\n",
            "None\n",
            "Epoch 1/9\n",
            " - 3s - loss: 1.4263 - acc: 0.5450\n",
            "Epoch 2/9\n",
            " - 0s - loss: 1.2038 - acc: 0.5691\n",
            "Epoch 3/9\n",
            " - 0s - loss: 1.1474 - acc: 0.5691\n",
            "Epoch 4/9\n",
            " - 0s - loss: 1.1319 - acc: 0.5691\n",
            "Epoch 5/9\n",
            " - 0s - loss: 1.1251 - acc: 0.5691\n",
            "Epoch 6/9\n",
            " - 0s - loss: 1.1237 - acc: 0.5691\n",
            "Epoch 7/9\n",
            " - 0s - loss: 1.1214 - acc: 0.5691\n",
            "Epoch 8/9\n",
            " - 0s - loss: 1.1197 - acc: 0.5691\n",
            "Epoch 9/9\n",
            " - 0s - loss: 1.1178 - acc: 0.5691\n",
            "Test Accuracy: 57.070707\n",
            "_________________________________________________________________\n",
            "Layer (type)                 Output Shape              Param #   \n",
            "=================================================================\n",
            "embedding_80 (Embedding)     (None, 54, 250)           945250    \n",
            "_________________________________________________________________\n",
            "flatten_79 (Flatten)         (None, 13500)             0         \n",
            "_________________________________________________________________\n",
            "dense_79 (Dense)             (None, 5)                 67505     \n",
            "=================================================================\n",
            "Total params: 1,012,755\n",
            "Trainable params: 1,012,755\n",
            "Non-trainable params: 0\n",
            "_________________________________________________________________\n",
            "None\n",
            "Epoch 1/9\n",
            " - 3s - loss: 1.4405 - acc: 0.5108\n",
            "Epoch 2/9\n",
            " - 0s - loss: 1.2128 - acc: 0.5691\n",
            "Epoch 3/9\n",
            " - 0s - loss: 1.1496 - acc: 0.5691\n",
            "Epoch 4/9\n",
            " - 0s - loss: 1.1322 - acc: 0.5691\n",
            "Epoch 5/9\n",
            " - 0s - loss: 1.1253 - acc: 0.5691\n",
            "Epoch 6/9\n",
            " - 0s - loss: 1.1229 - acc: 0.5691\n",
            "Epoch 7/9\n",
            " - 0s - loss: 1.1200 - acc: 0.5691\n",
            "Epoch 8/9\n",
            " - 0s - loss: 1.1186 - acc: 0.5691\n",
            "Epoch 9/9\n",
            " - 0s - loss: 1.1174 - acc: 0.5691\n",
            "Test Accuracy: 57.070707\n",
            "_________________________________________________________________\n",
            "Layer (type)                 Output Shape              Param #   \n",
            "=================================================================\n",
            "embedding_81 (Embedding)     (None, 54, 250)           945250    \n",
            "_________________________________________________________________\n",
            "flatten_80 (Flatten)         (None, 13500)             0         \n",
            "_________________________________________________________________\n",
            "dense_80 (Dense)             (None, 5)                 67505     \n",
            "=================================================================\n",
            "Total params: 1,012,755\n",
            "Trainable params: 1,012,755\n",
            "Non-trainable params: 0\n",
            "_________________________________________________________________\n",
            "None\n",
            "Epoch 1/9\n",
            " - 4s - loss: 0.3945 - acc: 0.8185\n",
            "Epoch 2/9\n",
            " - 0s - loss: 0.3358 - acc: 0.8504\n",
            "Epoch 3/9\n",
            " - 0s - loss: 0.2635 - acc: 0.9191\n",
            "Epoch 4/9\n",
            " - 0s - loss: 0.1731 - acc: 0.9511\n",
            "Epoch 5/9\n",
            " - 0s - loss: 0.0978 - acc: 0.9779\n",
            "Epoch 6/9\n",
            " - 0s - loss: 0.0547 - acc: 0.9919\n",
            "Epoch 7/9\n",
            " - 0s - loss: 0.0307 - acc: 0.9962\n",
            "Epoch 8/9\n",
            " - 0s - loss: 0.0182 - acc: 0.9982\n",
            "Epoch 9/9\n",
            " - 0s - loss: 0.0121 - acc: 0.9992\n",
            "Test Accuracy: 86.464647\n",
            "_________________________________________________________________\n",
            "Layer (type)                 Output Shape              Param #   \n",
            "=================================================================\n",
            "embedding_82 (Embedding)     (None, 54, 250)           945250    \n",
            "_________________________________________________________________\n",
            "flatten_81 (Flatten)         (None, 13500)             0         \n",
            "_________________________________________________________________\n",
            "dense_81 (Dense)             (None, 5)                 67505     \n",
            "=================================================================\n",
            "Total params: 1,012,755\n",
            "Trainable params: 1,012,755\n",
            "Non-trainable params: 0\n",
            "_________________________________________________________________\n",
            "None\n",
            "Epoch 1/9\n",
            " - 4s - loss: 0.3864 - acc: 0.8274\n",
            "Epoch 2/9\n",
            " - 0s - loss: 0.3338 - acc: 0.8601\n",
            "Epoch 3/9\n",
            " - 0s - loss: 0.2659 - acc: 0.9077\n",
            "Epoch 4/9\n",
            " - 0s - loss: 0.1680 - acc: 0.9620\n",
            "Epoch 5/9\n",
            " - 0s - loss: 0.0971 - acc: 0.9802\n",
            "Epoch 6/9\n",
            " - 0s - loss: 0.0541 - acc: 0.9909\n",
            "Epoch 7/9\n",
            " - 0s - loss: 0.0306 - acc: 0.9965\n",
            "Epoch 8/9\n",
            " - 0s - loss: 0.0177 - acc: 0.9990\n",
            "Epoch 9/9\n",
            " - 0s - loss: 0.0117 - acc: 0.9992\n",
            "Test Accuracy: 86.969697\n",
            "_________________________________________________________________\n",
            "Layer (type)                 Output Shape              Param #   \n",
            "=================================================================\n",
            "embedding_83 (Embedding)     (None, 54, 250)           945250    \n",
            "_________________________________________________________________\n",
            "flatten_82 (Flatten)         (None, 13500)             0         \n",
            "_________________________________________________________________\n",
            "dense_82 (Dense)             (None, 5)                 67505     \n",
            "=================================================================\n",
            "Total params: 1,012,755\n",
            "Trainable params: 1,012,755\n",
            "Non-trainable params: 0\n",
            "_________________________________________________________________\n",
            "None\n",
            "Epoch 1/9\n",
            " - 4s - loss: 0.3910 - acc: 0.8228\n",
            "Epoch 2/9\n",
            " - 0s - loss: 0.3374 - acc: 0.8517\n",
            "Epoch 3/9\n",
            " - 0s - loss: 0.2643 - acc: 0.9141\n",
            "Epoch 4/9\n",
            " - 0s - loss: 0.1718 - acc: 0.9607\n",
            "Epoch 5/9\n",
            " - 0s - loss: 0.0996 - acc: 0.9779\n",
            "Epoch 6/9\n",
            " - 0s - loss: 0.0553 - acc: 0.9911\n",
            "Epoch 7/9\n",
            " - 0s - loss: 0.0310 - acc: 0.9962\n",
            "Epoch 8/9\n",
            " - 0s - loss: 0.0181 - acc: 0.9990\n",
            "Epoch 9/9\n",
            " - 0s - loss: 0.0119 - acc: 0.9995\n",
            "Test Accuracy: 86.767676\n",
            "_________________________________________________________________\n",
            "Layer (type)                 Output Shape              Param #   \n",
            "=================================================================\n",
            "embedding_84 (Embedding)     (None, 54, 250)           945250    \n",
            "_________________________________________________________________\n",
            "flatten_83 (Flatten)         (None, 13500)             0         \n",
            "_________________________________________________________________\n",
            "dense_83 (Dense)             (None, 5)                 67505     \n",
            "=================================================================\n",
            "Total params: 1,012,755\n",
            "Trainable params: 1,012,755\n",
            "Non-trainable params: 0\n",
            "_________________________________________________________________\n",
            "None\n",
            "Epoch 1/9\n",
            " - 4s - loss: 0.4864 - acc: 0.8000\n",
            "Epoch 2/9\n",
            " - 0s - loss: 0.4564 - acc: 0.8000\n",
            "Epoch 3/9\n",
            " - 0s - loss: 0.4320 - acc: 0.8000\n",
            "Epoch 4/9\n",
            " - 0s - loss: 0.4133 - acc: 0.8000\n",
            "Epoch 5/9\n",
            " - 0s - loss: 0.4005 - acc: 0.8000\n",
            "Epoch 6/9\n",
            " - 0s - loss: 0.3921 - acc: 0.8053\n",
            "Epoch 7/9\n",
            " - 0s - loss: 0.3871 - acc: 0.8221\n",
            "Epoch 8/9\n",
            " - 0s - loss: 0.3837 - acc: 0.8276\n",
            "Epoch 9/9\n",
            " - 0s - loss: 0.3814 - acc: 0.8279\n",
            "Test Accuracy: 82.222225\n",
            "_________________________________________________________________\n",
            "Layer (type)                 Output Shape              Param #   \n",
            "=================================================================\n",
            "embedding_85 (Embedding)     (None, 54, 250)           945250    \n",
            "_________________________________________________________________\n",
            "flatten_84 (Flatten)         (None, 13500)             0         \n",
            "_________________________________________________________________\n",
            "dense_84 (Dense)             (None, 5)                 67505     \n",
            "=================================================================\n",
            "Total params: 1,012,755\n",
            "Trainable params: 1,012,755\n",
            "Non-trainable params: 0\n",
            "_________________________________________________________________\n",
            "None\n",
            "Epoch 1/9\n",
            " - 4s - loss: 0.4832 - acc: 0.8000\n",
            "Epoch 2/9\n",
            " - 0s - loss: 0.4570 - acc: 0.8000\n",
            "Epoch 3/9\n",
            " - 0s - loss: 0.4344 - acc: 0.8000\n",
            "Epoch 4/9\n",
            " - 0s - loss: 0.4161 - acc: 0.8000\n",
            "Epoch 5/9\n",
            " - 0s - loss: 0.4025 - acc: 0.8000\n",
            "Epoch 6/9\n",
            " - 0s - loss: 0.3934 - acc: 0.8023\n",
            "Epoch 7/9\n",
            " - 0s - loss: 0.3874 - acc: 0.8183\n",
            "Epoch 8/9\n",
            " - 0s - loss: 0.3837 - acc: 0.8251\n",
            "Epoch 9/9\n",
            " - 0s - loss: 0.3813 - acc: 0.8279\n",
            "Test Accuracy: 82.626265\n",
            "_________________________________________________________________\n",
            "Layer (type)                 Output Shape              Param #   \n",
            "=================================================================\n",
            "embedding_86 (Embedding)     (None, 54, 250)           945250    \n",
            "_________________________________________________________________\n",
            "flatten_85 (Flatten)         (None, 13500)             0         \n",
            "_________________________________________________________________\n",
            "dense_85 (Dense)             (None, 5)                 67505     \n",
            "=================================================================\n",
            "Total params: 1,012,755\n",
            "Trainable params: 1,012,755\n",
            "Non-trainable params: 0\n",
            "_________________________________________________________________\n",
            "None\n",
            "Epoch 1/9\n",
            " - 4s - loss: 0.4901 - acc: 0.8000\n",
            "Epoch 2/9\n",
            " - 0s - loss: 0.4598 - acc: 0.8000\n",
            "Epoch 3/9\n",
            " - 0s - loss: 0.4346 - acc: 0.8000\n",
            "Epoch 4/9\n",
            " - 0s - loss: 0.4151 - acc: 0.8000\n",
            "Epoch 5/9\n",
            " - 0s - loss: 0.4013 - acc: 0.8000\n",
            "Epoch 6/9\n",
            " - 0s - loss: 0.3925 - acc: 0.8063\n",
            "Epoch 7/9\n",
            " - 0s - loss: 0.3868 - acc: 0.8256\n",
            "Epoch 8/9\n",
            " - 0s - loss: 0.3833 - acc: 0.8281\n",
            "Epoch 9/9\n",
            " - 0s - loss: 0.3807 - acc: 0.8292\n",
            "Test Accuracy: 82.323234\n",
            "_________________________________________________________________\n",
            "Layer (type)                 Output Shape              Param #   \n",
            "=================================================================\n",
            "embedding_87 (Embedding)     (None, 54, 250)           945250    \n",
            "_________________________________________________________________\n",
            "flatten_86 (Flatten)         (None, 13500)             0         \n",
            "_________________________________________________________________\n",
            "dense_86 (Dense)             (None, 5)                 67505     \n",
            "=================================================================\n",
            "Total params: 1,012,755\n",
            "Trainable params: 1,012,755\n",
            "Non-trainable params: 0\n",
            "_________________________________________________________________\n",
            "None\n",
            "Epoch 1/9\n",
            " - 4s - loss: 1.2023 - acc: 0.5475\n",
            "Epoch 2/9\n",
            " - 0s - loss: 1.0656 - acc: 0.5691\n",
            "Epoch 3/9\n",
            " - 0s - loss: 0.9720 - acc: 0.5691\n",
            "Epoch 4/9\n",
            " - 0s - loss: 0.7861 - acc: 0.5817\n",
            "Epoch 5/9\n",
            " - 0s - loss: 0.3667 - acc: 0.9227\n",
            "Epoch 6/9\n",
            " - 0s - loss: 0.1177 - acc: 0.9886\n",
            "Epoch 7/9\n",
            " - 0s - loss: 0.0562 - acc: 0.9975\n",
            "Epoch 8/9\n",
            " - 0s - loss: 0.0311 - acc: 0.9975\n",
            "Epoch 9/9\n",
            " - 0s - loss: 0.0225 - acc: 0.9975\n",
            "Test Accuracy: 66.161616\n",
            "_________________________________________________________________\n",
            "Layer (type)                 Output Shape              Param #   \n",
            "=================================================================\n",
            "embedding_88 (Embedding)     (None, 54, 250)           945250    \n",
            "_________________________________________________________________\n",
            "flatten_87 (Flatten)         (None, 13500)             0         \n",
            "_________________________________________________________________\n",
            "dense_87 (Dense)             (None, 5)                 67505     \n",
            "=================================================================\n",
            "Total params: 1,012,755\n",
            "Trainable params: 1,012,755\n",
            "Non-trainable params: 0\n",
            "_________________________________________________________________\n",
            "None\n",
            "Epoch 1/9\n",
            " - 4s - loss: 1.2167 - acc: 0.5298\n",
            "Epoch 2/9\n",
            " - 0s - loss: 1.0744 - acc: 0.5691\n",
            "Epoch 3/9\n",
            " - 0s - loss: 0.9696 - acc: 0.5691\n",
            "Epoch 4/9\n",
            " - 0s - loss: 0.7982 - acc: 0.5716\n",
            "Epoch 5/9\n",
            " - 0s - loss: 0.4123 - acc: 0.8961\n",
            "Epoch 6/9\n",
            " - 0s - loss: 0.1226 - acc: 0.9899\n",
            "Epoch 7/9\n",
            " - 0s - loss: 0.0537 - acc: 0.9975\n",
            "Epoch 8/9\n",
            " - 1s - loss: 0.0316 - acc: 0.9975\n",
            "Epoch 9/9\n",
            " - 1s - loss: 0.0215 - acc: 0.9975\n",
            "Test Accuracy: 66.666667\n",
            "_________________________________________________________________\n",
            "Layer (type)                 Output Shape              Param #   \n",
            "=================================================================\n",
            "embedding_89 (Embedding)     (None, 54, 250)           945250    \n",
            "_________________________________________________________________\n",
            "flatten_88 (Flatten)         (None, 13500)             0         \n",
            "_________________________________________________________________\n",
            "dense_88 (Dense)             (None, 5)                 67505     \n",
            "=================================================================\n",
            "Total params: 1,012,755\n",
            "Trainable params: 1,012,755\n",
            "Non-trainable params: 0\n",
            "_________________________________________________________________\n",
            "None\n",
            "Epoch 1/9\n",
            " - 4s - loss: 1.1974 - acc: 0.5551\n",
            "Epoch 2/9\n",
            " - 0s - loss: 1.0715 - acc: 0.5691\n",
            "Epoch 3/9\n",
            " - 0s - loss: 0.9590 - acc: 0.5691\n",
            "Epoch 4/9\n",
            " - 0s - loss: 0.7994 - acc: 0.5703\n",
            "Epoch 5/9\n",
            " - 0s - loss: 0.4384 - acc: 0.8847\n",
            "Epoch 6/9\n",
            " - 0s - loss: 0.1301 - acc: 0.9810\n",
            "Epoch 7/9\n",
            " - 0s - loss: 0.0565 - acc: 0.9975\n",
            "Epoch 8/9\n",
            " - 0s - loss: 0.0329 - acc: 0.9975\n",
            "Epoch 9/9\n",
            " - 0s - loss: 0.0227 - acc: 0.9975\n",
            "Test Accuracy: 67.171717\n",
            "_________________________________________________________________\n",
            "Layer (type)                 Output Shape              Param #   \n",
            "=================================================================\n",
            "embedding_90 (Embedding)     (None, 54, 250)           945250    \n",
            "_________________________________________________________________\n",
            "flatten_89 (Flatten)         (None, 13500)             0         \n",
            "_________________________________________________________________\n",
            "dense_89 (Dense)             (None, 5)                 67505     \n",
            "=================================================================\n",
            "Total params: 1,012,755\n",
            "Trainable params: 1,012,755\n",
            "Non-trainable params: 0\n",
            "_________________________________________________________________\n",
            "None\n",
            "Epoch 1/9\n",
            " - 4s - loss: 1.5564 - acc: 0.5108\n",
            "Epoch 2/9\n",
            " - 0s - loss: 1.4565 - acc: 0.5678\n",
            "Epoch 3/9\n",
            " - 0s - loss: 1.3673 - acc: 0.5678\n",
            "Epoch 4/9\n",
            " - 0s - loss: 1.2864 - acc: 0.5678\n",
            "Epoch 5/9\n",
            " - 0s - loss: 1.2216 - acc: 0.5691\n",
            "Epoch 6/9\n",
            " - 0s - loss: 1.1775 - acc: 0.5691\n",
            "Epoch 7/9\n",
            " - 0s - loss: 1.1526 - acc: 0.5691\n",
            "Epoch 8/9\n",
            " - 0s - loss: 1.1385 - acc: 0.5691\n",
            "Epoch 9/9\n",
            " - 0s - loss: 1.1305 - acc: 0.5691\n",
            "Test Accuracy: 57.070707\n",
            "_________________________________________________________________\n",
            "Layer (type)                 Output Shape              Param #   \n",
            "=================================================================\n",
            "embedding_91 (Embedding)     (None, 54, 250)           945250    \n",
            "_________________________________________________________________\n",
            "flatten_90 (Flatten)         (None, 13500)             0         \n",
            "_________________________________________________________________\n",
            "dense_90 (Dense)             (None, 5)                 67505     \n",
            "=================================================================\n",
            "Total params: 1,012,755\n",
            "Trainable params: 1,012,755\n",
            "Non-trainable params: 0\n",
            "_________________________________________________________________\n",
            "None\n",
            "Epoch 1/9\n",
            " - 4s - loss: 1.5558 - acc: 0.4892\n",
            "Epoch 2/9\n",
            " - 0s - loss: 1.4540 - acc: 0.5691\n",
            "Epoch 3/9\n",
            " - 0s - loss: 1.3628 - acc: 0.5691\n",
            "Epoch 4/9\n",
            " - 0s - loss: 1.2816 - acc: 0.5691\n",
            "Epoch 5/9\n",
            " - 0s - loss: 1.2170 - acc: 0.5691\n",
            "Epoch 6/9\n",
            " - 0s - loss: 1.1745 - acc: 0.5691\n",
            "Epoch 7/9\n",
            " - 0s - loss: 1.1501 - acc: 0.5691\n",
            "Epoch 8/9\n",
            " - 0s - loss: 1.1367 - acc: 0.5691\n",
            "Epoch 9/9\n",
            " - 0s - loss: 1.1297 - acc: 0.5691\n",
            "Test Accuracy: 57.070707\n",
            "_________________________________________________________________\n",
            "Layer (type)                 Output Shape              Param #   \n",
            "=================================================================\n",
            "embedding_92 (Embedding)     (None, 54, 250)           945250    \n",
            "_________________________________________________________________\n",
            "flatten_91 (Flatten)         (None, 13500)             0         \n",
            "_________________________________________________________________\n",
            "dense_91 (Dense)             (None, 5)                 67505     \n",
            "=================================================================\n",
            "Total params: 1,012,755\n",
            "Trainable params: 1,012,755\n",
            "Non-trainable params: 0\n",
            "_________________________________________________________________\n",
            "None\n",
            "Epoch 1/9\n",
            " - 4s - loss: 1.5548 - acc: 0.5209\n",
            "Epoch 2/9\n",
            " - 0s - loss: 1.4553 - acc: 0.5678\n",
            "Epoch 3/9\n",
            " - 0s - loss: 1.3657 - acc: 0.5691\n",
            "Epoch 4/9\n",
            " - 0s - loss: 1.2852 - acc: 0.5691\n",
            "Epoch 5/9\n",
            " - 0s - loss: 1.2211 - acc: 0.5691\n",
            "Epoch 6/9\n",
            " - 0s - loss: 1.1781 - acc: 0.5691\n",
            "Epoch 7/9\n",
            " - 0s - loss: 1.1533 - acc: 0.5691\n",
            "Epoch 8/9\n",
            " - 0s - loss: 1.1391 - acc: 0.5691\n",
            "Epoch 9/9\n",
            " - 0s - loss: 1.1313 - acc: 0.5691\n",
            "Test Accuracy: 57.070707\n",
            "_________________________________________________________________\n",
            "Layer (type)                 Output Shape              Param #   \n",
            "=================================================================\n",
            "embedding_93 (Embedding)     (None, 54, 250)           945250    \n",
            "_________________________________________________________________\n",
            "flatten_92 (Flatten)         (None, 13500)             0         \n",
            "_________________________________________________________________\n",
            "dense_92 (Dense)             (None, 5)                 67505     \n",
            "=================================================================\n",
            "Total params: 1,012,755\n",
            "Trainable params: 1,012,755\n",
            "Non-trainable params: 0\n",
            "_________________________________________________________________\n",
            "None\n",
            "Epoch 1/9\n",
            " - 4s - loss: 0.4306 - acc: 0.8076\n",
            "Epoch 2/9\n",
            " - 0s - loss: 0.3563 - acc: 0.8497\n",
            "Epoch 3/9\n",
            " - 0s - loss: 0.3110 - acc: 0.8821\n",
            "Epoch 4/9\n",
            " - 0s - loss: 0.2360 - acc: 0.9278\n",
            "Epoch 5/9\n",
            " - 0s - loss: 0.1576 - acc: 0.9678\n",
            "Epoch 6/9\n",
            " - 0s - loss: 0.1011 - acc: 0.9802\n",
            "Epoch 7/9\n",
            " - 0s - loss: 0.0650 - acc: 0.9881\n",
            "Epoch 8/9\n",
            " - 0s - loss: 0.0427 - acc: 0.9942\n",
            "Epoch 9/9\n",
            " - 0s - loss: 0.0294 - acc: 0.9975\n",
            "Test Accuracy: 85.858586\n",
            "_________________________________________________________________\n",
            "Layer (type)                 Output Shape              Param #   \n",
            "=================================================================\n",
            "embedding_94 (Embedding)     (None, 54, 250)           945250    \n",
            "_________________________________________________________________\n",
            "flatten_93 (Flatten)         (None, 13500)             0         \n",
            "_________________________________________________________________\n",
            "dense_93 (Dense)             (None, 5)                 67505     \n",
            "=================================================================\n",
            "Total params: 1,012,755\n",
            "Trainable params: 1,012,755\n",
            "Non-trainable params: 0\n",
            "_________________________________________________________________\n",
            "None\n",
            "Epoch 1/9\n",
            " - 4s - loss: 0.4290 - acc: 0.8096\n",
            "Epoch 2/9\n",
            " - 0s - loss: 0.3534 - acc: 0.8385\n",
            "Epoch 3/9\n",
            " - 0s - loss: 0.3069 - acc: 0.8961\n",
            "Epoch 4/9\n",
            " - 0s - loss: 0.2329 - acc: 0.9298\n",
            "Epoch 5/9\n",
            " - 0s - loss: 0.1556 - acc: 0.9698\n",
            "Epoch 6/9\n",
            " - 0s - loss: 0.0993 - acc: 0.9795\n",
            "Epoch 7/9\n",
            " - 0s - loss: 0.0645 - acc: 0.9911\n",
            "Epoch 8/9\n",
            " - 0s - loss: 0.0422 - acc: 0.9932\n",
            "Epoch 9/9\n",
            " - 0s - loss: 0.0293 - acc: 0.9980\n",
            "Test Accuracy: 85.050504\n",
            "_________________________________________________________________\n",
            "Layer (type)                 Output Shape              Param #   \n",
            "=================================================================\n",
            "embedding_95 (Embedding)     (None, 54, 250)           945250    \n",
            "_________________________________________________________________\n",
            "flatten_94 (Flatten)         (None, 13500)             0         \n",
            "_________________________________________________________________\n",
            "dense_94 (Dense)             (None, 5)                 67505     \n",
            "=================================================================\n",
            "Total params: 1,012,755\n",
            "Trainable params: 1,012,755\n",
            "Non-trainable params: 0\n",
            "_________________________________________________________________\n",
            "None\n",
            "Epoch 1/9\n",
            " - 4s - loss: 0.4270 - acc: 0.8119\n",
            "Epoch 2/9\n",
            " - 0s - loss: 0.3563 - acc: 0.8403\n",
            "Epoch 3/9\n",
            " - 0s - loss: 0.3094 - acc: 0.8859\n",
            "Epoch 4/9\n",
            " - 0s - loss: 0.2356 - acc: 0.9376\n",
            "Epoch 5/9\n",
            " - 0s - loss: 0.1573 - acc: 0.9665\n",
            "Epoch 6/9\n",
            " - 0s - loss: 0.1005 - acc: 0.9802\n",
            "Epoch 7/9\n",
            " - 0s - loss: 0.0645 - acc: 0.9901\n",
            "Epoch 8/9\n",
            " - 0s - loss: 0.0421 - acc: 0.9944\n",
            "Epoch 9/9\n",
            " - 0s - loss: 0.0292 - acc: 0.9980\n",
            "Test Accuracy: 85.353535\n",
            "_________________________________________________________________\n",
            "Layer (type)                 Output Shape              Param #   \n",
            "=================================================================\n",
            "embedding_96 (Embedding)     (None, 54, 250)           945250    \n",
            "_________________________________________________________________\n",
            "flatten_95 (Flatten)         (None, 13500)             0         \n",
            "_________________________________________________________________\n",
            "dense_95 (Dense)             (None, 5)                 67505     \n",
            "=================================================================\n",
            "Total params: 1,012,755\n",
            "Trainable params: 1,012,755\n",
            "Non-trainable params: 0\n",
            "_________________________________________________________________\n",
            "None\n",
            "Epoch 1/9\n",
            " - 4s - loss: 0.6650 - acc: 0.7736\n",
            "Epoch 2/9\n",
            " - 0s - loss: 0.6082 - acc: 0.8261\n",
            "Epoch 3/9\n",
            " - 0s - loss: 0.5567 - acc: 0.8274\n",
            "Epoch 4/9\n",
            " - 0s - loss: 0.5109 - acc: 0.8276\n",
            "Epoch 5/9\n",
            " - 0s - loss: 0.4728 - acc: 0.8276\n",
            "Epoch 6/9\n",
            " - 0s - loss: 0.4436 - acc: 0.8276\n",
            "Epoch 7/9\n",
            " - 0s - loss: 0.4226 - acc: 0.8276\n",
            "Epoch 8/9\n",
            " - 0s - loss: 0.4080 - acc: 0.8276\n",
            "Epoch 9/9\n",
            " - 0s - loss: 0.3982 - acc: 0.8276\n",
            "Test Accuracy: 82.828282\n",
            "_________________________________________________________________\n",
            "Layer (type)                 Output Shape              Param #   \n",
            "=================================================================\n",
            "embedding_97 (Embedding)     (None, 54, 250)           945250    \n",
            "_________________________________________________________________\n",
            "flatten_96 (Flatten)         (None, 13500)             0         \n",
            "_________________________________________________________________\n",
            "dense_96 (Dense)             (None, 5)                 67505     \n",
            "=================================================================\n",
            "Total params: 1,012,755\n",
            "Trainable params: 1,012,755\n",
            "Non-trainable params: 0\n",
            "_________________________________________________________________\n",
            "None\n",
            "Epoch 1/9\n",
            " - 4s - loss: 0.6527 - acc: 0.8129\n",
            "Epoch 2/9\n",
            " - 0s - loss: 0.5960 - acc: 0.8274\n",
            "Epoch 3/9\n",
            " - 0s - loss: 0.5448 - acc: 0.8276\n",
            "Epoch 4/9\n",
            " - 0s - loss: 0.5002 - acc: 0.8276\n",
            "Epoch 5/9\n",
            " - 0s - loss: 0.4640 - acc: 0.8276\n",
            "Epoch 6/9\n",
            " - 0s - loss: 0.4368 - acc: 0.8276\n",
            "Epoch 7/9\n",
            " - 0s - loss: 0.4177 - acc: 0.8276\n",
            "Epoch 8/9\n",
            " - 0s - loss: 0.4045 - acc: 0.8276\n",
            "Epoch 9/9\n",
            " - 0s - loss: 0.3957 - acc: 0.8276\n",
            "Test Accuracy: 82.828282\n",
            "_________________________________________________________________\n",
            "Layer (type)                 Output Shape              Param #   \n",
            "=================================================================\n",
            "embedding_98 (Embedding)     (None, 54, 250)           945250    \n",
            "_________________________________________________________________\n",
            "flatten_97 (Flatten)         (None, 13500)             0         \n",
            "_________________________________________________________________\n",
            "dense_97 (Dense)             (None, 5)                 67505     \n",
            "=================================================================\n",
            "Total params: 1,012,755\n",
            "Trainable params: 1,012,755\n",
            "Non-trainable params: 0\n",
            "_________________________________________________________________\n",
            "None\n",
            "Epoch 1/9\n",
            " - 4s - loss: 0.6595 - acc: 0.7911\n",
            "Epoch 2/9\n",
            " - 0s - loss: 0.6026 - acc: 0.8274\n",
            "Epoch 3/9\n",
            " - 0s - loss: 0.5512 - acc: 0.8279\n",
            "Epoch 4/9\n",
            " - 0s - loss: 0.5059 - acc: 0.8271\n",
            "Epoch 5/9\n",
            " - 0s - loss: 0.4686 - acc: 0.8271\n",
            "Epoch 6/9\n",
            " - 0s - loss: 0.4404 - acc: 0.8274\n",
            "Epoch 7/9\n",
            " - 0s - loss: 0.4202 - acc: 0.8276\n",
            "Epoch 8/9\n",
            " - 0s - loss: 0.4065 - acc: 0.8276\n",
            "Epoch 9/9\n",
            " - 0s - loss: 0.3971 - acc: 0.8276\n",
            "Test Accuracy: 82.828282\n",
            "_________________________________________________________________\n",
            "Layer (type)                 Output Shape              Param #   \n",
            "=================================================================\n",
            "embedding_99 (Embedding)     (None, 54, 500)           1890500   \n",
            "_________________________________________________________________\n",
            "flatten_98 (Flatten)         (None, 27000)             0         \n",
            "_________________________________________________________________\n",
            "dense_98 (Dense)             (None, 5)                 135005    \n",
            "=================================================================\n",
            "Total params: 2,025,505\n",
            "Trainable params: 2,025,505\n",
            "Non-trainable params: 0\n",
            "_________________________________________________________________\n",
            "None\n",
            "Epoch 1/9\n",
            " - 5s - loss: 1.2393 - acc: 0.5070\n",
            "Epoch 2/9\n",
            " - 1s - loss: 0.9156 - acc: 0.6717\n",
            "Epoch 3/9\n",
            " - 1s - loss: 0.5914 - acc: 0.8530\n",
            "Epoch 4/9\n",
            " - 1s - loss: 0.2802 - acc: 0.9493\n",
            "Epoch 5/9\n",
            " - 1s - loss: 0.1226 - acc: 0.9899\n",
            "Epoch 6/9\n",
            " - 1s - loss: 0.0592 - acc: 0.9975\n",
            "Epoch 7/9\n",
            " - 1s - loss: 0.0348 - acc: 0.9975\n",
            "Epoch 8/9\n",
            " - 1s - loss: 0.0233 - acc: 0.9975\n",
            "Epoch 9/9\n",
            " - 1s - loss: 0.0169 - acc: 1.0000\n",
            "Test Accuracy: 68.181818\n",
            "_________________________________________________________________\n",
            "Layer (type)                 Output Shape              Param #   \n",
            "=================================================================\n",
            "embedding_100 (Embedding)    (None, 54, 500)           1890500   \n",
            "_________________________________________________________________\n",
            "flatten_99 (Flatten)         (None, 27000)             0         \n",
            "_________________________________________________________________\n",
            "dense_99 (Dense)             (None, 5)                 135005    \n",
            "=================================================================\n",
            "Total params: 2,025,505\n",
            "Trainable params: 2,025,505\n",
            "Non-trainable params: 0\n",
            "_________________________________________________________________\n",
            "None\n",
            "Epoch 1/9\n",
            " - 5s - loss: 1.1921 - acc: 0.5019\n",
            "Epoch 2/9\n",
            " - 1s - loss: 0.9314 - acc: 0.6413\n",
            "Epoch 3/9\n",
            " - 1s - loss: 0.5854 - acc: 0.8542\n",
            "Epoch 4/9\n",
            " - 1s - loss: 0.2718 - acc: 0.9518\n",
            "Epoch 5/9\n",
            " - 1s - loss: 0.1198 - acc: 0.9962\n",
            "Epoch 6/9\n",
            " - 1s - loss: 0.0581 - acc: 0.9975\n",
            "Epoch 7/9\n",
            " - 1s - loss: 0.0350 - acc: 0.9975\n",
            "Epoch 8/9\n",
            " - 1s - loss: 0.0236 - acc: 0.9975\n",
            "Epoch 9/9\n",
            " - 1s - loss: 0.0171 - acc: 0.9987\n",
            "Test Accuracy: 68.181818\n",
            "_________________________________________________________________\n",
            "Layer (type)                 Output Shape              Param #   \n",
            "=================================================================\n",
            "embedding_101 (Embedding)    (None, 54, 500)           1890500   \n",
            "_________________________________________________________________\n",
            "flatten_100 (Flatten)        (None, 27000)             0         \n",
            "_________________________________________________________________\n",
            "dense_100 (Dense)            (None, 5)                 135005    \n",
            "=================================================================\n",
            "Total params: 2,025,505\n",
            "Trainable params: 2,025,505\n",
            "Non-trainable params: 0\n",
            "_________________________________________________________________\n",
            "None\n",
            "Epoch 1/9\n",
            " - 5s - loss: 1.2090 - acc: 0.5120\n",
            "Epoch 2/9\n",
            " - 1s - loss: 0.9234 - acc: 0.6515\n",
            "Epoch 3/9\n",
            " - 1s - loss: 0.5866 - acc: 0.8390\n",
            "Epoch 4/9\n",
            " - 1s - loss: 0.2769 - acc: 0.9531\n",
            "Epoch 5/9\n",
            " - 1s - loss: 0.1234 - acc: 0.9937\n",
            "Epoch 6/9\n",
            " - 1s - loss: 0.0592 - acc: 0.9975\n",
            "Epoch 7/9\n",
            " - 1s - loss: 0.0358 - acc: 0.9975\n",
            "Epoch 8/9\n",
            " - 1s - loss: 0.0238 - acc: 0.9975\n",
            "Epoch 9/9\n",
            " - 1s - loss: 0.0172 - acc: 1.0000\n",
            "Test Accuracy: 68.686869\n",
            "_________________________________________________________________\n",
            "Layer (type)                 Output Shape              Param #   \n",
            "=================================================================\n",
            "embedding_102 (Embedding)    (None, 54, 500)           1890500   \n",
            "_________________________________________________________________\n",
            "flatten_101 (Flatten)        (None, 27000)             0         \n",
            "_________________________________________________________________\n",
            "dense_101 (Dense)            (None, 5)                 135005    \n",
            "=================================================================\n",
            "Total params: 2,025,505\n",
            "Trainable params: 2,025,505\n",
            "Non-trainable params: 0\n",
            "_________________________________________________________________\n",
            "None\n",
            "Epoch 1/9\n",
            " - 5s - loss: 1.3235 - acc: 0.5691\n",
            "Epoch 2/9\n",
            " - 0s - loss: 1.1580 - acc: 0.5691\n",
            "Epoch 3/9\n",
            " - 0s - loss: 1.1317 - acc: 0.5691\n",
            "Epoch 4/9\n",
            " - 0s - loss: 1.1239 - acc: 0.5691\n",
            "Epoch 5/9\n",
            " - 0s - loss: 1.1203 - acc: 0.5691\n",
            "Epoch 6/9\n",
            " - 0s - loss: 1.1176 - acc: 0.5691\n",
            "Epoch 7/9\n",
            " - 0s - loss: 1.1146 - acc: 0.5691\n",
            "Epoch 8/9\n",
            " - 0s - loss: 1.1125 - acc: 0.5691\n",
            "Epoch 9/9\n",
            " - 0s - loss: 1.1115 - acc: 0.5691\n",
            "Test Accuracy: 57.070707\n",
            "_________________________________________________________________\n",
            "Layer (type)                 Output Shape              Param #   \n",
            "=================================================================\n",
            "embedding_103 (Embedding)    (None, 54, 500)           1890500   \n",
            "_________________________________________________________________\n",
            "flatten_102 (Flatten)        (None, 27000)             0         \n",
            "_________________________________________________________________\n",
            "dense_102 (Dense)            (None, 5)                 135005    \n",
            "=================================================================\n",
            "Total params: 2,025,505\n",
            "Trainable params: 2,025,505\n",
            "Non-trainable params: 0\n",
            "_________________________________________________________________\n",
            "None\n",
            "Epoch 1/9\n",
            " - 5s - loss: 1.3524 - acc: 0.5501\n",
            "Epoch 2/9\n",
            " - 0s - loss: 1.1652 - acc: 0.5691\n",
            "Epoch 3/9\n",
            " - 0s - loss: 1.1336 - acc: 0.5691\n",
            "Epoch 4/9\n",
            " - 0s - loss: 1.1237 - acc: 0.5691\n",
            "Epoch 5/9\n",
            " - 0s - loss: 1.1202 - acc: 0.5691\n",
            "Epoch 6/9\n",
            " - 0s - loss: 1.1164 - acc: 0.5691\n",
            "Epoch 7/9\n",
            " - 0s - loss: 1.1150 - acc: 0.5691\n",
            "Epoch 8/9\n",
            " - 0s - loss: 1.1130 - acc: 0.5691\n",
            "Epoch 9/9\n",
            " - 0s - loss: 1.1110 - acc: 0.5691\n",
            "Test Accuracy: 57.070707\n",
            "_________________________________________________________________\n",
            "Layer (type)                 Output Shape              Param #   \n",
            "=================================================================\n",
            "embedding_104 (Embedding)    (None, 54, 500)           1890500   \n",
            "_________________________________________________________________\n",
            "flatten_103 (Flatten)        (None, 27000)             0         \n",
            "_________________________________________________________________\n",
            "dense_103 (Dense)            (None, 5)                 135005    \n",
            "=================================================================\n",
            "Total params: 2,025,505\n",
            "Trainable params: 2,025,505\n",
            "Non-trainable params: 0\n",
            "_________________________________________________________________\n",
            "None\n",
            "Epoch 1/9\n",
            " - 5s - loss: 1.3357 - acc: 0.5488\n",
            "Epoch 2/9\n",
            " - 0s - loss: 1.1608 - acc: 0.5678\n",
            "Epoch 3/9\n",
            " - 0s - loss: 1.1334 - acc: 0.5678\n",
            "Epoch 4/9\n",
            " - 0s - loss: 1.1252 - acc: 0.5691\n",
            "Epoch 5/9\n",
            " - 0s - loss: 1.1220 - acc: 0.5691\n",
            "Epoch 6/9\n",
            " - 0s - loss: 1.1184 - acc: 0.5691\n",
            "Epoch 7/9\n",
            " - 0s - loss: 1.1160 - acc: 0.5691\n",
            "Epoch 8/9\n",
            " - 0s - loss: 1.1149 - acc: 0.5691\n",
            "Epoch 9/9\n",
            " - 0s - loss: 1.1126 - acc: 0.5691\n",
            "Test Accuracy: 57.070707\n",
            "_________________________________________________________________\n",
            "Layer (type)                 Output Shape              Param #   \n",
            "=================================================================\n",
            "embedding_105 (Embedding)    (None, 54, 500)           1890500   \n",
            "_________________________________________________________________\n",
            "flatten_104 (Flatten)        (None, 27000)             0         \n",
            "_________________________________________________________________\n",
            "dense_104 (Dense)            (None, 5)                 135005    \n",
            "=================================================================\n",
            "Total params: 2,025,505\n",
            "Trainable params: 2,025,505\n",
            "Non-trainable params: 0\n",
            "_________________________________________________________________\n",
            "None\n",
            "Epoch 1/9\n",
            " - 5s - loss: 0.4000 - acc: 0.8129\n",
            "Epoch 2/9\n",
            " - 1s - loss: 0.3156 - acc: 0.8639\n",
            "Epoch 3/9\n",
            " - 1s - loss: 0.2032 - acc: 0.9501\n",
            "Epoch 4/9\n",
            " - 1s - loss: 0.1016 - acc: 0.9774\n",
            "Epoch 5/9\n",
            " - 1s - loss: 0.0463 - acc: 0.9932\n",
            "Epoch 6/9\n",
            " - 1s - loss: 0.0215 - acc: 0.9982\n",
            "Epoch 7/9\n",
            " - 1s - loss: 0.0123 - acc: 0.9992\n",
            "Epoch 8/9\n",
            " - 1s - loss: 0.0077 - acc: 0.9995\n",
            "Epoch 9/9\n",
            " - 1s - loss: 0.0056 - acc: 0.9995\n",
            "Test Accuracy: 86.969695\n",
            "_________________________________________________________________\n",
            "Layer (type)                 Output Shape              Param #   \n",
            "=================================================================\n",
            "embedding_106 (Embedding)    (None, 54, 500)           1890500   \n",
            "_________________________________________________________________\n",
            "flatten_105 (Flatten)        (None, 27000)             0         \n",
            "_________________________________________________________________\n",
            "dense_105 (Dense)            (None, 5)                 135005    \n",
            "=================================================================\n",
            "Total params: 2,025,505\n",
            "Trainable params: 2,025,505\n",
            "Non-trainable params: 0\n",
            "_________________________________________________________________\n",
            "None\n",
            "Epoch 1/9\n",
            " - 5s - loss: 0.3904 - acc: 0.8198\n",
            "Epoch 2/9\n",
            " - 1s - loss: 0.3107 - acc: 0.8786\n",
            "Epoch 3/9\n",
            " - 1s - loss: 0.2003 - acc: 0.9488\n",
            "Epoch 4/9\n",
            " - 1s - loss: 0.0991 - acc: 0.9815\n",
            "Epoch 5/9\n",
            " - 1s - loss: 0.0447 - acc: 0.9921\n",
            "Epoch 6/9\n",
            " - 1s - loss: 0.0215 - acc: 0.9987\n",
            "Epoch 7/9\n",
            " - 1s - loss: 0.0119 - acc: 0.9992\n",
            "Epoch 8/9\n",
            " - 1s - loss: 0.0079 - acc: 0.9995\n",
            "Epoch 9/9\n",
            " - 1s - loss: 0.0055 - acc: 0.9995\n",
            "Test Accuracy: 87.777777\n",
            "_________________________________________________________________\n",
            "Layer (type)                 Output Shape              Param #   \n",
            "=================================================================\n",
            "embedding_107 (Embedding)    (None, 54, 500)           1890500   \n",
            "_________________________________________________________________\n",
            "flatten_106 (Flatten)        (None, 27000)             0         \n",
            "_________________________________________________________________\n",
            "dense_106 (Dense)            (None, 5)                 135005    \n",
            "=================================================================\n",
            "Total params: 2,025,505\n",
            "Trainable params: 2,025,505\n",
            "Non-trainable params: 0\n",
            "_________________________________________________________________\n",
            "None\n",
            "Epoch 1/9\n",
            " - 5s - loss: 0.3838 - acc: 0.8236\n",
            "Epoch 2/9\n",
            " - 1s - loss: 0.3072 - acc: 0.8689\n",
            "Epoch 3/9\n",
            " - 1s - loss: 0.1978 - acc: 0.9536\n",
            "Epoch 4/9\n",
            " - 1s - loss: 0.0974 - acc: 0.9800\n",
            "Epoch 5/9\n",
            " - 1s - loss: 0.0443 - acc: 0.9926\n",
            "Epoch 6/9\n",
            " - 1s - loss: 0.0207 - acc: 0.9985\n",
            "Epoch 7/9\n",
            " - 1s - loss: 0.0115 - acc: 0.9992\n",
            "Epoch 8/9\n",
            " - 1s - loss: 0.0076 - acc: 0.9992\n",
            "Epoch 9/9\n",
            " - 1s - loss: 0.0055 - acc: 0.9995\n",
            "Test Accuracy: 86.666670\n",
            "_________________________________________________________________\n",
            "Layer (type)                 Output Shape              Param #   \n",
            "=================================================================\n",
            "embedding_108 (Embedding)    (None, 54, 500)           1890500   \n",
            "_________________________________________________________________\n",
            "flatten_107 (Flatten)        (None, 27000)             0         \n",
            "_________________________________________________________________\n",
            "dense_107 (Dense)            (None, 5)                 135005    \n",
            "=================================================================\n",
            "Total params: 2,025,505\n",
            "Trainable params: 2,025,505\n",
            "Non-trainable params: 0\n",
            "_________________________________________________________________\n",
            "None\n",
            "Epoch 1/9\n",
            " - 5s - loss: 0.4733 - acc: 0.8000\n",
            "Epoch 2/9\n",
            " - 0s - loss: 0.4321 - acc: 0.8000\n",
            "Epoch 3/9\n",
            " - 0s - loss: 0.4072 - acc: 0.8000\n",
            "Epoch 4/9\n",
            " - 0s - loss: 0.3937 - acc: 0.8053\n",
            "Epoch 5/9\n",
            " - 0s - loss: 0.3868 - acc: 0.8223\n",
            "Epoch 6/9\n",
            " - 0s - loss: 0.3827 - acc: 0.8253\n",
            "Epoch 7/9\n",
            " - 0s - loss: 0.3801 - acc: 0.8292\n",
            "Epoch 8/9\n",
            " - 0s - loss: 0.3784 - acc: 0.8286\n",
            "Epoch 9/9\n",
            " - 0s - loss: 0.3770 - acc: 0.8284\n",
            "Test Accuracy: 82.323234\n",
            "_________________________________________________________________\n",
            "Layer (type)                 Output Shape              Param #   \n",
            "=================================================================\n",
            "embedding_109 (Embedding)    (None, 54, 500)           1890500   \n",
            "_________________________________________________________________\n",
            "flatten_108 (Flatten)        (None, 27000)             0         \n",
            "_________________________________________________________________\n",
            "dense_108 (Dense)            (None, 5)                 135005    \n",
            "=================================================================\n",
            "Total params: 2,025,505\n",
            "Trainable params: 2,025,505\n",
            "Non-trainable params: 0\n",
            "_________________________________________________________________\n",
            "None\n",
            "Epoch 1/9\n",
            " - 5s - loss: 0.4711 - acc: 0.8000\n",
            "Epoch 2/9\n",
            " - 0s - loss: 0.4318 - acc: 0.8000\n",
            "Epoch 3/9\n",
            " - 0s - loss: 0.4073 - acc: 0.8000\n",
            "Epoch 4/9\n",
            " - 0s - loss: 0.3942 - acc: 0.8061\n",
            "Epoch 5/9\n",
            " - 0s - loss: 0.3871 - acc: 0.8243\n",
            "Epoch 6/9\n",
            " - 0s - loss: 0.3831 - acc: 0.8266\n",
            "Epoch 7/9\n",
            " - 0s - loss: 0.3804 - acc: 0.8299\n",
            "Epoch 8/9\n",
            " - 0s - loss: 0.3785 - acc: 0.8284\n",
            "Epoch 9/9\n",
            " - 0s - loss: 0.3772 - acc: 0.8289\n",
            "Test Accuracy: 82.525253\n",
            "_________________________________________________________________\n",
            "Layer (type)                 Output Shape              Param #   \n",
            "=================================================================\n",
            "embedding_110 (Embedding)    (None, 54, 500)           1890500   \n",
            "_________________________________________________________________\n",
            "flatten_109 (Flatten)        (None, 27000)             0         \n",
            "_________________________________________________________________\n",
            "dense_109 (Dense)            (None, 5)                 135005    \n",
            "=================================================================\n",
            "Total params: 2,025,505\n",
            "Trainable params: 2,025,505\n",
            "Non-trainable params: 0\n",
            "_________________________________________________________________\n",
            "None\n",
            "Epoch 1/9\n",
            " - 5s - loss: 0.4807 - acc: 0.8000\n",
            "Epoch 2/9\n",
            " - 0s - loss: 0.4384 - acc: 0.8000\n",
            "Epoch 3/9\n",
            " - 0s - loss: 0.4117 - acc: 0.8000\n",
            "Epoch 4/9\n",
            " - 0s - loss: 0.3964 - acc: 0.8010\n",
            "Epoch 5/9\n",
            " - 0s - loss: 0.3882 - acc: 0.8195\n",
            "Epoch 6/9\n",
            " - 0s - loss: 0.3837 - acc: 0.8264\n",
            "Epoch 7/9\n",
            " - 0s - loss: 0.3807 - acc: 0.8274\n",
            "Epoch 8/9\n",
            " - 0s - loss: 0.3786 - acc: 0.8271\n",
            "Epoch 9/9\n",
            " - 0s - loss: 0.3772 - acc: 0.8274\n",
            "Test Accuracy: 82.929294\n",
            "_________________________________________________________________\n",
            "Layer (type)                 Output Shape              Param #   \n",
            "=================================================================\n",
            "embedding_111 (Embedding)    (None, 54, 500)           1890500   \n",
            "_________________________________________________________________\n",
            "flatten_110 (Flatten)        (None, 27000)             0         \n",
            "_________________________________________________________________\n",
            "dense_110 (Dense)            (None, 5)                 135005    \n",
            "=================================================================\n",
            "Total params: 2,025,505\n",
            "Trainable params: 2,025,505\n",
            "Non-trainable params: 0\n",
            "_________________________________________________________________\n",
            "None\n",
            "Epoch 1/9\n",
            " - 5s - loss: 1.1900 - acc: 0.5488\n",
            "Epoch 2/9\n",
            " - 1s - loss: 1.0361 - acc: 0.5691\n",
            "Epoch 3/9\n",
            " - 1s - loss: 0.8669 - acc: 0.5703\n",
            "Epoch 4/9\n",
            " - 1s - loss: 0.5948 - acc: 0.6831\n",
            "Epoch 5/9\n",
            " - 1s - loss: 0.1595 - acc: 0.9848\n",
            "Epoch 6/9\n",
            " - 1s - loss: 0.0435 - acc: 0.9962\n",
            "Epoch 7/9\n",
            " - 1s - loss: 0.0216 - acc: 0.9975\n",
            "Epoch 8/9\n",
            " - 1s - loss: 0.0131 - acc: 0.9987\n",
            "Epoch 9/9\n",
            " - 1s - loss: 0.0095 - acc: 1.0000\n",
            "Test Accuracy: 66.161616\n",
            "_________________________________________________________________\n",
            "Layer (type)                 Output Shape              Param #   \n",
            "=================================================================\n",
            "embedding_112 (Embedding)    (None, 54, 500)           1890500   \n",
            "_________________________________________________________________\n",
            "flatten_111 (Flatten)        (None, 27000)             0         \n",
            "_________________________________________________________________\n",
            "dense_111 (Dense)            (None, 5)                 135005    \n",
            "=================================================================\n",
            "Total params: 2,025,505\n",
            "Trainable params: 2,025,505\n",
            "Non-trainable params: 0\n",
            "_________________________________________________________________\n",
            "None\n",
            "Epoch 1/9\n",
            " - 6s - loss: 1.1839 - acc: 0.5501\n",
            "Epoch 2/9\n",
            " - 1s - loss: 1.0547 - acc: 0.5691\n",
            "Epoch 3/9\n",
            " - 1s - loss: 0.8751 - acc: 0.5703\n",
            "Epoch 4/9\n",
            " - 1s - loss: 0.6007 - acc: 0.6730\n",
            "Epoch 5/9\n",
            " - 1s - loss: 0.1587 - acc: 0.9835\n",
            "Epoch 6/9\n",
            " - 1s - loss: 0.0420 - acc: 0.9975\n",
            "Epoch 7/9\n",
            " - 1s - loss: 0.0204 - acc: 0.9975\n",
            "Epoch 8/9\n",
            " - 1s - loss: 0.0137 - acc: 0.9987\n",
            "Epoch 9/9\n",
            " - 1s - loss: 0.0092 - acc: 1.0000\n",
            "Test Accuracy: 66.666667\n",
            "_________________________________________________________________\n",
            "Layer (type)                 Output Shape              Param #   \n",
            "=================================================================\n",
            "embedding_113 (Embedding)    (None, 54, 500)           1890500   \n",
            "_________________________________________________________________\n",
            "flatten_112 (Flatten)        (None, 27000)             0         \n",
            "_________________________________________________________________\n",
            "dense_112 (Dense)            (None, 5)                 135005    \n",
            "=================================================================\n",
            "Total params: 2,025,505\n",
            "Trainable params: 2,025,505\n",
            "Non-trainable params: 0\n",
            "_________________________________________________________________\n",
            "None\n",
            "Epoch 1/9\n",
            " - 6s - loss: 1.1870 - acc: 0.5488\n",
            "Epoch 2/9\n",
            " - 1s - loss: 1.0226 - acc: 0.5691\n",
            "Epoch 3/9\n",
            " - 1s - loss: 0.8519 - acc: 0.5716\n",
            "Epoch 4/9\n",
            " - 1s - loss: 0.4801 - acc: 0.8035\n",
            "Epoch 5/9\n",
            " - 1s - loss: 0.1033 - acc: 0.9899\n",
            "Epoch 6/9\n",
            " - 1s - loss: 0.0378 - acc: 0.9975\n",
            "Epoch 7/9\n",
            " - 1s - loss: 0.0208 - acc: 0.9975\n",
            "Epoch 8/9\n",
            " - 1s - loss: 0.0137 - acc: 0.9987\n",
            "Epoch 9/9\n",
            " - 1s - loss: 0.0099 - acc: 1.0000\n",
            "Test Accuracy: 66.161616\n",
            "_________________________________________________________________\n",
            "Layer (type)                 Output Shape              Param #   \n",
            "=================================================================\n",
            "embedding_114 (Embedding)    (None, 54, 500)           1890500   \n",
            "_________________________________________________________________\n",
            "flatten_113 (Flatten)        (None, 27000)             0         \n",
            "_________________________________________________________________\n",
            "dense_113 (Dense)            (None, 5)                 135005    \n",
            "=================================================================\n",
            "Total params: 2,025,505\n",
            "Trainable params: 2,025,505\n",
            "Non-trainable params: 0\n",
            "_________________________________________________________________\n",
            "None\n",
            "Epoch 1/9\n",
            " - 5s - loss: 1.5277 - acc: 0.5234\n",
            "Epoch 2/9\n",
            " - 0s - loss: 1.3880 - acc: 0.5691\n",
            "Epoch 3/9\n",
            " - 0s - loss: 1.2860 - acc: 0.5691\n",
            "Epoch 4/9\n",
            " - 0s - loss: 1.2139 - acc: 0.5691\n",
            "Epoch 5/9\n",
            " - 0s - loss: 1.1699 - acc: 0.5691\n",
            "Epoch 6/9\n",
            " - 0s - loss: 1.1460 - acc: 0.5691\n",
            "Epoch 7/9\n",
            " - 0s - loss: 1.1337 - acc: 0.5691\n",
            "Epoch 8/9\n",
            " - 0s - loss: 1.1274 - acc: 0.5691\n",
            "Epoch 9/9\n",
            " - 0s - loss: 1.1235 - acc: 0.5691\n",
            "Test Accuracy: 57.070707\n",
            "_________________________________________________________________\n",
            "Layer (type)                 Output Shape              Param #   \n",
            "=================================================================\n",
            "embedding_115 (Embedding)    (None, 54, 500)           1890500   \n",
            "_________________________________________________________________\n",
            "flatten_114 (Flatten)        (None, 27000)             0         \n",
            "_________________________________________________________________\n",
            "dense_114 (Dense)            (None, 5)                 135005    \n",
            "=================================================================\n",
            "Total params: 2,025,505\n",
            "Trainable params: 2,025,505\n",
            "Non-trainable params: 0\n",
            "_________________________________________________________________\n",
            "None\n",
            "Epoch 1/9\n",
            " - 5s - loss: 1.5068 - acc: 0.5640\n",
            "Epoch 2/9\n",
            " - 0s - loss: 1.3700 - acc: 0.5691\n",
            "Epoch 3/9\n",
            " - 0s - loss: 1.2715 - acc: 0.5691\n",
            "Epoch 4/9\n",
            " - 0s - loss: 1.2030 - acc: 0.5691\n",
            "Epoch 5/9\n",
            " - 0s - loss: 1.1628 - acc: 0.5691\n",
            "Epoch 6/9\n",
            " - 0s - loss: 1.1416 - acc: 0.5691\n",
            "Epoch 7/9\n",
            " - 0s - loss: 1.1311 - acc: 0.5691\n",
            "Epoch 8/9\n",
            " - 0s - loss: 1.1253 - acc: 0.5691\n",
            "Epoch 9/9\n",
            " - 0s - loss: 1.1217 - acc: 0.5691\n",
            "Test Accuracy: 57.070707\n",
            "_________________________________________________________________\n",
            "Layer (type)                 Output Shape              Param #   \n",
            "=================================================================\n",
            "embedding_116 (Embedding)    (None, 54, 500)           1890500   \n",
            "_________________________________________________________________\n",
            "flatten_115 (Flatten)        (None, 27000)             0         \n",
            "_________________________________________________________________\n",
            "dense_115 (Dense)            (None, 5)                 135005    \n",
            "=================================================================\n",
            "Total params: 2,025,505\n",
            "Trainable params: 2,025,505\n",
            "Non-trainable params: 0\n",
            "_________________________________________________________________\n",
            "None\n",
            "Epoch 1/9\n",
            " - 5s - loss: 1.5331 - acc: 0.4968\n",
            "Epoch 2/9\n",
            " - 0s - loss: 1.3865 - acc: 0.5678\n",
            "Epoch 3/9\n",
            " - 0s - loss: 1.2834 - acc: 0.5678\n",
            "Epoch 4/9\n",
            " - 0s - loss: 1.2107 - acc: 0.5691\n",
            "Epoch 5/9\n",
            " - 0s - loss: 1.1673 - acc: 0.5691\n",
            "Epoch 6/9\n",
            " - 0s - loss: 1.1445 - acc: 0.5691\n",
            "Epoch 7/9\n",
            " - 0s - loss: 1.1326 - acc: 0.5691\n",
            "Epoch 8/9\n",
            " - 0s - loss: 1.1260 - acc: 0.5691\n",
            "Epoch 9/9\n",
            " - 0s - loss: 1.1227 - acc: 0.5691\n",
            "Test Accuracy: 57.070707\n",
            "_________________________________________________________________\n",
            "Layer (type)                 Output Shape              Param #   \n",
            "=================================================================\n",
            "embedding_117 (Embedding)    (None, 54, 500)           1890500   \n",
            "_________________________________________________________________\n",
            "flatten_116 (Flatten)        (None, 27000)             0         \n",
            "_________________________________________________________________\n",
            "dense_116 (Dense)            (None, 5)                 135005    \n",
            "=================================================================\n",
            "Total params: 2,025,505\n",
            "Trainable params: 2,025,505\n",
            "Non-trainable params: 0\n",
            "_________________________________________________________________\n",
            "None\n",
            "Epoch 1/9\n",
            " - 6s - loss: 0.4160 - acc: 0.8094\n",
            "Epoch 2/9\n",
            " - 1s - loss: 0.3353 - acc: 0.8677\n",
            "Epoch 3/9\n",
            " - 1s - loss: 0.2588 - acc: 0.9133\n",
            "Epoch 4/9\n",
            " - 1s - loss: 0.1622 - acc: 0.9665\n",
            "Epoch 5/9\n",
            " - 1s - loss: 0.0885 - acc: 0.9838\n",
            "Epoch 6/9\n",
            " - 1s - loss: 0.0489 - acc: 0.9929\n",
            "Epoch 7/9\n",
            " - 1s - loss: 0.0296 - acc: 0.9970\n",
            "Epoch 8/9\n",
            " - 1s - loss: 0.0191 - acc: 0.9992\n",
            "Epoch 9/9\n",
            " - 1s - loss: 0.0135 - acc: 0.9995\n",
            "Test Accuracy: 86.363637\n",
            "_________________________________________________________________\n",
            "Layer (type)                 Output Shape              Param #   \n",
            "=================================================================\n",
            "embedding_118 (Embedding)    (None, 54, 500)           1890500   \n",
            "_________________________________________________________________\n",
            "flatten_117 (Flatten)        (None, 27000)             0         \n",
            "_________________________________________________________________\n",
            "dense_117 (Dense)            (None, 5)                 135005    \n",
            "=================================================================\n",
            "Total params: 2,025,505\n",
            "Trainable params: 2,025,505\n",
            "Non-trainable params: 0\n",
            "_________________________________________________________________\n",
            "None\n",
            "Epoch 1/9\n",
            " - 6s - loss: 0.4158 - acc: 0.8170\n",
            "Epoch 2/9\n",
            " - 1s - loss: 0.3372 - acc: 0.8662\n",
            "Epoch 3/9\n",
            " - 1s - loss: 0.2586 - acc: 0.9156\n",
            "Epoch 4/9\n",
            " - 1s - loss: 0.1596 - acc: 0.9693\n",
            "Epoch 5/9\n",
            " - 1s - loss: 0.0884 - acc: 0.9833\n",
            "Epoch 6/9\n",
            " - 1s - loss: 0.0489 - acc: 0.9932\n",
            "Epoch 7/9\n",
            " - 1s - loss: 0.0293 - acc: 0.9977\n",
            "Epoch 8/9\n",
            " - 1s - loss: 0.0191 - acc: 0.9992\n",
            "Epoch 9/9\n",
            " - 1s - loss: 0.0137 - acc: 0.9995\n",
            "Test Accuracy: 85.959597\n",
            "_________________________________________________________________\n",
            "Layer (type)                 Output Shape              Param #   \n",
            "=================================================================\n",
            "embedding_119 (Embedding)    (None, 54, 500)           1890500   \n",
            "_________________________________________________________________\n",
            "flatten_118 (Flatten)        (None, 27000)             0         \n",
            "_________________________________________________________________\n",
            "dense_118 (Dense)            (None, 5)                 135005    \n",
            "=================================================================\n",
            "Total params: 2,025,505\n",
            "Trainable params: 2,025,505\n",
            "Non-trainable params: 0\n",
            "_________________________________________________________________\n",
            "None\n",
            "Epoch 1/9\n",
            " - 6s - loss: 0.4091 - acc: 0.8122\n",
            "Epoch 2/9\n",
            " - 1s - loss: 0.3357 - acc: 0.8540\n",
            "Epoch 3/9\n",
            " - 1s - loss: 0.2594 - acc: 0.9189\n",
            "Epoch 4/9\n",
            " - 1s - loss: 0.1599 - acc: 0.9638\n",
            "Epoch 5/9\n",
            " - 1s - loss: 0.0878 - acc: 0.9843\n",
            "Epoch 6/9\n",
            " - 1s - loss: 0.0490 - acc: 0.9921\n",
            "Epoch 7/9\n",
            " - 1s - loss: 0.0290 - acc: 0.9980\n",
            "Epoch 8/9\n",
            " - 1s - loss: 0.0188 - acc: 0.9995\n",
            "Epoch 9/9\n",
            " - 1s - loss: 0.0134 - acc: 0.9995\n",
            "Test Accuracy: 85.555557\n",
            "_________________________________________________________________\n",
            "Layer (type)                 Output Shape              Param #   \n",
            "=================================================================\n",
            "embedding_120 (Embedding)    (None, 54, 500)           1890500   \n",
            "_________________________________________________________________\n",
            "flatten_119 (Flatten)        (None, 27000)             0         \n",
            "_________________________________________________________________\n",
            "dense_119 (Dense)            (None, 5)                 135005    \n",
            "=================================================================\n",
            "Total params: 2,025,505\n",
            "Trainable params: 2,025,505\n",
            "Non-trainable params: 0\n",
            "_________________________________________________________________\n",
            "None\n",
            "Epoch 1/9\n",
            " - 5s - loss: 0.6441 - acc: 0.7949\n",
            "Epoch 2/9\n",
            " - 0s - loss: 0.5658 - acc: 0.8269\n",
            "Epoch 3/9\n",
            " - 0s - loss: 0.5071 - acc: 0.8271\n",
            "Epoch 4/9\n",
            " - 0s - loss: 0.4644 - acc: 0.8271\n",
            "Epoch 5/9\n",
            " - 0s - loss: 0.4347 - acc: 0.8271\n",
            "Epoch 6/9\n",
            " - 0s - loss: 0.4153 - acc: 0.8271\n",
            "Epoch 7/9\n",
            " - 0s - loss: 0.4024 - acc: 0.8271\n",
            "Epoch 8/9\n",
            " - 0s - loss: 0.3939 - acc: 0.8271\n",
            "Epoch 9/9\n",
            " - 0s - loss: 0.3883 - acc: 0.8271\n",
            "Test Accuracy: 82.828282\n",
            "_________________________________________________________________\n",
            "Layer (type)                 Output Shape              Param #   \n",
            "=================================================================\n",
            "embedding_121 (Embedding)    (None, 54, 500)           1890500   \n",
            "_________________________________________________________________\n",
            "flatten_120 (Flatten)        (None, 27000)             0         \n",
            "_________________________________________________________________\n",
            "dense_120 (Dense)            (None, 5)                 135005    \n",
            "=================================================================\n",
            "Total params: 2,025,505\n",
            "Trainable params: 2,025,505\n",
            "Non-trainable params: 0\n",
            "_________________________________________________________________\n",
            "None\n",
            "Epoch 1/9\n",
            " - 5s - loss: 0.6427 - acc: 0.7959\n",
            "Epoch 2/9\n",
            " - 0s - loss: 0.5622 - acc: 0.8264\n",
            "Epoch 3/9\n",
            " - 0s - loss: 0.5031 - acc: 0.8271\n",
            "Epoch 4/9\n",
            " - 0s - loss: 0.4609 - acc: 0.8274\n",
            "Epoch 5/9\n",
            " - 0s - loss: 0.4321 - acc: 0.8274\n",
            "Epoch 6/9\n",
            " - 0s - loss: 0.4131 - acc: 0.8274\n",
            "Epoch 7/9\n",
            " - 0s - loss: 0.4009 - acc: 0.8274\n",
            "Epoch 8/9\n",
            " - 0s - loss: 0.3928 - acc: 0.8274\n",
            "Epoch 9/9\n",
            " - 0s - loss: 0.3875 - acc: 0.8274\n",
            "Test Accuracy: 82.828282\n",
            "_________________________________________________________________\n",
            "Layer (type)                 Output Shape              Param #   \n",
            "=================================================================\n",
            "embedding_122 (Embedding)    (None, 54, 500)           1890500   \n",
            "_________________________________________________________________\n",
            "flatten_121 (Flatten)        (None, 27000)             0         \n",
            "_________________________________________________________________\n",
            "dense_121 (Dense)            (None, 5)                 135005    \n",
            "=================================================================\n",
            "Total params: 2,025,505\n",
            "Trainable params: 2,025,505\n",
            "Non-trainable params: 0\n",
            "_________________________________________________________________\n",
            "None\n",
            "Epoch 1/9\n",
            " - 5s - loss: 0.6375 - acc: 0.7962\n",
            "Epoch 2/9\n",
            " - 0s - loss: 0.5520 - acc: 0.8274\n",
            "Epoch 3/9\n",
            " - 0s - loss: 0.4923 - acc: 0.8274\n",
            "Epoch 4/9\n",
            " - 0s - loss: 0.4517 - acc: 0.8274\n",
            "Epoch 5/9\n",
            " - 0s - loss: 0.4254 - acc: 0.8274\n",
            "Epoch 6/9\n",
            " - 0s - loss: 0.4084 - acc: 0.8274\n",
            "Epoch 7/9\n",
            " - 0s - loss: 0.3975 - acc: 0.8274\n",
            "Epoch 8/9\n",
            " - 0s - loss: 0.3905 - acc: 0.8274\n",
            "Epoch 9/9\n",
            " - 0s - loss: 0.3858 - acc: 0.8274\n",
            "Test Accuracy: 82.828282\n"
          ],
          "name": "stdout"
        }
      ]
    },
    {
      "metadata": {
        "id": "n_hwG_4nqWYg",
        "colab_type": "code",
        "outputId": "ec68d674-8b22-44c1-ec32-c1e18de34faa",
        "colab": {
          "base_uri": "https://localhost:8080/",
          "height": 802
        }
      },
      "cell_type": "code",
      "source": [
        "total"
      ],
      "execution_count": 0,
      "outputs": [
        {
          "output_type": "execute_result",
          "data": {
            "text/html": [
              "<div>\n",
              "<style scoped>\n",
              "    .dataframe tbody tr th:only-of-type {\n",
              "        vertical-align: middle;\n",
              "    }\n",
              "\n",
              "    .dataframe tbody tr th {\n",
              "        vertical-align: top;\n",
              "    }\n",
              "\n",
              "    .dataframe thead th {\n",
              "        text-align: right;\n",
              "    }\n",
              "</style>\n",
              "<table border=\"1\" class=\"dataframe\">\n",
              "  <thead>\n",
              "    <tr style=\"text-align: right;\">\n",
              "      <th></th>\n",
              "      <th>Dimensions</th>\n",
              "      <th>Activation</th>\n",
              "      <th>Losses</th>\n",
              "      <th>Optimizer</th>\n",
              "      <th>Accurasy(+/-sd)</th>\n",
              "      <th>Recall(+/-sd)</th>\n",
              "      <th>Precision(+/-sd)</th>\n",
              "      <th>F1_score(+/-sd)</th>\n",
              "    </tr>\n",
              "  </thead>\n",
              "  <tbody>\n",
              "    <tr>\n",
              "      <th>0</th>\n",
              "      <td>100</td>\n",
              "      <td>softmax</td>\n",
              "      <td>categorical_crossentropy</td>\n",
              "      <td>adam</td>\n",
              "      <td>0.657+/-0.022</td>\n",
              "      <td>0.342+/-0.014</td>\n",
              "      <td>0.527+/-0.002</td>\n",
              "      <td>0.370+/-0.016</td>\n",
              "    </tr>\n",
              "    <tr>\n",
              "      <th>1</th>\n",
              "      <td>100</td>\n",
              "      <td>softmax</td>\n",
              "      <td>categorical_crossentropy</td>\n",
              "      <td>sgd</td>\n",
              "      <td>0.571+/-0.000</td>\n",
              "      <td>0.200+/-0.000</td>\n",
              "      <td>0.114+/-0.000</td>\n",
              "      <td>0.145+/-0.000</td>\n",
              "    </tr>\n",
              "    <tr>\n",
              "      <th>2</th>\n",
              "      <td>100</td>\n",
              "      <td>softmax</td>\n",
              "      <td>binary_crossentropy</td>\n",
              "      <td>adam</td>\n",
              "      <td>0.660+/-0.023</td>\n",
              "      <td>0.343+/-0.013</td>\n",
              "      <td>0.547+/-0.013</td>\n",
              "      <td>0.371+/-0.014</td>\n",
              "    </tr>\n",
              "    <tr>\n",
              "      <th>3</th>\n",
              "      <td>100</td>\n",
              "      <td>softmax</td>\n",
              "      <td>binary_crossentropy</td>\n",
              "      <td>sgd</td>\n",
              "      <td>0.571+/-0.000</td>\n",
              "      <td>0.200+/-0.000</td>\n",
              "      <td>0.114+/-0.000</td>\n",
              "      <td>0.145+/-0.000</td>\n",
              "    </tr>\n",
              "    <tr>\n",
              "      <th>4</th>\n",
              "      <td>100</td>\n",
              "      <td>sigmoid</td>\n",
              "      <td>categorical_crossentropy</td>\n",
              "      <td>adam</td>\n",
              "      <td>0.648+/-0.003</td>\n",
              "      <td>0.338+/-0.006</td>\n",
              "      <td>0.523+/-0.028</td>\n",
              "      <td>0.366+/-0.007</td>\n",
              "    </tr>\n",
              "    <tr>\n",
              "      <th>5</th>\n",
              "      <td>100</td>\n",
              "      <td>sigmoid</td>\n",
              "      <td>categorical_crossentropy</td>\n",
              "      <td>sgd</td>\n",
              "      <td>0.571+/-0.000</td>\n",
              "      <td>0.200+/-0.000</td>\n",
              "      <td>0.114+/-0.000</td>\n",
              "      <td>0.145+/-0.000</td>\n",
              "    </tr>\n",
              "    <tr>\n",
              "      <th>6</th>\n",
              "      <td>100</td>\n",
              "      <td>sigmoid</td>\n",
              "      <td>binary_crossentropy</td>\n",
              "      <td>adam</td>\n",
              "      <td>0.670+/-0.011</td>\n",
              "      <td>0.341+/-0.012</td>\n",
              "      <td>0.565+/-0.009</td>\n",
              "      <td>0.370+/-0.014</td>\n",
              "    </tr>\n",
              "    <tr>\n",
              "      <th>7</th>\n",
              "      <td>100</td>\n",
              "      <td>sigmoid</td>\n",
              "      <td>binary_crossentropy</td>\n",
              "      <td>sgd</td>\n",
              "      <td>0.571+/-0.000</td>\n",
              "      <td>0.200+/-0.000</td>\n",
              "      <td>0.114+/-0.000</td>\n",
              "      <td>0.145+/-0.000</td>\n",
              "    </tr>\n",
              "    <tr>\n",
              "      <th>8</th>\n",
              "      <td>250</td>\n",
              "      <td>softmax</td>\n",
              "      <td>categorical_crossentropy</td>\n",
              "      <td>adam</td>\n",
              "      <td>0.678+/-0.003</td>\n",
              "      <td>0.355+/-0.001</td>\n",
              "      <td>0.532+/-0.003</td>\n",
              "      <td>0.384+/-0.001</td>\n",
              "    </tr>\n",
              "    <tr>\n",
              "      <th>9</th>\n",
              "      <td>250</td>\n",
              "      <td>softmax</td>\n",
              "      <td>categorical_crossentropy</td>\n",
              "      <td>sgd</td>\n",
              "      <td>0.571+/-0.000</td>\n",
              "      <td>0.200+/-0.000</td>\n",
              "      <td>0.114+/-0.000</td>\n",
              "      <td>0.145+/-0.000</td>\n",
              "    </tr>\n",
              "    <tr>\n",
              "      <th>10</th>\n",
              "      <td>250</td>\n",
              "      <td>softmax</td>\n",
              "      <td>binary_crossentropy</td>\n",
              "      <td>adam</td>\n",
              "      <td>0.668+/-0.006</td>\n",
              "      <td>0.351+/-0.004</td>\n",
              "      <td>0.519+/-0.007</td>\n",
              "      <td>0.380+/-0.004</td>\n",
              "    </tr>\n",
              "    <tr>\n",
              "      <th>11</th>\n",
              "      <td>250</td>\n",
              "      <td>softmax</td>\n",
              "      <td>binary_crossentropy</td>\n",
              "      <td>sgd</td>\n",
              "      <td>0.571+/-0.000</td>\n",
              "      <td>0.200+/-0.000</td>\n",
              "      <td>0.114+/-0.000</td>\n",
              "      <td>0.145+/-0.000</td>\n",
              "    </tr>\n",
              "    <tr>\n",
              "      <th>12</th>\n",
              "      <td>250</td>\n",
              "      <td>sigmoid</td>\n",
              "      <td>categorical_crossentropy</td>\n",
              "      <td>adam</td>\n",
              "      <td>0.667+/-0.005</td>\n",
              "      <td>0.349+/-0.006</td>\n",
              "      <td>0.516+/-0.011</td>\n",
              "      <td>0.378+/-0.006</td>\n",
              "    </tr>\n",
              "    <tr>\n",
              "      <th>13</th>\n",
              "      <td>250</td>\n",
              "      <td>sigmoid</td>\n",
              "      <td>categorical_crossentropy</td>\n",
              "      <td>sgd</td>\n",
              "      <td>0.571+/-0.000</td>\n",
              "      <td>0.200+/-0.000</td>\n",
              "      <td>0.114+/-0.000</td>\n",
              "      <td>0.145+/-0.000</td>\n",
              "    </tr>\n",
              "    <tr>\n",
              "      <th>14</th>\n",
              "      <td>250</td>\n",
              "      <td>sigmoid</td>\n",
              "      <td>binary_crossentropy</td>\n",
              "      <td>adam</td>\n",
              "      <td>0.673+/-0.006</td>\n",
              "      <td>0.347+/-0.004</td>\n",
              "      <td>0.555+/-0.017</td>\n",
              "      <td>0.376+/-0.004</td>\n",
              "    </tr>\n",
              "    <tr>\n",
              "      <th>15</th>\n",
              "      <td>250</td>\n",
              "      <td>sigmoid</td>\n",
              "      <td>binary_crossentropy</td>\n",
              "      <td>sgd</td>\n",
              "      <td>0.571+/-0.000</td>\n",
              "      <td>0.200+/-0.000</td>\n",
              "      <td>0.114+/-0.000</td>\n",
              "      <td>0.145+/-0.000</td>\n",
              "    </tr>\n",
              "    <tr>\n",
              "      <th>16</th>\n",
              "      <td>500</td>\n",
              "      <td>softmax</td>\n",
              "      <td>categorical_crossentropy</td>\n",
              "      <td>adam</td>\n",
              "      <td>0.684+/-0.003</td>\n",
              "      <td>0.360+/-0.003</td>\n",
              "      <td>0.521+/-0.001</td>\n",
              "      <td>0.390+/-0.003</td>\n",
              "    </tr>\n",
              "    <tr>\n",
              "      <th>17</th>\n",
              "      <td>500</td>\n",
              "      <td>softmax</td>\n",
              "      <td>categorical_crossentropy</td>\n",
              "      <td>sgd</td>\n",
              "      <td>0.571+/-0.000</td>\n",
              "      <td>0.200+/-0.000</td>\n",
              "      <td>0.114+/-0.000</td>\n",
              "      <td>0.145+/-0.000</td>\n",
              "    </tr>\n",
              "    <tr>\n",
              "      <th>18</th>\n",
              "      <td>500</td>\n",
              "      <td>softmax</td>\n",
              "      <td>binary_crossentropy</td>\n",
              "      <td>adam</td>\n",
              "      <td>0.685+/-0.003</td>\n",
              "      <td>0.362+/-0.002</td>\n",
              "      <td>0.525+/-0.007</td>\n",
              "      <td>0.392+/-0.002</td>\n",
              "    </tr>\n",
              "    <tr>\n",
              "      <th>19</th>\n",
              "      <td>500</td>\n",
              "      <td>softmax</td>\n",
              "      <td>binary_crossentropy</td>\n",
              "      <td>sgd</td>\n",
              "      <td>0.571+/-0.000</td>\n",
              "      <td>0.200+/-0.000</td>\n",
              "      <td>0.114+/-0.000</td>\n",
              "      <td>0.145+/-0.000</td>\n",
              "    </tr>\n",
              "    <tr>\n",
              "      <th>20</th>\n",
              "      <td>500</td>\n",
              "      <td>sigmoid</td>\n",
              "      <td>categorical_crossentropy</td>\n",
              "      <td>adam</td>\n",
              "      <td>0.663+/-0.003</td>\n",
              "      <td>0.355+/-0.003</td>\n",
              "      <td>0.505+/-0.003</td>\n",
              "      <td>0.383+/-0.003</td>\n",
              "    </tr>\n",
              "    <tr>\n",
              "      <th>21</th>\n",
              "      <td>500</td>\n",
              "      <td>sigmoid</td>\n",
              "      <td>categorical_crossentropy</td>\n",
              "      <td>sgd</td>\n",
              "      <td>0.571+/-0.000</td>\n",
              "      <td>0.200+/-0.000</td>\n",
              "      <td>0.114+/-0.000</td>\n",
              "      <td>0.145+/-0.000</td>\n",
              "    </tr>\n",
              "    <tr>\n",
              "      <th>22</th>\n",
              "      <td>500</td>\n",
              "      <td>sigmoid</td>\n",
              "      <td>binary_crossentropy</td>\n",
              "      <td>adam</td>\n",
              "      <td>0.670+/-0.006</td>\n",
              "      <td>0.347+/-0.003</td>\n",
              "      <td>0.528+/-0.005</td>\n",
              "      <td>0.375+/-0.004</td>\n",
              "    </tr>\n",
              "    <tr>\n",
              "      <th>23</th>\n",
              "      <td>500</td>\n",
              "      <td>sigmoid</td>\n",
              "      <td>binary_crossentropy</td>\n",
              "      <td>sgd</td>\n",
              "      <td>0.571+/-0.000</td>\n",
              "      <td>0.200+/-0.000</td>\n",
              "      <td>0.114+/-0.000</td>\n",
              "      <td>0.145+/-0.000</td>\n",
              "    </tr>\n",
              "  </tbody>\n",
              "</table>\n",
              "</div>"
            ],
            "text/plain": [
              "   Dimensions Activation                    Losses Optimizer Accurasy(+/-sd)  \\\n",
              "0         100    softmax  categorical_crossentropy      adam   0.657+/-0.022   \n",
              "1         100    softmax  categorical_crossentropy       sgd   0.571+/-0.000   \n",
              "2         100    softmax       binary_crossentropy      adam   0.660+/-0.023   \n",
              "3         100    softmax       binary_crossentropy       sgd   0.571+/-0.000   \n",
              "4         100    sigmoid  categorical_crossentropy      adam   0.648+/-0.003   \n",
              "5         100    sigmoid  categorical_crossentropy       sgd   0.571+/-0.000   \n",
              "6         100    sigmoid       binary_crossentropy      adam   0.670+/-0.011   \n",
              "7         100    sigmoid       binary_crossentropy       sgd   0.571+/-0.000   \n",
              "8         250    softmax  categorical_crossentropy      adam   0.678+/-0.003   \n",
              "9         250    softmax  categorical_crossentropy       sgd   0.571+/-0.000   \n",
              "10        250    softmax       binary_crossentropy      adam   0.668+/-0.006   \n",
              "11        250    softmax       binary_crossentropy       sgd   0.571+/-0.000   \n",
              "12        250    sigmoid  categorical_crossentropy      adam   0.667+/-0.005   \n",
              "13        250    sigmoid  categorical_crossentropy       sgd   0.571+/-0.000   \n",
              "14        250    sigmoid       binary_crossentropy      adam   0.673+/-0.006   \n",
              "15        250    sigmoid       binary_crossentropy       sgd   0.571+/-0.000   \n",
              "16        500    softmax  categorical_crossentropy      adam   0.684+/-0.003   \n",
              "17        500    softmax  categorical_crossentropy       sgd   0.571+/-0.000   \n",
              "18        500    softmax       binary_crossentropy      adam   0.685+/-0.003   \n",
              "19        500    softmax       binary_crossentropy       sgd   0.571+/-0.000   \n",
              "20        500    sigmoid  categorical_crossentropy      adam   0.663+/-0.003   \n",
              "21        500    sigmoid  categorical_crossentropy       sgd   0.571+/-0.000   \n",
              "22        500    sigmoid       binary_crossentropy      adam   0.670+/-0.006   \n",
              "23        500    sigmoid       binary_crossentropy       sgd   0.571+/-0.000   \n",
              "\n",
              "    Recall(+/-sd) Precision(+/-sd) F1_score(+/-sd)  \n",
              "0   0.342+/-0.014    0.527+/-0.002   0.370+/-0.016  \n",
              "1   0.200+/-0.000    0.114+/-0.000   0.145+/-0.000  \n",
              "2   0.343+/-0.013    0.547+/-0.013   0.371+/-0.014  \n",
              "3   0.200+/-0.000    0.114+/-0.000   0.145+/-0.000  \n",
              "4   0.338+/-0.006    0.523+/-0.028   0.366+/-0.007  \n",
              "5   0.200+/-0.000    0.114+/-0.000   0.145+/-0.000  \n",
              "6   0.341+/-0.012    0.565+/-0.009   0.370+/-0.014  \n",
              "7   0.200+/-0.000    0.114+/-0.000   0.145+/-0.000  \n",
              "8   0.355+/-0.001    0.532+/-0.003   0.384+/-0.001  \n",
              "9   0.200+/-0.000    0.114+/-0.000   0.145+/-0.000  \n",
              "10  0.351+/-0.004    0.519+/-0.007   0.380+/-0.004  \n",
              "11  0.200+/-0.000    0.114+/-0.000   0.145+/-0.000  \n",
              "12  0.349+/-0.006    0.516+/-0.011   0.378+/-0.006  \n",
              "13  0.200+/-0.000    0.114+/-0.000   0.145+/-0.000  \n",
              "14  0.347+/-0.004    0.555+/-0.017   0.376+/-0.004  \n",
              "15  0.200+/-0.000    0.114+/-0.000   0.145+/-0.000  \n",
              "16  0.360+/-0.003    0.521+/-0.001   0.390+/-0.003  \n",
              "17  0.200+/-0.000    0.114+/-0.000   0.145+/-0.000  \n",
              "18  0.362+/-0.002    0.525+/-0.007   0.392+/-0.002  \n",
              "19  0.200+/-0.000    0.114+/-0.000   0.145+/-0.000  \n",
              "20  0.355+/-0.003    0.505+/-0.003   0.383+/-0.003  \n",
              "21  0.200+/-0.000    0.114+/-0.000   0.145+/-0.000  \n",
              "22  0.347+/-0.003    0.528+/-0.005   0.375+/-0.004  \n",
              "23  0.200+/-0.000    0.114+/-0.000   0.145+/-0.000  "
            ]
          },
          "metadata": {
            "tags": []
          },
          "execution_count": 91
        }
      ]
    },
    {
      "metadata": {
        "id": "j__OM8dhqWGT",
        "colab_type": "code",
        "outputId": "4673fce6-59f4-4247-d8b4-0f4ddb79056c",
        "colab": {
          "base_uri": "https://localhost:8080/",
          "height": 802
        }
      },
      "cell_type": "code",
      "source": [
        "total.sort_values('Accurasy(+/-sd)',ascending=False)"
      ],
      "execution_count": 0,
      "outputs": [
        {
          "output_type": "execute_result",
          "data": {
            "text/html": [
              "<div>\n",
              "<style scoped>\n",
              "    .dataframe tbody tr th:only-of-type {\n",
              "        vertical-align: middle;\n",
              "    }\n",
              "\n",
              "    .dataframe tbody tr th {\n",
              "        vertical-align: top;\n",
              "    }\n",
              "\n",
              "    .dataframe thead th {\n",
              "        text-align: right;\n",
              "    }\n",
              "</style>\n",
              "<table border=\"1\" class=\"dataframe\">\n",
              "  <thead>\n",
              "    <tr style=\"text-align: right;\">\n",
              "      <th></th>\n",
              "      <th>Dimensions</th>\n",
              "      <th>Activation</th>\n",
              "      <th>Losses</th>\n",
              "      <th>Optimizer</th>\n",
              "      <th>Accurasy(+/-sd)</th>\n",
              "      <th>Recall(+/-sd)</th>\n",
              "      <th>Precision(+/-sd)</th>\n",
              "      <th>F1_score(+/-sd)</th>\n",
              "    </tr>\n",
              "  </thead>\n",
              "  <tbody>\n",
              "    <tr>\n",
              "      <th>18</th>\n",
              "      <td>500</td>\n",
              "      <td>softmax</td>\n",
              "      <td>binary_crossentropy</td>\n",
              "      <td>adam</td>\n",
              "      <td>0.685+/-0.003</td>\n",
              "      <td>0.362+/-0.002</td>\n",
              "      <td>0.525+/-0.007</td>\n",
              "      <td>0.392+/-0.002</td>\n",
              "    </tr>\n",
              "    <tr>\n",
              "      <th>16</th>\n",
              "      <td>500</td>\n",
              "      <td>softmax</td>\n",
              "      <td>categorical_crossentropy</td>\n",
              "      <td>adam</td>\n",
              "      <td>0.684+/-0.003</td>\n",
              "      <td>0.360+/-0.003</td>\n",
              "      <td>0.521+/-0.001</td>\n",
              "      <td>0.390+/-0.003</td>\n",
              "    </tr>\n",
              "    <tr>\n",
              "      <th>8</th>\n",
              "      <td>250</td>\n",
              "      <td>softmax</td>\n",
              "      <td>categorical_crossentropy</td>\n",
              "      <td>adam</td>\n",
              "      <td>0.678+/-0.003</td>\n",
              "      <td>0.355+/-0.001</td>\n",
              "      <td>0.532+/-0.003</td>\n",
              "      <td>0.384+/-0.001</td>\n",
              "    </tr>\n",
              "    <tr>\n",
              "      <th>14</th>\n",
              "      <td>250</td>\n",
              "      <td>sigmoid</td>\n",
              "      <td>binary_crossentropy</td>\n",
              "      <td>adam</td>\n",
              "      <td>0.673+/-0.006</td>\n",
              "      <td>0.347+/-0.004</td>\n",
              "      <td>0.555+/-0.017</td>\n",
              "      <td>0.376+/-0.004</td>\n",
              "    </tr>\n",
              "    <tr>\n",
              "      <th>6</th>\n",
              "      <td>100</td>\n",
              "      <td>sigmoid</td>\n",
              "      <td>binary_crossentropy</td>\n",
              "      <td>adam</td>\n",
              "      <td>0.670+/-0.011</td>\n",
              "      <td>0.341+/-0.012</td>\n",
              "      <td>0.565+/-0.009</td>\n",
              "      <td>0.370+/-0.014</td>\n",
              "    </tr>\n",
              "    <tr>\n",
              "      <th>22</th>\n",
              "      <td>500</td>\n",
              "      <td>sigmoid</td>\n",
              "      <td>binary_crossentropy</td>\n",
              "      <td>adam</td>\n",
              "      <td>0.670+/-0.006</td>\n",
              "      <td>0.347+/-0.003</td>\n",
              "      <td>0.528+/-0.005</td>\n",
              "      <td>0.375+/-0.004</td>\n",
              "    </tr>\n",
              "    <tr>\n",
              "      <th>10</th>\n",
              "      <td>250</td>\n",
              "      <td>softmax</td>\n",
              "      <td>binary_crossentropy</td>\n",
              "      <td>adam</td>\n",
              "      <td>0.668+/-0.006</td>\n",
              "      <td>0.351+/-0.004</td>\n",
              "      <td>0.519+/-0.007</td>\n",
              "      <td>0.380+/-0.004</td>\n",
              "    </tr>\n",
              "    <tr>\n",
              "      <th>12</th>\n",
              "      <td>250</td>\n",
              "      <td>sigmoid</td>\n",
              "      <td>categorical_crossentropy</td>\n",
              "      <td>adam</td>\n",
              "      <td>0.667+/-0.005</td>\n",
              "      <td>0.349+/-0.006</td>\n",
              "      <td>0.516+/-0.011</td>\n",
              "      <td>0.378+/-0.006</td>\n",
              "    </tr>\n",
              "    <tr>\n",
              "      <th>20</th>\n",
              "      <td>500</td>\n",
              "      <td>sigmoid</td>\n",
              "      <td>categorical_crossentropy</td>\n",
              "      <td>adam</td>\n",
              "      <td>0.663+/-0.003</td>\n",
              "      <td>0.355+/-0.003</td>\n",
              "      <td>0.505+/-0.003</td>\n",
              "      <td>0.383+/-0.003</td>\n",
              "    </tr>\n",
              "    <tr>\n",
              "      <th>2</th>\n",
              "      <td>100</td>\n",
              "      <td>softmax</td>\n",
              "      <td>binary_crossentropy</td>\n",
              "      <td>adam</td>\n",
              "      <td>0.660+/-0.023</td>\n",
              "      <td>0.343+/-0.013</td>\n",
              "      <td>0.547+/-0.013</td>\n",
              "      <td>0.371+/-0.014</td>\n",
              "    </tr>\n",
              "    <tr>\n",
              "      <th>0</th>\n",
              "      <td>100</td>\n",
              "      <td>softmax</td>\n",
              "      <td>categorical_crossentropy</td>\n",
              "      <td>adam</td>\n",
              "      <td>0.657+/-0.022</td>\n",
              "      <td>0.342+/-0.014</td>\n",
              "      <td>0.527+/-0.002</td>\n",
              "      <td>0.370+/-0.016</td>\n",
              "    </tr>\n",
              "    <tr>\n",
              "      <th>4</th>\n",
              "      <td>100</td>\n",
              "      <td>sigmoid</td>\n",
              "      <td>categorical_crossentropy</td>\n",
              "      <td>adam</td>\n",
              "      <td>0.648+/-0.003</td>\n",
              "      <td>0.338+/-0.006</td>\n",
              "      <td>0.523+/-0.028</td>\n",
              "      <td>0.366+/-0.007</td>\n",
              "    </tr>\n",
              "    <tr>\n",
              "      <th>11</th>\n",
              "      <td>250</td>\n",
              "      <td>softmax</td>\n",
              "      <td>binary_crossentropy</td>\n",
              "      <td>sgd</td>\n",
              "      <td>0.571+/-0.000</td>\n",
              "      <td>0.200+/-0.000</td>\n",
              "      <td>0.114+/-0.000</td>\n",
              "      <td>0.145+/-0.000</td>\n",
              "    </tr>\n",
              "    <tr>\n",
              "      <th>1</th>\n",
              "      <td>100</td>\n",
              "      <td>softmax</td>\n",
              "      <td>categorical_crossentropy</td>\n",
              "      <td>sgd</td>\n",
              "      <td>0.571+/-0.000</td>\n",
              "      <td>0.200+/-0.000</td>\n",
              "      <td>0.114+/-0.000</td>\n",
              "      <td>0.145+/-0.000</td>\n",
              "    </tr>\n",
              "    <tr>\n",
              "      <th>13</th>\n",
              "      <td>250</td>\n",
              "      <td>sigmoid</td>\n",
              "      <td>categorical_crossentropy</td>\n",
              "      <td>sgd</td>\n",
              "      <td>0.571+/-0.000</td>\n",
              "      <td>0.200+/-0.000</td>\n",
              "      <td>0.114+/-0.000</td>\n",
              "      <td>0.145+/-0.000</td>\n",
              "    </tr>\n",
              "    <tr>\n",
              "      <th>9</th>\n",
              "      <td>250</td>\n",
              "      <td>softmax</td>\n",
              "      <td>categorical_crossentropy</td>\n",
              "      <td>sgd</td>\n",
              "      <td>0.571+/-0.000</td>\n",
              "      <td>0.200+/-0.000</td>\n",
              "      <td>0.114+/-0.000</td>\n",
              "      <td>0.145+/-0.000</td>\n",
              "    </tr>\n",
              "    <tr>\n",
              "      <th>15</th>\n",
              "      <td>250</td>\n",
              "      <td>sigmoid</td>\n",
              "      <td>binary_crossentropy</td>\n",
              "      <td>sgd</td>\n",
              "      <td>0.571+/-0.000</td>\n",
              "      <td>0.200+/-0.000</td>\n",
              "      <td>0.114+/-0.000</td>\n",
              "      <td>0.145+/-0.000</td>\n",
              "    </tr>\n",
              "    <tr>\n",
              "      <th>7</th>\n",
              "      <td>100</td>\n",
              "      <td>sigmoid</td>\n",
              "      <td>binary_crossentropy</td>\n",
              "      <td>sgd</td>\n",
              "      <td>0.571+/-0.000</td>\n",
              "      <td>0.200+/-0.000</td>\n",
              "      <td>0.114+/-0.000</td>\n",
              "      <td>0.145+/-0.000</td>\n",
              "    </tr>\n",
              "    <tr>\n",
              "      <th>17</th>\n",
              "      <td>500</td>\n",
              "      <td>softmax</td>\n",
              "      <td>categorical_crossentropy</td>\n",
              "      <td>sgd</td>\n",
              "      <td>0.571+/-0.000</td>\n",
              "      <td>0.200+/-0.000</td>\n",
              "      <td>0.114+/-0.000</td>\n",
              "      <td>0.145+/-0.000</td>\n",
              "    </tr>\n",
              "    <tr>\n",
              "      <th>5</th>\n",
              "      <td>100</td>\n",
              "      <td>sigmoid</td>\n",
              "      <td>categorical_crossentropy</td>\n",
              "      <td>sgd</td>\n",
              "      <td>0.571+/-0.000</td>\n",
              "      <td>0.200+/-0.000</td>\n",
              "      <td>0.114+/-0.000</td>\n",
              "      <td>0.145+/-0.000</td>\n",
              "    </tr>\n",
              "    <tr>\n",
              "      <th>19</th>\n",
              "      <td>500</td>\n",
              "      <td>softmax</td>\n",
              "      <td>binary_crossentropy</td>\n",
              "      <td>sgd</td>\n",
              "      <td>0.571+/-0.000</td>\n",
              "      <td>0.200+/-0.000</td>\n",
              "      <td>0.114+/-0.000</td>\n",
              "      <td>0.145+/-0.000</td>\n",
              "    </tr>\n",
              "    <tr>\n",
              "      <th>21</th>\n",
              "      <td>500</td>\n",
              "      <td>sigmoid</td>\n",
              "      <td>categorical_crossentropy</td>\n",
              "      <td>sgd</td>\n",
              "      <td>0.571+/-0.000</td>\n",
              "      <td>0.200+/-0.000</td>\n",
              "      <td>0.114+/-0.000</td>\n",
              "      <td>0.145+/-0.000</td>\n",
              "    </tr>\n",
              "    <tr>\n",
              "      <th>3</th>\n",
              "      <td>100</td>\n",
              "      <td>softmax</td>\n",
              "      <td>binary_crossentropy</td>\n",
              "      <td>sgd</td>\n",
              "      <td>0.571+/-0.000</td>\n",
              "      <td>0.200+/-0.000</td>\n",
              "      <td>0.114+/-0.000</td>\n",
              "      <td>0.145+/-0.000</td>\n",
              "    </tr>\n",
              "    <tr>\n",
              "      <th>23</th>\n",
              "      <td>500</td>\n",
              "      <td>sigmoid</td>\n",
              "      <td>binary_crossentropy</td>\n",
              "      <td>sgd</td>\n",
              "      <td>0.571+/-0.000</td>\n",
              "      <td>0.200+/-0.000</td>\n",
              "      <td>0.114+/-0.000</td>\n",
              "      <td>0.145+/-0.000</td>\n",
              "    </tr>\n",
              "  </tbody>\n",
              "</table>\n",
              "</div>"
            ],
            "text/plain": [
              "   Dimensions Activation                    Losses Optimizer Accurasy(+/-sd)  \\\n",
              "18        500    softmax       binary_crossentropy      adam   0.685+/-0.003   \n",
              "16        500    softmax  categorical_crossentropy      adam   0.684+/-0.003   \n",
              "8         250    softmax  categorical_crossentropy      adam   0.678+/-0.003   \n",
              "14        250    sigmoid       binary_crossentropy      adam   0.673+/-0.006   \n",
              "6         100    sigmoid       binary_crossentropy      adam   0.670+/-0.011   \n",
              "22        500    sigmoid       binary_crossentropy      adam   0.670+/-0.006   \n",
              "10        250    softmax       binary_crossentropy      adam   0.668+/-0.006   \n",
              "12        250    sigmoid  categorical_crossentropy      adam   0.667+/-0.005   \n",
              "20        500    sigmoid  categorical_crossentropy      adam   0.663+/-0.003   \n",
              "2         100    softmax       binary_crossentropy      adam   0.660+/-0.023   \n",
              "0         100    softmax  categorical_crossentropy      adam   0.657+/-0.022   \n",
              "4         100    sigmoid  categorical_crossentropy      adam   0.648+/-0.003   \n",
              "11        250    softmax       binary_crossentropy       sgd   0.571+/-0.000   \n",
              "1         100    softmax  categorical_crossentropy       sgd   0.571+/-0.000   \n",
              "13        250    sigmoid  categorical_crossentropy       sgd   0.571+/-0.000   \n",
              "9         250    softmax  categorical_crossentropy       sgd   0.571+/-0.000   \n",
              "15        250    sigmoid       binary_crossentropy       sgd   0.571+/-0.000   \n",
              "7         100    sigmoid       binary_crossentropy       sgd   0.571+/-0.000   \n",
              "17        500    softmax  categorical_crossentropy       sgd   0.571+/-0.000   \n",
              "5         100    sigmoid  categorical_crossentropy       sgd   0.571+/-0.000   \n",
              "19        500    softmax       binary_crossentropy       sgd   0.571+/-0.000   \n",
              "21        500    sigmoid  categorical_crossentropy       sgd   0.571+/-0.000   \n",
              "3         100    softmax       binary_crossentropy       sgd   0.571+/-0.000   \n",
              "23        500    sigmoid       binary_crossentropy       sgd   0.571+/-0.000   \n",
              "\n",
              "    Recall(+/-sd) Precision(+/-sd) F1_score(+/-sd)  \n",
              "18  0.362+/-0.002    0.525+/-0.007   0.392+/-0.002  \n",
              "16  0.360+/-0.003    0.521+/-0.001   0.390+/-0.003  \n",
              "8   0.355+/-0.001    0.532+/-0.003   0.384+/-0.001  \n",
              "14  0.347+/-0.004    0.555+/-0.017   0.376+/-0.004  \n",
              "6   0.341+/-0.012    0.565+/-0.009   0.370+/-0.014  \n",
              "22  0.347+/-0.003    0.528+/-0.005   0.375+/-0.004  \n",
              "10  0.351+/-0.004    0.519+/-0.007   0.380+/-0.004  \n",
              "12  0.349+/-0.006    0.516+/-0.011   0.378+/-0.006  \n",
              "20  0.355+/-0.003    0.505+/-0.003   0.383+/-0.003  \n",
              "2   0.343+/-0.013    0.547+/-0.013   0.371+/-0.014  \n",
              "0   0.342+/-0.014    0.527+/-0.002   0.370+/-0.016  \n",
              "4   0.338+/-0.006    0.523+/-0.028   0.366+/-0.007  \n",
              "11  0.200+/-0.000    0.114+/-0.000   0.145+/-0.000  \n",
              "1   0.200+/-0.000    0.114+/-0.000   0.145+/-0.000  \n",
              "13  0.200+/-0.000    0.114+/-0.000   0.145+/-0.000  \n",
              "9   0.200+/-0.000    0.114+/-0.000   0.145+/-0.000  \n",
              "15  0.200+/-0.000    0.114+/-0.000   0.145+/-0.000  \n",
              "7   0.200+/-0.000    0.114+/-0.000   0.145+/-0.000  \n",
              "17  0.200+/-0.000    0.114+/-0.000   0.145+/-0.000  \n",
              "5   0.200+/-0.000    0.114+/-0.000   0.145+/-0.000  \n",
              "19  0.200+/-0.000    0.114+/-0.000   0.145+/-0.000  \n",
              "21  0.200+/-0.000    0.114+/-0.000   0.145+/-0.000  \n",
              "3   0.200+/-0.000    0.114+/-0.000   0.145+/-0.000  \n",
              "23  0.200+/-0.000    0.114+/-0.000   0.145+/-0.000  "
            ]
          },
          "metadata": {
            "tags": []
          },
          "execution_count": 93
        }
      ]
    },
    {
      "metadata": {
        "id": "Q35XDBrBqVtd",
        "colab_type": "code",
        "colab": {}
      },
      "cell_type": "code",
      "source": [
        ""
      ],
      "execution_count": 0,
      "outputs": []
    },
    {
      "metadata": {
        "id": "NeM4vMV3LSwa",
        "colab_type": "code",
        "colab": {}
      },
      "cell_type": "code",
      "source": [
        ""
      ],
      "execution_count": 0,
      "outputs": []
    },
    {
      "metadata": {
        "id": "gtbiojtQLSg9",
        "colab_type": "code",
        "colab": {}
      },
      "cell_type": "code",
      "source": [
        ""
      ],
      "execution_count": 0,
      "outputs": []
    },
    {
      "metadata": {
        "id": "a1_Q-WPaLSQw",
        "colab_type": "code",
        "colab": {}
      },
      "cell_type": "code",
      "source": [
        ""
      ],
      "execution_count": 0,
      "outputs": []
    },
    {
      "metadata": {
        "id": "m-Y07GaMLR9i",
        "colab_type": "code",
        "colab": {}
      },
      "cell_type": "code",
      "source": [
        ""
      ],
      "execution_count": 0,
      "outputs": []
    },
    {
      "metadata": {
        "id": "7FnvSIPZLRuq",
        "colab_type": "code",
        "colab": {}
      },
      "cell_type": "code",
      "source": [
        ""
      ],
      "execution_count": 0,
      "outputs": []
    },
    {
      "metadata": {
        "id": "oWzbaUB_Gmcu",
        "colab_type": "text"
      },
      "cell_type": "markdown",
      "source": [
        "# Vector Semantics - Learn word embeddings\n",
        "** Get word embeddings with Word2Vec.**\n",
        "<br>\n",
        "Begin by reading the gensim documentation for [Word2Vec](https://radimrehurek.com/gensim/models/word2vec.html), to figure out how to use the Word2Vec class. \n",
        "\n",
        "\n",
        "\n",
        "\n"
      ]
    },
    {
      "metadata": {
        "id": "_jAozyC_9jTQ",
        "colab_type": "text"
      },
      "cell_type": "markdown",
      "source": [
        "<img height=\"20px\" src=\"http://mlbernauer.github.io/assets/python.png\" align=\"left\" hspace=\"5px\" vspace=\"3px\">\n",
        "<h3> Exercise </h3>\n",
        "\n",
        "1. Read the Word2Vec documentation, and\n",
        "2. train a Word2Vec model that learns embeddings in $\\mathbb R^{100}$  from the TED dataset using SkipGram model. Other options should be default except min_count=10 so that infrequent words are ignored.  \n",
        "3. train a Word2Vec model that learns embeddings in $\\mathbb R^{10}$  from the TED dataset using SkipGram model. \n",
        "4. Get the most similar word to \"computer\" for both models. Do you notice any difference? What exactly?\n"
      ]
    },
    {
      "metadata": {
        "id": "O7LIBvgz5XJs",
        "colab_type": "code",
        "colab": {}
      },
      "cell_type": "code",
      "source": [
        ""
      ],
      "execution_count": 0,
      "outputs": []
    },
    {
      "metadata": {
        "id": "_Nax-M_PtgKt",
        "colab_type": "code",
        "colab": {}
      },
      "cell_type": "code",
      "source": [
        ""
      ],
      "execution_count": 0,
      "outputs": []
    },
    {
      "metadata": {
        "id": "XR1wU-yhtgAX",
        "colab_type": "code",
        "colab": {}
      },
      "cell_type": "code",
      "source": [
        ""
      ],
      "execution_count": 0,
      "outputs": []
    },
    {
      "metadata": {
        "id": "BuUzyLgmtf2O",
        "colab_type": "code",
        "colab": {}
      },
      "cell_type": "code",
      "source": [
        ""
      ],
      "execution_count": 0,
      "outputs": []
    },
    {
      "metadata": {
        "id": "euafd6sAtfrT",
        "colab_type": "code",
        "colab": {}
      },
      "cell_type": "code",
      "source": [
        ""
      ],
      "execution_count": 0,
      "outputs": []
    },
    {
      "metadata": {
        "id": "o5DLx-lctfgL",
        "colab_type": "code",
        "colab": {}
      },
      "cell_type": "code",
      "source": [
        ""
      ],
      "execution_count": 0,
      "outputs": []
    },
    {
      "metadata": {
        "id": "tN3D5-GMtfU0",
        "colab_type": "code",
        "colab": {}
      },
      "cell_type": "code",
      "source": [
        ""
      ],
      "execution_count": 0,
      "outputs": []
    },
    {
      "metadata": {
        "id": "IAa25SeBtfCg",
        "colab_type": "code",
        "colab": {}
      },
      "cell_type": "code",
      "source": [
        ""
      ],
      "execution_count": 0,
      "outputs": []
    },
    {
      "metadata": {
        "id": "n29EY7iDIiUH",
        "colab_type": "code",
        "colab": {}
      },
      "cell_type": "code",
      "source": [
        ""
      ],
      "execution_count": 0,
      "outputs": []
    },
    {
      "metadata": {
        "id": "bujy3SkVGpil",
        "colab_type": "text"
      },
      "cell_type": "markdown",
      "source": [
        "\n",
        "\n",
        "---\n",
        "\n"
      ]
    },
    {
      "metadata": {
        "id": "GDK_P3_ZOxXS",
        "colab_type": "text"
      },
      "cell_type": "markdown",
      "source": [
        "# Neural Network Classification models\n",
        "Neural Network Models address the n-gram data sparsity issue through parameterization of words as vectors (word embeddings) and using them as inputs to a neural network.\n"
      ]
    },
    {
      "metadata": {
        "id": "z16LUFSVUV1q",
        "colab_type": "text"
      },
      "cell_type": "markdown",
      "source": [
        "## 2.1 Movie Review Polarity Dataset\n",
        "The Movie Review Data is a collection of movie reviews retrieved from the imdb.com website in the early 2000s by Bo Pang and Lillian Lee. The reviews were collected and made available as part of their research.\n",
        "The dataset is comprised of **1,000 positive** and **1,000 negative movie reviews** drawn from an archive of the rec.arts.movies.reviews newsgroup hosted at imdb.com. The authors refer to this dataset as the “polarity dataset.”\n",
        "\n",
        "**You can download the dataset from here**:\n",
        "[Movie Review Polarity Dataset (review_polarity.tar.gz, 3MB)]()\n",
        "\n",
        "After unzipping the file, you will have a directory called “txt_sentoken” with two sub-directories containing the text “neg” and “pos” for negative and positive reviews. Reviews are stored one per file with a naming convention cv000 to cv999 for each neg and pos.\n",
        "\n",
        "**The data has been cleaned up:**\n",
        "* The dataset is comprised of only English reviews.\n",
        "* All text has been converted to lowercase.\n",
        "* There is white space around punctuation like periods, commas, and brackets.\n",
        "* Text has been split into one sentence per line."
      ]
    },
    {
      "metadata": {
        "id": "e384ZS2Z2sqb",
        "colab_type": "text"
      },
      "cell_type": "markdown",
      "source": [
        "## 2.2 Data Preparation\n",
        " Prepare movie review text data for classification with neural network methods\n",
        " \n",
        " \n",
        "\n",
        "*   Split into Train / Validation sets\n",
        "*   Loading & Cleaning Reviews\n",
        "*   Define a vocabulary of preferred words\n",
        "\n"
      ]
    },
    {
      "metadata": {
        "id": "v-322eST-K6q",
        "colab_type": "code",
        "outputId": "0ac740b1-74ab-4749-b549-ed54cbce22f1",
        "colab": {
          "base_uri": "https://localhost:8080/",
          "height": 124
        }
      },
      "cell_type": "code",
      "source": [
        "from google.colab import drive\n",
        "drive.mount('/content/drive/',force_remount=True)"
      ],
      "execution_count": 0,
      "outputs": [
        {
          "output_type": "stream",
          "text": [
            "Go to this URL in a browser: https://accounts.google.com/o/oauth2/auth?client_id=947318989803-6bn6qk8qdgf4n4g3pfee6491hc0brc4i.apps.googleusercontent.com&redirect_uri=urn%3Aietf%3Awg%3Aoauth%3A2.0%3Aoob&scope=email%20https%3A%2F%2Fwww.googleapis.com%2Fauth%2Fdocs.test%20https%3A%2F%2Fwww.googleapis.com%2Fauth%2Fdrive%20https%3A%2F%2Fwww.googleapis.com%2Fauth%2Fdrive.photos.readonly%20https%3A%2F%2Fwww.googleapis.com%2Fauth%2Fpeopleapi.readonly&response_type=code\n",
            "\n",
            "Enter your authorization code:\n",
            "··········\n",
            "Mounted at /content/drive/\n"
          ],
          "name": "stdout"
        }
      ]
    },
    {
      "metadata": {
        "id": "w6moFoigSOOx",
        "colab_type": "code",
        "colab": {}
      },
      "cell_type": "code",
      "source": [
        "# Data paths\n",
        "negativeReviewsDirectory = '/content/drive/My Drive/Colab Notebooks/Datasets/review_polarity/txt_sentoken/neg'\n",
        "positiveReviewsDirectory = '/content/drive/My Drive/Colab Notebooks/Datasets/review_polarity/txt_sentoken/pos'\n",
        "\n",
        "vocab_filename = '/content/drive/My Drive/Colab Notebooks/Datasets/vocab.txt'\n",
        "embedding_word2vec_filename = '/content/drive/My Drive/Colab Notebooks/Datasets/embedding_word2vec.txt'\n",
        "glove_embedding = '/content/drive/My Drive/glove.6B.100d.txt'\n"
      ],
      "execution_count": 0,
      "outputs": []
    },
    {
      "metadata": {
        "id": "gfZHIF4Y_Z3e",
        "colab_type": "code",
        "colab": {}
      },
      "cell_type": "code",
      "source": [
        "from string import punctuation\n",
        "from os import listdir\n",
        "from collections import Counter\n",
        "import nltk\n",
        "nltk.download('stopwords')\n",
        "from nltk.corpus import stopwords\n",
        "\n",
        "# load doc into memory\n",
        "def load_doc(filename):\n",
        "\t# open the file as read only\n",
        "\tfile = open(filename, 'r')\n",
        "\t# read all text\n",
        "\ttext = file.read()\n",
        "\t# close the file\n",
        "\tfile.close()\n",
        "\treturn text\n",
        "\n",
        "# turn a doc into clean tokens\n",
        "def clean_doc(doc):\n",
        "\t# split into tokens by white space\n",
        "\ttokens = doc.split()\n",
        "\t# remove punctuation from each token\n",
        "\ttable = str.maketrans('', '', punctuation)\n",
        "\ttokens = [w.translate(table) for w in tokens]\n",
        "\t# remove remaining tokens that are not alphabetic\n",
        "\ttokens = [word for word in tokens if word.isalpha()]\n",
        "\t# filter out stop words\n",
        "\tstop_words = set(stopwords.words('english'))\n",
        "\ttokens = [w for w in tokens if not w in stop_words]\n",
        "\t# filter out short tokens\n",
        "\ttokens = [word for word in tokens if len(word) > 1]\n",
        "\treturn tokens\n",
        "\n",
        "# load doc and add to vocab\n",
        "def add_doc_to_vocab(filename, vocab):\n",
        "\t# load doc\n",
        "\tdoc = load_doc(filename)\n",
        "\t# clean doc\n",
        "\ttokens = clean_doc(doc)\n",
        "\t# update counts\n",
        "\tvocab.update(tokens)\n",
        "\n",
        "# load all docs in a directory\n",
        "def process_docs(directory, vocab, is_train):\n",
        "\t# walk through all files in the folder\n",
        "\tfor filename in listdir(directory):\n",
        "\t\t# skip any reviews in the test set\n",
        "\t\tif is_train and filename.startswith('cv9'):\n",
        "\t\t\tcontinue\n",
        "\t\tif not is_train and not filename.startswith('cv9'):\n",
        "\t\t\tcontinue\n",
        "\t\t# create the full path of the file to open\n",
        "\t\tpath = directory + '/' + filename\n",
        "\t\t# add doc to vocab\n",
        "\t\tadd_doc_to_vocab(path, vocab)\n",
        "\n",
        "\n",
        "# Add all docs to vocab\n",
        "# Define vocabulary\n",
        "vocab = Counter()\n",
        "# Get positive and negative documents from respective directories\n",
        "process_docs(negativeReviewsDirectory, vocab, True)\n",
        "process_docs(positiveReviewsDirectory, vocab, True)\n",
        "\n",
        "# print the size of the vocab\n",
        "print(\"\\nVocabulary size:\", len(vocab))\n",
        "# print the top words in the vocab\n",
        "print(\"\\nMost common words: \\n\", vocab.most_common(50))\n",
        "\n",
        "# Keep tokens with a min occurence\n",
        "min_occurence = 2\n",
        "tokens = [k for k,c in vocab.items() if c >= min_occurence]\n",
        "print(\"\\nUpdated Vocabulary size:\", len(tokens))\n",
        "\n",
        "# save list to file\n",
        "def save_list(lines, filename):\n",
        "\t# convert lines to a single blob of text\n",
        "\tdata = '\\n'.join(lines)\n",
        "\t# open file\n",
        "\tfile = open(filename, 'w')\n",
        "\t# write text\n",
        "\tfile.write(data)\n",
        "\t# close file\n",
        "\tfile.close()\n",
        "\n",
        "# save tokens to a vocabulary file\n",
        "save_list(tokens, vocab_filename)"
      ],
      "execution_count": 0,
      "outputs": []
    },
    {
      "metadata": {
        "id": "ELZHvfMSH9_Y",
        "colab_type": "code",
        "colab": {}
      },
      "cell_type": "code",
      "source": [
        ""
      ],
      "execution_count": 0,
      "outputs": []
    },
    {
      "metadata": {
        "id": "qoOPsOCk2snE",
        "colab_type": "text"
      },
      "cell_type": "markdown",
      "source": [
        "## 2.3 Train an Embedding Layer\n",
        "Word embeddings as part of fitting a neural network model.\n",
        "\n",
        "\n",
        "*   [Embedding layer](https://keras.io/layers/embeddings/) in Keras deep learning library\n",
        "\n"
      ]
    },
    {
      "metadata": {
        "id": "VgzlwB3mM6LW",
        "colab_type": "code",
        "outputId": "f67d75cf-49a6-41c7-d0e4-147b87aaf4b5",
        "colab": {
          "base_uri": "https://localhost:8080/",
          "height": 367
        }
      },
      "cell_type": "code",
      "source": [
        "from string import punctuation\n",
        "from os import listdir\n",
        "from numpy import array\n",
        "from keras.preprocessing.text import Tokenizer\n",
        "from keras.preprocessing.sequence import pad_sequences\n",
        "from keras.models import Sequential\n",
        "from keras.layers import Dense\n",
        "from keras.layers import Flatten\n",
        "from keras.layers import Embedding\n",
        "from keras.layers.convolutional import Conv1D\n",
        "from keras.layers.convolutional import MaxPooling1D\n",
        "\n",
        "# load doc into memory\n",
        "def load_doc(filename):\n",
        "\t# open the file as read only\n",
        "\tfile = open(filename, 'r')\n",
        "\t# read all text\n",
        "\ttext = file.read()\n",
        "\t# close the file\n",
        "\tfile.close()\n",
        "\treturn text\n",
        "\n",
        "# turn a doc into clean tokens\n",
        "def clean_doc(doc, vocab):\n",
        "\t# split into tokens by white space\n",
        "\ttokens = doc.split()\n",
        "\t# remove punctuation from each token\n",
        "\ttable = str.maketrans('', '', punctuation)\n",
        "\ttokens = [w.translate(table) for w in tokens]\n",
        "\t# filter out tokens not in vocab\n",
        "\ttokens = [w for w in tokens if w in vocab]\n",
        "\ttokens = ' '.join(tokens)\n",
        "\treturn tokens\n",
        "\n",
        "# load all docs in a directory\n",
        "def process_docs(directory, vocab, is_train):\n",
        "\tdocuments = list()\n",
        "\t# walk through all files in the folder\n",
        "\tfor filename in listdir(directory):\n",
        "\t\t# skip any reviews in the test set\n",
        "\t\tif is_train and filename.startswith('cv9'):\n",
        "\t\t\tcontinue\n",
        "\t\tif not is_train and not filename.startswith('cv9'):\n",
        "\t\t\tcontinue\n",
        "\t\t# create the full path of the file to open\n",
        "\t\tpath = directory + '/' + filename\n",
        "\t\t# load the doc\n",
        "\t\tdoc = load_doc(path)\n",
        "\t\t# clean doc\n",
        "\t\ttokens = clean_doc(doc, vocab)\n",
        "\t\t# add to list\n",
        "\t\tdocuments.append(tokens)\n",
        "\treturn documents\n",
        "\n",
        "# load all training reviews\n",
        "positive_docs = process_docs(positiveReviewsDirectory, vocab, True)\n",
        "negative_docs = process_docs(negativeReviewsDirectory, vocab, True)\n",
        "train_docs = negative_docs + positive_docs\n",
        "\n",
        "# create the tokenizer\n",
        "tokenizer = Tokenizer()\n",
        "# fit the tokenizer on the documents\n",
        "tokenizer.fit_on_texts(train_docs)\n",
        "\n",
        "# sequence encode\n",
        "encoded_docs = tokenizer.texts_to_sequences(train_docs)\n",
        "# pad sequences\n",
        "max_length = max([len(s.split()) for s in train_docs])\n",
        "Xtrain = pad_sequences(encoded_docs, maxlen=max_length, padding='post')\n",
        "# define training labels\n",
        "ytrain = array([0 for _ in range(900)] + [1 for _ in range(900)])\n",
        "\n",
        "# load all test reviews\n",
        "positive_docs = process_docs(positiveReviewsDirectory, vocab, False)\n",
        "negative_docs = process_docs(negativeReviewsDirectory, vocab, False)\n",
        "test_docs = negative_docs + positive_docs\n",
        "# sequence encode\n",
        "encoded_docs = tokenizer.texts_to_sequences(test_docs)\n",
        "# pad sequences\n",
        "Xtest = pad_sequences(encoded_docs, maxlen=max_length, padding='post')\n",
        "# define test labels\n",
        "ytest = array([0 for _ in range(100)] + [1 for _ in range(100)])\n",
        "\n",
        "# define vocabulary size (largest integer value)\n",
        "vocab_size = len(tokenizer.word_index) + 1\n",
        "\n",
        "# Define Model\n",
        "model = Sequential()\n",
        "model.add(Embedding(vocab_size, 100, input_length=max_length))\n",
        "model.add(Flatten())\n",
        "model.add(Dense(1, activation='sigmoid'))\n",
        "print(model.summary())\n",
        "# compile network\n",
        "model.compile(loss='binary_crossentropy', optimizer='adam', metrics=['accuracy'])\n",
        "# fit network\n",
        "model.fit(Xtrain, ytrain, epochs=10, verbose=2)\n",
        "# evaluate\n",
        "loss, acc = model.evaluate(Xtest, ytest, verbose=0)\n",
        "print('Test Accuracy: %f' % (acc*100))"
      ],
      "execution_count": 0,
      "outputs": [
        {
          "output_type": "stream",
          "text": [
            "Using TensorFlow backend.\n"
          ],
          "name": "stderr"
        },
        {
          "output_type": "error",
          "ename": "FileNotFoundError",
          "evalue": "ignored",
          "traceback": [
            "\u001b[0;31m---------------------------------------------------------------------------\u001b[0m",
            "\u001b[0;31mFileNotFoundError\u001b[0m                         Traceback (most recent call last)",
            "\u001b[0;32m<ipython-input-6-0a1ef8b744a8>\u001b[0m in \u001b[0;36m<module>\u001b[0;34m()\u001b[0m\n\u001b[1;32m     54\u001b[0m \u001b[0;34m\u001b[0m\u001b[0m\n\u001b[1;32m     55\u001b[0m \u001b[0;31m# load all training reviews\u001b[0m\u001b[0;34m\u001b[0m\u001b[0;34m\u001b[0m\u001b[0;34m\u001b[0m\u001b[0m\n\u001b[0;32m---> 56\u001b[0;31m \u001b[0mpositive_docs\u001b[0m \u001b[0;34m=\u001b[0m \u001b[0mprocess_docs\u001b[0m\u001b[0;34m(\u001b[0m\u001b[0mpositiveReviewsDirectory\u001b[0m\u001b[0;34m,\u001b[0m \u001b[0mvocab\u001b[0m\u001b[0;34m,\u001b[0m \u001b[0;32mTrue\u001b[0m\u001b[0;34m)\u001b[0m\u001b[0;34m\u001b[0m\u001b[0;34m\u001b[0m\u001b[0m\n\u001b[0m\u001b[1;32m     57\u001b[0m \u001b[0mnegative_docs\u001b[0m \u001b[0;34m=\u001b[0m \u001b[0mprocess_docs\u001b[0m\u001b[0;34m(\u001b[0m\u001b[0mnegativeReviewsDirectory\u001b[0m\u001b[0;34m,\u001b[0m \u001b[0mvocab\u001b[0m\u001b[0;34m,\u001b[0m \u001b[0;32mTrue\u001b[0m\u001b[0;34m)\u001b[0m\u001b[0;34m\u001b[0m\u001b[0;34m\u001b[0m\u001b[0m\n\u001b[1;32m     58\u001b[0m \u001b[0mtrain_docs\u001b[0m \u001b[0;34m=\u001b[0m \u001b[0mnegative_docs\u001b[0m \u001b[0;34m+\u001b[0m \u001b[0mpositive_docs\u001b[0m\u001b[0;34m\u001b[0m\u001b[0;34m\u001b[0m\u001b[0m\n",
            "\u001b[0;32m<ipython-input-6-0a1ef8b744a8>\u001b[0m in \u001b[0;36mprocess_docs\u001b[0;34m(directory, vocab, is_trian)\u001b[0m\n\u001b[1;32m     37\u001b[0m         \u001b[0mdocuments\u001b[0m \u001b[0;34m=\u001b[0m \u001b[0mlist\u001b[0m\u001b[0;34m(\u001b[0m\u001b[0;34m)\u001b[0m\u001b[0;34m\u001b[0m\u001b[0;34m\u001b[0m\u001b[0m\n\u001b[1;32m     38\u001b[0m         \u001b[0;31m# walk through all files in the folder\u001b[0m\u001b[0;34m\u001b[0m\u001b[0;34m\u001b[0m\u001b[0;34m\u001b[0m\u001b[0m\n\u001b[0;32m---> 39\u001b[0;31m         \u001b[0;32mfor\u001b[0m \u001b[0mfilename\u001b[0m \u001b[0;32min\u001b[0m \u001b[0mlistdir\u001b[0m\u001b[0;34m(\u001b[0m\u001b[0mdirectory\u001b[0m\u001b[0;34m)\u001b[0m\u001b[0;34m:\u001b[0m\u001b[0;34m\u001b[0m\u001b[0;34m\u001b[0m\u001b[0m\n\u001b[0m\u001b[1;32m     40\u001b[0m                 \u001b[0;31m# skip any reviews in the test set\u001b[0m\u001b[0;34m\u001b[0m\u001b[0;34m\u001b[0m\u001b[0;34m\u001b[0m\u001b[0m\n\u001b[1;32m     41\u001b[0m                 \u001b[0;32mif\u001b[0m \u001b[0mis_trian\u001b[0m \u001b[0;32mand\u001b[0m \u001b[0mfilename\u001b[0m\u001b[0;34m.\u001b[0m\u001b[0mstartswith\u001b[0m\u001b[0;34m(\u001b[0m\u001b[0;34m'cv9'\u001b[0m\u001b[0;34m)\u001b[0m\u001b[0;34m:\u001b[0m\u001b[0;34m\u001b[0m\u001b[0;34m\u001b[0m\u001b[0m\n",
            "\u001b[0;31mFileNotFoundError\u001b[0m: [Errno 2] No such file or directory: '/content/drive/My Drive/txt_sentoken/pos'"
          ]
        }
      ]
    },
    {
      "metadata": {
        "id": "6ys-qW_-M6HQ",
        "colab_type": "code",
        "colab": {}
      },
      "cell_type": "code",
      "source": [
        ""
      ],
      "execution_count": 0,
      "outputs": []
    },
    {
      "metadata": {
        "id": "z0Bi_7d32shn",
        "colab_type": "text"
      },
      "cell_type": "markdown",
      "source": [
        "## 2.4 Train a Word2Vec Embedding"
      ]
    },
    {
      "metadata": {
        "id": "7AqXlgZdPPNV",
        "colab_type": "code",
        "outputId": "8e5c0145-5e3e-4233-a8ae-19e611d4b5a2",
        "colab": {
          "base_uri": "https://localhost:8080/",
          "height": 50
        }
      },
      "cell_type": "code",
      "source": [
        "from string import punctuation\n",
        "from os import listdir\n",
        "from gensim.models import Word2Vec\n",
        "\n",
        "\n",
        "# turn a doc into clean tokens\n",
        "def doc_to_clean_lines(doc, vocab):\n",
        "\tclean_lines = list()\n",
        "\tlines = doc.splitlines()\n",
        "\tfor line in lines:\n",
        "\t\t# split into tokens by white space\n",
        "\t\ttokens = line.split()\n",
        "\t\t# remove punctuation from each token\n",
        "\t\ttable = str.maketrans('', '', punctuation)\n",
        "\t\ttokens = [w.translate(table) for w in tokens]\n",
        "\t\t# filter out tokens not in vocab\n",
        "\t\ttokens = [w for w in tokens if w in vocab]\n",
        "\t\tclean_lines.append(tokens)\n",
        "\treturn clean_lines\n",
        "\n",
        "# load all docs in a directory\n",
        "def process_docs(directory, vocab, is_trian):\n",
        "\tlines = list()\n",
        "\t# walk through all files in the folder\n",
        "\tfor filename in listdir(directory):\n",
        "\t\t# skip any reviews in the test set\n",
        "\t\tif is_trian and filename.startswith('cv9'):\n",
        "\t\t\tcontinue\n",
        "\t\tif not is_trian and not filename.startswith('cv9'):\n",
        "\t\t\tcontinue\n",
        "\t\t# create the full path of the file to open\n",
        "\t\tpath = directory + '/' + filename\n",
        "\t\t# load and clean the doc\n",
        "\t\tdoc = load_doc(path)\n",
        "\t\tdoc_lines = doc_to_clean_lines(doc, vocab)\n",
        "\t\t# add lines to list\n",
        "\t\tlines += doc_lines\n",
        "\treturn lines\n",
        "\n",
        "\n",
        "# Get all training reviews\n",
        "positive_lines = process_docs(positiveReviewsDirectory, vocab, True)\n",
        "negative_lines = process_docs(negativeReviewsDirectory, vocab, True)\n",
        "sentences = positive_lines + negative_lines\n",
        "print('Total training sentences: %d' % len(sentences))\n",
        "\n",
        "# Train a Word2Vec model\n",
        "model = Word2Vec(sentences, size=100, window=5, workers=-1, min_count=10)\n",
        "# summarize vocabulary size in model\n",
        "words = list(model.wv.vocab)\n",
        "print('Vocabulary size: %d' % len(words))\n",
        "\n",
        "# save model in ASCII (word2vec) format\n",
        "model.wv.save_word2vec_format(embedding_word2vec_filename, binary=False)"
      ],
      "execution_count": 0,
      "outputs": [
        {
          "output_type": "stream",
          "text": [
            "Total training sentences: 58109\n",
            "Vocabulary size: 8465\n"
          ],
          "name": "stdout"
        }
      ]
    },
    {
      "metadata": {
        "id": "6t4ece883QhU",
        "colab_type": "text"
      },
      "cell_type": "markdown",
      "source": [
        "## 2.5 Use pre-trained Embeddings"
      ]
    },
    {
      "metadata": {
        "id": "MLBlz1zRUCtw",
        "colab_type": "text"
      },
      "cell_type": "markdown",
      "source": [
        "### 2.5.1 Use pre-trained in-domain Embeddings"
      ]
    },
    {
      "metadata": {
        "id": "fIjE196JR-pH",
        "colab_type": "code",
        "outputId": "e10f1fb4-a9c7-4ec3-a72d-7e9c90bdbd68",
        "colab": {
          "base_uri": "https://localhost:8080/",
          "height": 248
        }
      },
      "cell_type": "code",
      "source": [
        "from string import punctuation\n",
        "from os import listdir\n",
        "from numpy import array\n",
        "from numpy import asarray\n",
        "from numpy import zeros\n",
        "from keras.preprocessing.text import Tokenizer\n",
        "from keras.preprocessing.sequence import pad_sequences\n",
        "from keras.models import Sequential\n",
        "from keras.layers import Dense\n",
        "from keras.layers import Flatten\n",
        "from keras.layers import Embedding\n",
        "from keras.layers.convolutional import Conv1D\n",
        "from keras.layers.convolutional import MaxPooling1D\n",
        "\n",
        "\n",
        "# turn a doc into clean tokens\n",
        "def clean_doc(doc, vocab):\n",
        "\t# split into tokens by white space\n",
        "\ttokens = doc.split()\n",
        "\t# remove punctuation from each token\n",
        "\ttable = str.maketrans('', '', punctuation)\n",
        "\ttokens = [w.translate(table) for w in tokens]\n",
        "\t# filter out tokens not in vocab\n",
        "\ttokens = [w for w in tokens if w in vocab]\n",
        "\ttokens = ' '.join(tokens)\n",
        "\treturn tokens\n",
        "\n",
        "# load all docs in a directory\n",
        "def process_docs(directory, vocab, is_train):\n",
        "\tdocuments = list()\n",
        "\t# walk through all files in the folder\n",
        "\tfor filename in listdir(directory):\n",
        "\t\t# skip any reviews in the test set\n",
        "\t\tif is_train and filename.startswith('cv9'):\n",
        "\t\t\tcontinue\n",
        "\t\tif not is_train and not filename.startswith('cv9'):\n",
        "\t\t\tcontinue\n",
        "\t\t# create the full path of the file to open\n",
        "\t\tpath = directory + '/' + filename\n",
        "\t\t# load the doc\n",
        "\t\tdoc = load_doc(path)\n",
        "\t\t# clean doc\n",
        "\t\ttokens = clean_doc(doc, vocab)\n",
        "\t\t# add to list\n",
        "\t\tdocuments.append(tokens)\n",
        "\treturn documents\n",
        "\n",
        "# load embedding as a dict\n",
        "def load_embedding(filename):\n",
        "\t# load embedding into memory, skip first line\n",
        "\tfile = open(filename,'r')\n",
        "\tlines = file.readlines()[1:]\n",
        "\tfile.close()\n",
        "\t# create a map of words to vectors\n",
        "\tembedding = dict()\n",
        "\tfor line in lines:\n",
        "\t\tparts = line.split()\n",
        "\t\t# key is string word, value is numpy array for vector\n",
        "\t\tembedding[parts[0]] = asarray(parts[1:], dtype='float32')\n",
        "\treturn embedding\n",
        "\n",
        "# create a weight matrix for the Embedding layer from a loaded embedding\n",
        "def get_weight_matrix(embedding, vocab):\n",
        "\t# total vocabulary size plus 0 for unknown words\n",
        "\tvocab_size = len(vocab) + 1\n",
        "\t# define weight matrix dimensions with all 0\n",
        "\tweight_matrix = zeros((vocab_size, 100))\n",
        "\t# step vocab, store vectors using the Tokenizer's integer mapping\n",
        "\tfor word, i in vocab.items():\n",
        "\t\tweight_matrix[i] = embedding.get(word)\n",
        "\treturn weight_matrix\n",
        "\n",
        "\n",
        "# load all training reviews\n",
        "positive_docs = process_docs(positiveReviewsDirectory, vocab, True)\n",
        "negative_docs = process_docs(negativeReviewsDirectory, vocab, True)\n",
        "train_docs = negative_docs + positive_docs\n",
        "\n",
        "# create the tokenizer\n",
        "tokenizer = Tokenizer()\n",
        "# fit the tokenizer on the documents\n",
        "tokenizer.fit_on_texts(train_docs)\n",
        "\n",
        "# sequence encode\n",
        "encoded_docs = tokenizer.texts_to_sequences(train_docs)\n",
        "# pad sequences\n",
        "max_length = max([len(s.split()) for s in train_docs])\n",
        "Xtrain = pad_sequences(encoded_docs, maxlen=max_length, padding='post')\n",
        "# define training labels\n",
        "ytrain = array([0 for _ in range(900)] + [1 for _ in range(900)])\n",
        "\n",
        "# load all test reviews\n",
        "positive_docs = process_docs(positiveReviewsDirectory, vocab, False)\n",
        "negative_docs = process_docs(negativeReviewsDirectory, vocab, False)\n",
        "test_docs = negative_docs + positive_docs\n",
        "# sequence encode\n",
        "encoded_docs = tokenizer.texts_to_sequences(test_docs)\n",
        "# pad sequences\n",
        "Xtest = pad_sequences(encoded_docs, maxlen=max_length, padding='post')\n",
        "# define test labels\n",
        "ytest = array([0 for _ in range(100)] + [1 for _ in range(100)])\n",
        "\n",
        "# define vocabulary size (largest integer value)\n",
        "vocab_size = len(tokenizer.word_index) + 1\n",
        "\n",
        "# load embedding from file\n",
        "raw_embedding = load_embedding(embedding_word2vec_filename)\n",
        "# get vectors in the right order\n",
        "embedding_vectors = get_weight_matrix(raw_embedding, tokenizer.word_index)\n",
        "# create the embedding layer\n",
        "embedding_layer = Embedding(vocab_size, 100, weights=[embedding_vectors], input_length=max_length, trainable=True)\n",
        "\n",
        "# define model\n",
        "model = Sequential()\n",
        "model.add(embedding_layer)\n",
        "model.add(Flatten())\n",
        "model.add(Dense(1, activation='sigmoid'))\n",
        "print(\"\\nModel Summary:\\n\", model.summary())\n",
        "# compile network\n",
        "model.compile(loss='binary_crossentropy', optimizer='adam', metrics=['accuracy'])\n",
        "# fit network\n",
        "model.fit(Xtrain, ytrain, epochs=10, verbose=2)\n",
        "# evaluate\n",
        "loss, acc = model.evaluate(Xtest, ytest, verbose=0)\n",
        "print('\\nTest Accuracy: %f' % (acc*100))"
      ],
      "execution_count": 0,
      "outputs": [
        {
          "output_type": "stream",
          "text": [
            "Using TensorFlow backend.\n"
          ],
          "name": "stderr"
        },
        {
          "output_type": "error",
          "ename": "NameError",
          "evalue": "ignored",
          "traceback": [
            "\u001b[0;31m---------------------------------------------------------------------------\u001b[0m",
            "\u001b[0;31mNameError\u001b[0m                                 Traceback (most recent call last)",
            "\u001b[0;32m<ipython-input-2-4a72aad686a2>\u001b[0m in \u001b[0;36m<module>\u001b[0;34m()\u001b[0m\n\u001b[1;32m     73\u001b[0m \u001b[0;34m\u001b[0m\u001b[0m\n\u001b[1;32m     74\u001b[0m \u001b[0;31m# load all training reviews\u001b[0m\u001b[0;34m\u001b[0m\u001b[0;34m\u001b[0m\u001b[0;34m\u001b[0m\u001b[0m\n\u001b[0;32m---> 75\u001b[0;31m \u001b[0mpositive_docs\u001b[0m \u001b[0;34m=\u001b[0m \u001b[0mprocess_docs\u001b[0m\u001b[0;34m(\u001b[0m\u001b[0mpositiveReviewsDirectory\u001b[0m\u001b[0;34m,\u001b[0m \u001b[0mvocab\u001b[0m\u001b[0;34m,\u001b[0m \u001b[0;32mTrue\u001b[0m\u001b[0;34m)\u001b[0m\u001b[0;34m\u001b[0m\u001b[0;34m\u001b[0m\u001b[0m\n\u001b[0m\u001b[1;32m     76\u001b[0m \u001b[0mnegative_docs\u001b[0m \u001b[0;34m=\u001b[0m \u001b[0mprocess_docs\u001b[0m\u001b[0;34m(\u001b[0m\u001b[0mnegativeReviewsDirectory\u001b[0m\u001b[0;34m,\u001b[0m \u001b[0mvocab\u001b[0m\u001b[0;34m,\u001b[0m \u001b[0;32mTrue\u001b[0m\u001b[0;34m)\u001b[0m\u001b[0;34m\u001b[0m\u001b[0;34m\u001b[0m\u001b[0m\n\u001b[1;32m     77\u001b[0m \u001b[0mtrain_docs\u001b[0m \u001b[0;34m=\u001b[0m \u001b[0mnegative_docs\u001b[0m \u001b[0;34m+\u001b[0m \u001b[0mpositive_docs\u001b[0m\u001b[0;34m\u001b[0m\u001b[0;34m\u001b[0m\u001b[0m\n",
            "\u001b[0;31mNameError\u001b[0m: name 'vocab' is not defined"
          ]
        }
      ]
    },
    {
      "metadata": {
        "id": "xVABRNWvTltH",
        "colab_type": "code",
        "colab": {}
      },
      "cell_type": "code",
      "source": [
        ""
      ],
      "execution_count": 0,
      "outputs": []
    },
    {
      "metadata": {
        "id": "XSLV7SwBVuYk",
        "colab_type": "text"
      },
      "cell_type": "markdown",
      "source": [
        "### 2.5.2 Use pre-trained word Embeddings on external datasets\n",
        "Google and Stanford provide pre-trained word vectors that you can download, trained with the efficient word2vec and GloVe methods respectively.\n",
        "We will use the [pre-trained GloVe vectors](https://nlp.stanford.edu/projects/glove/) from the Stanford webpage, which are trained on Wikipedia data. "
      ]
    },
    {
      "metadata": {
        "id": "4q2NtQ3ibE0l",
        "colab_type": "code",
        "colab": {}
      },
      "cell_type": "code",
      "source": [
        ""
      ],
      "execution_count": 0,
      "outputs": []
    },
    {
      "metadata": {
        "id": "ni-wQbcfb_b5",
        "colab_type": "text"
      },
      "cell_type": "markdown",
      "source": [
        "<img height=\"20px\" src=\"http://mlbernauer.github.io/assets/python.png\" align=\"left\" hspace=\"5px\" vspace=\"3px\">\n",
        "<h3> Exercise </h3>\n",
        "\n",
        "Train a neural network classifier on Movie Review Polarity Dataset using the pre-trained GloVe word embeddings. You can use the code from 'building a text classifier using in-domain Embeddings' above as basis. What modifications are essential when using embeddings from an external dataset? Think and modify the code accordingly."
      ]
    },
    {
      "metadata": {
        "id": "ekC9i1pGTlqC",
        "colab_type": "code",
        "outputId": "820084be-df2d-49aa-c4ea-f685517f1528",
        "colab": {
          "base_uri": "https://localhost:8080/",
          "height": 254
        }
      },
      "cell_type": "code",
      "source": [
        "from string import punctuation\n",
        "from os import listdir\n",
        "from numpy import array\n",
        "from numpy import asarray\n",
        "from numpy import zeros\n",
        "from keras.preprocessing.text import Tokenizer\n",
        "from keras.preprocessing.sequence import pad_sequences\n",
        "from keras.models import Sequential\n",
        "from keras.layers import Dense\n",
        "from keras.layers import Flatten\n",
        "from keras.layers import Embedding\n",
        "from keras.layers.convolutional import Conv1D\n",
        "from keras.layers.convolutional import MaxPooling1D\n",
        "\n",
        "\n",
        "# turn a doc into clean tokens\n",
        "def clean_doc(doc, vocab):\n",
        "\t# split into tokens by white space\n",
        "\ttokens = doc.split()\n",
        "\t# remove punctuation from each token\n",
        "\ttable = str.maketrans('', '', punctuation)\n",
        "\ttokens = [w.translate(table) for w in tokens]\n",
        "\t# filter out tokens not in vocab\n",
        "\ttokens = [w for w in tokens if w in vocab]\n",
        "\ttokens = ' '.join(tokens)\n",
        "\treturn tokens\n",
        "\n",
        "# load all docs in a directory\n",
        "def process_docs(directory, vocab, is_train):\n",
        "\tdocuments = list()\n",
        "\t# walk through all files in the folder\n",
        "\tfor filename in listdir(directory):\n",
        "\t\t# skip any reviews in the test set\n",
        "\t\tif is_train and filename.startswith('cv9'):\n",
        "\t\t\tcontinue\n",
        "\t\tif not is_train and not filename.startswith('cv9'):\n",
        "\t\t\tcontinue\n",
        "\t\t# create the full path of the file to open\n",
        "\t\tpath = directory + '/' + filename\n",
        "\t\t# load the doc\n",
        "\t\tdoc = load_doc(path)\n",
        "\t\t# clean doc\n",
        "\t\ttokens = clean_doc(doc, vocab)\n",
        "\t\t# add to list\n",
        "\t\tdocuments.append(tokens)\n",
        "\treturn documents\n",
        "\n",
        "# load embedding as a dict\n",
        "def load_embedding(filename):\n",
        "\t# load embedding into memory, skip first line\n",
        "\tfile = open(filename,'r')\n",
        "\tlines = file.readlines()[1:]\n",
        "\tfile.close()\n",
        "\t# create a map of words to vectors\n",
        "\tembedding = dict()\n",
        "\tfor line in lines:\n",
        "\t\tparts = line.split()\n",
        "\t\t# key is string word, value is numpy array for vector\n",
        "\t\tembedding[parts[0]] = asarray(parts[1:], dtype='float32')\n",
        "\treturn embedding\n",
        "\n",
        "# create a weight matrix for the Embedding layer from a loaded embedding\n",
        "def get_weight_matrix(embedding, vocab):\n",
        "\t# total vocabulary size plus 0 for unknown words\n",
        "\tvocab_size = len(vocab) + 1\n",
        "\t# define weight matrix dimensions with all 0\n",
        "\tweight_matrix = zeros((vocab_size, 100))\n",
        "\t# step vocab, store vectors using the Tokenizer's integer mapping\n",
        "\tfor word, i in vocab.items():\n",
        "\t\tweight_matrix[i] = embedding.get(word)\n",
        "\treturn weight_matrix\n",
        "\n",
        "\n",
        "# load all training reviews\n",
        "positive_docs = process_docs(positiveReviewsDirectory, vocab, True)\n",
        "negative_docs = process_docs(negativeReviewsDirectory, vocab, True)\n",
        "train_docs = negative_docs + positive_docs\n",
        "\n",
        "# create the tokenizer\n",
        "tokenizer = Tokenizer()\n",
        "# fit the tokenizer on the documents\n",
        "tokenizer.fit_on_texts(train_docs)\n",
        "\n",
        "# sequence encode\n",
        "encoded_docs = tokenizer.texts_to_sequences(train_docs)\n",
        "# pad sequences\n",
        "max_length = max([len(s.split()) for s in train_docs])\n",
        "Xtrain = pad_sequences(encoded_docs, maxlen=max_length, padding='post')\n",
        "# define training labels\n",
        "ytrain = array([0 for _ in range(900)] + [1 for _ in range(900)])\n",
        "\n",
        "# load all test reviews\n",
        "positive_docs = process_docs(positiveReviewsDirectory, vocab, False)\n",
        "negative_docs = process_docs(negativeReviewsDirectory, vocab, False)\n",
        "test_docs = negative_docs + positive_docs\n",
        "# sequence encode\n",
        "encoded_docs = tokenizer.texts_to_sequences(test_docs)\n",
        "# pad sequences\n",
        "Xtest = pad_sequences(encoded_docs, maxlen=max_length, padding='post')\n",
        "# define test labels\n",
        "ytest = array([0 for _ in range(100)] + [1 for _ in range(100)])\n",
        "\n",
        "# define vocabulary size (largest integer value)\n",
        "vocab_size = len(tokenizer.word_index) + 1\n",
        "\n",
        "# load embedding from file\n",
        "raw_embedding = load_embedding(embedding_word2vec_filename)\n",
        "# get vectors in the right order\n",
        "embedding_vectors = get_weight_matrix(raw_embedding, tokenizer.word_index)\n",
        "# create the embedding layer\n",
        "embedding_layer = Embedding(vocab_size, 100, weights=[embedding_vectors], input_length=max_length, trainable=True)\n",
        "\n",
        "# define model\n",
        "model = Sequential()\n",
        "model.add(embedding_layer)\n",
        "model.add(Flatten())\n",
        "model.add(Dense(1, activation='sigmoid'))\n",
        "print(\"\\nModel Summary:\\n\", model.summary())\n",
        "# compile network\n",
        "model.compile(loss='binary_crossentropy', optimizer='adam', metrics=['accuracy'])\n",
        "# fit network\n",
        "model.fit(Xtrain, ytrain, epochs=10, verbose=2)\n",
        "# evaluate\n",
        "loss, acc = model.evaluate(Xtest, ytest, verbose=0)\n",
        "print('\\nTest Accuracy: %f' % (acc*100))"
      ],
      "execution_count": 0,
      "outputs": [
        {
          "output_type": "stream",
          "text": [
            "Using TensorFlow backend.\n"
          ],
          "name": "stderr"
        },
        {
          "output_type": "error",
          "ename": "NameError",
          "evalue": "ignored",
          "traceback": [
            "\u001b[0;31m---------------------------------------------------------------------------\u001b[0m",
            "\u001b[0;31mNameError\u001b[0m                                 Traceback (most recent call last)",
            "\u001b[0;32m<ipython-input-54-4a72aad686a2>\u001b[0m in \u001b[0;36m<module>\u001b[0;34m()\u001b[0m\n\u001b[1;32m     73\u001b[0m \u001b[0;34m\u001b[0m\u001b[0m\n\u001b[1;32m     74\u001b[0m \u001b[0;31m# load all training reviews\u001b[0m\u001b[0;34m\u001b[0m\u001b[0;34m\u001b[0m\u001b[0;34m\u001b[0m\u001b[0m\n\u001b[0;32m---> 75\u001b[0;31m \u001b[0mpositive_docs\u001b[0m \u001b[0;34m=\u001b[0m \u001b[0mprocess_docs\u001b[0m\u001b[0;34m(\u001b[0m\u001b[0mpositiveReviewsDirectory\u001b[0m\u001b[0;34m,\u001b[0m \u001b[0mvocab\u001b[0m\u001b[0;34m,\u001b[0m \u001b[0;32mTrue\u001b[0m\u001b[0;34m)\u001b[0m\u001b[0;34m\u001b[0m\u001b[0;34m\u001b[0m\u001b[0m\n\u001b[0m\u001b[1;32m     76\u001b[0m \u001b[0mnegative_docs\u001b[0m \u001b[0;34m=\u001b[0m \u001b[0mprocess_docs\u001b[0m\u001b[0;34m(\u001b[0m\u001b[0mnegativeReviewsDirectory\u001b[0m\u001b[0;34m,\u001b[0m \u001b[0mvocab\u001b[0m\u001b[0;34m,\u001b[0m \u001b[0;32mTrue\u001b[0m\u001b[0;34m)\u001b[0m\u001b[0;34m\u001b[0m\u001b[0;34m\u001b[0m\u001b[0m\n\u001b[1;32m     77\u001b[0m \u001b[0mtrain_docs\u001b[0m \u001b[0;34m=\u001b[0m \u001b[0mnegative_docs\u001b[0m \u001b[0;34m+\u001b[0m \u001b[0mpositive_docs\u001b[0m\u001b[0;34m\u001b[0m\u001b[0;34m\u001b[0m\u001b[0m\n",
            "\u001b[0;31mNameError\u001b[0m: name 'positiveReviewsDirectory' is not defined"
          ]
        }
      ]
    },
    {
      "metadata": {
        "id": "xBscvZOQTlnH",
        "colab_type": "code",
        "colab": {}
      },
      "cell_type": "code",
      "source": [
        ""
      ],
      "execution_count": 0,
      "outputs": []
    },
    {
      "metadata": {
        "id": "XHhVoUDPZpVP",
        "colab_type": "text"
      },
      "cell_type": "markdown",
      "source": [
        "\n",
        "\n",
        "---\n",
        "\n"
      ]
    },
    {
      "metadata": {
        "id": "zc4YyLihb8fp",
        "colab_type": "text"
      },
      "cell_type": "markdown",
      "source": [
        "Thank You! "
      ]
    },
    {
      "metadata": {
        "id": "Hv3hwEULdxfI",
        "colab_type": "code",
        "colab": {}
      },
      "cell_type": "code",
      "source": [
        ""
      ],
      "execution_count": 0,
      "outputs": []
    }
  ]
}